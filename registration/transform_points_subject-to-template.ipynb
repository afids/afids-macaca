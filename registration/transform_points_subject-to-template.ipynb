{
 "cells": [
  {
   "cell_type": "markdown",
   "metadata": {},
   "source": [
    "# Apply subject-to-template transforms to afids\n",
    "Applying ANTs-generated transforms to Slicer-generated .fcsv files\n",
    "## Preparations\n",
    "### Imports"
   ]
  },
  {
   "cell_type": "code",
   "execution_count": 2,
   "metadata": {},
   "outputs": [],
   "source": [
    "import os\n",
    "import pandas as pd\n",
    "from registration_utils import transform_fcsv"
   ]
  },
  {
   "cell_type": "markdown",
   "metadata": {},
   "source": [
    "### Define paths"
   ]
  },
  {
   "cell_type": "code",
   "execution_count": 9,
   "metadata": {},
   "outputs": [
    {
     "name": "stdout",
     "output_type": "stream",
     "text": [
      "Subjects: ['sub-032104' 'sub-032105' 'sub-032107' 'sub-032108' 'sub-032198'\n",
      " 'sub-032199' 'sub-032201' 'sub-032203' 'sub-032209' 'sub-032210'\n",
      " 'sub-032211' 'sub-032212' 'sub-032213' 'sub-032214' 'sub-032215'\n",
      " 'sub-032216']\n"
     ]
    }
   ],
   "source": [
    "# Macaca singe-subjects directory\n",
    "single_macaca = '/home/niko/MRI/afids/single_macaca'\n",
    "\n",
    "# Table with subjects\n",
    "subj_table_csv = os.path.join(single_macaca, 'macaque_subjects.csv')\n",
    "subj_table = pd.read_csv(subj_table_csv)\n",
    "# List of subject IDs\n",
    "subjects = subj_table['subject'].values\n",
    "print(f'Subjects: {subjects}')\n",
    "\n",
    "# Subject-to-template (NMTv2.0asym) warps folders\n",
    "# A. Registration preceded be setting the origin to PMJ\n",
    "warps_whole = os.path.join(single_macaca, 'registered')\n",
    "# B. Registration preceded by brain extraction (U-NET model)\n",
    "warps_brain = os.path.join(single_macaca, 'registered-brain')\n",
    "\n",
    "# Get afids-macaca root directory\n",
    "root = os.path.dirname(os.getcwd())\n",
    "\n",
    "# Folder with MEAN PHASE2 post-QC .fcsv files\n",
    "# (1 set of consensus afids per subjects)\n",
    "afids_inputs_means = os.path.join(root, 'data', 'PHASE2_output_afid_postQC_for_PHASE3')\n",
    "\n",
    "# Folder with ALL PHASE2 post-QC .fcsv files\n",
    "# (from all raters and sessions, total 96)\n",
    "afids_inputs_all = os.path.join(root, 'data', 'PHASE2_input_afid_postQC')\n",
    "\n",
    "# Folders for storing output PHASE 3 .fcsv files\n",
    "afids_outputs = os.path.join(root, 'data', 'PHASE3_RheMAP_transformed')\n",
    "# for outputs transformations calculated based on whole head with origin reset to PMJ\n",
    "afids_outputs_PMJ = os.path.join(afids_outputs, 'origin-PMJ')\n",
    "# for outputs transformations calculated after brain extracted\n",
    "afids_outputs_brain = os.path.join(afids_outputs, 'brain-extraction')\n",
    "# List of both folders\n",
    "out_folders = [afids_outputs_PMJ, afids_outputs_brain]"
   ]
  },
  {
   "cell_type": "markdown",
   "metadata": {},
   "source": [
    "## Apply transforms to points\n",
    "The transforms are run iteratively for each of 16 subjects.\n",
    "* First, the MEAN QC .fcsv files (1 per subject) are transformed\n",
    "* Second, ALL QC .fcsv files (96, all raters and sessions) are transformed\n",
    "  \n",
    "**Important note**: ANTs transforms on points work in the opposite direction (as compared to image transforms).\n",
    "\n",
    "For example, let's imagine we have to go from subject A to template B either using a linear transform (.mat) or a non-linear warp(.nii.gz)\n",
    "* Linear A-to-B transform for images: `antsApplyTransforms -i A -r B -o A-in-B -t A-to-B.mat`\n",
    "* Linear A-to-B transform for points: `antsApplyTransformsToPoints -i A -r B -o A-in-B -t [A-to-B.mat, 1]` (inverting the forward transform)\n",
    "* Nonlinear A-to-B transform for images: `antsApplyTransforms -i A -r B -o A-in-B -t A-to-B_1Warp.nii.gz` (for RheMAP we would use the `A-to-B_CompositeWarp.nii.gz`)\n",
    "* Nonlinear A-to-B transform for points: `antsApplyTransformsToPoints -i A -r B -o A-in-B A-to-B_1InverseWarp.nii.gz` (for RheMAP we would use the `B-to-A_CompositeWarp.nii.gz`)\n",
    "\n",
    "The application of the `antsApplyTransformsToPoints` command to Slicer-generated .fcsv files is implemented in the `transform_fcsv` function (imported from `registration_utils.py`). The function takes the following arguments:\n",
    "1. input fcsv: path to input Slicer fcsv file\n",
    "2. ouput fcsv: path to output Slicer fcsv file\n",
    "3. transform: path to ANTs transform file (either linear .mat or .nii.gz warp)\n",
    "4. invert: if 1, linear .mat is inverted"
   ]
  },
  {
   "cell_type": "code",
   "execution_count": 13,
   "metadata": {},
   "outputs": [
    {
     "name": "stdout",
     "output_type": "stream",
     "text": [
      "Transforming fiducials between sub-032104 and NMTv2.0asym\n",
      "Transforming fiducials between sub-032105 and NMTv2.0asym\n",
      "Transforming fiducials between sub-032107 and NMTv2.0asym\n",
      "Transforming fiducials between sub-032108 and NMTv2.0asym\n",
      "Transforming fiducials between sub-032198 and NMTv2.0asym\n",
      "Transforming fiducials between sub-032199 and NMTv2.0asym\n",
      "Transforming fiducials between sub-032201 and NMTv2.0asym\n",
      "Transforming fiducials between sub-032203 and NMTv2.0asym\n",
      "Transforming fiducials between sub-032209 and NMTv2.0asym\n",
      "Transforming fiducials between sub-032210 and NMTv2.0asym\n",
      "Transforming fiducials between sub-032211 and NMTv2.0asym\n",
      "Transforming fiducials between sub-032212 and NMTv2.0asym\n",
      "Transforming fiducials between sub-032213 and NMTv2.0asym\n",
      "Transforming fiducials between sub-032214 and NMTv2.0asym\n",
      "Transforming fiducials between sub-032215 and NMTv2.0asym\n",
      "Transforming fiducials between sub-032216 and NMTv2.0asym\n"
     ]
    }
   ],
   "source": [
    "# Iterate over subjects\n",
    "for subj in subjects:\n",
    "\n",
    "    print(f'Transforming fiducials between {subj} and NMTv2.0asym')    \n",
    "    \n",
    "    # Iterate over warp folders (calculated with or without pre-brain extraction)\n",
    "    for i, warps in enumerate([warps_whole, warps_brain]):\n",
    "        # set prefix (with or without '_brain')\n",
    "        prefix = f'{subj}_brain' if i == 1 else subj\n",
    "        # Fetch appropriate warp files\n",
    "        warp_linear = os.path.join(warps, f'{prefix}_to_NMTv2.0asym_Affine_0GenericAffine.mat')\n",
    "        warp_final = os.path.join(warps, f'{prefix}_to_NMTv2.0asym_CompositeWarp.nii.gz')\n",
    "        warp_final_inv = os.path.join(warps, f'{prefix}_to_NMTv2.0asym_InverseCompositeWarp.nii.gz')\n",
    "        # Set output subfolder according to warp calculation type\n",
    "        out_folder = out_folders[i]\n",
    "\n",
    "        ###############################################\n",
    "        # Transform subject MEAN QC consensus file\n",
    "        ###############################################\n",
    "        in_subj_mean = os.path.join(afids_inputs_means, f'{subj}_MEAN.fcsv')\n",
    "\n",
    "        # Run subject-to-template transforms\n",
    "        # linear\n",
    "        transform_fcsv(in_subj_mean,\n",
    "                       os.path.join(out_folder, 'MEAN', f'{subj}_MEAN_in_NMTv2.0asym_linear.fcsv'),\n",
    "                       warp_linear, invert=1)\n",
    "        # final\n",
    "        transform_fcsv(in_subj_mean,\n",
    "                       os.path.join(out_folder, 'MEAN', f'{subj}_MEAN_in_NMTv2.0asym_final.fcsv'),\n",
    "                       warp_final_inv, invert=0)\n",
    "\n",
    "        ###############################################\n",
    "        # Transform ALL QC .fcsv files for this subject\n",
    "        ###############################################\n",
    "        in_subj_all = [os.path.join(afids_inputs_all, f) \n",
    "                       for f in os.listdir(afids_inputs_all) if subj in f]\n",
    "        \n",
    "        for in_subj in in_subj_all:\n",
    "            # Get ID for fid32 file\n",
    "            fid32_id = '_'.join(os.path.basename(in_subj).split('.')[0].split('_')[1:])\n",
    "            # Run subject-to-template transforms\n",
    "            # linear\n",
    "            transform_fcsv(in_subj,\n",
    "                        os.path.join(out_folder, 'ALL', f'{fid32_id}_in_NMTv2.0asym_linear.fcsv'),\n",
    "                        warp_linear, invert=1)\n",
    "            # final\n",
    "            transform_fcsv(in_subj,\n",
    "                        os.path.join(out_folder, 'ALL', f'{fid32_id}_in_NMTv2.0asym_final.fcsv'),\n",
    "                        warp_final_inv, invert=0)"
   ]
  },
  {
   "cell_type": "code",
   "execution_count": null,
   "metadata": {},
   "outputs": [],
   "source": []
  }
 ],
 "metadata": {
  "interpreter": {
   "hash": "dd1484fcdcd68531bd3a6b3af3c28613fbe5a88cd7f1d00b7e7f4dfbbf3f0c01"
  },
  "kernelspec": {
   "display_name": "Python 3.9.7 ('base')",
   "language": "python",
   "name": "python3"
  },
  "language_info": {
   "codemirror_mode": {
    "name": "ipython",
    "version": 3
   },
   "file_extension": ".py",
   "mimetype": "text/x-python",
   "name": "python",
   "nbconvert_exporter": "python",
   "pygments_lexer": "ipython3",
   "version": "3.9.7"
  },
  "orig_nbformat": 4
 },
 "nbformat": 4,
 "nbformat_minor": 2
}
