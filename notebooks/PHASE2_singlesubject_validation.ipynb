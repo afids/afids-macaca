{
 "cells": [
  {
   "cell_type": "markdown",
   "metadata": {
    "colab_type": "text",
    "id": "I_iwzgReK95V"
   },
   "source": [
    "# Phase 2: Protocol Validation for Individual Subjects¶\n",
    "\n",
    "This notebook contains results validating the AFID protocol on individual subject scans from several openly shared datasets (Newcastle, ION, ECNU (Kwok), and AMU). The protocol and specific instructions for placing AFIDs were finalized on a consensus basis among raters and participants of the afids-macaca project on BrainWeb (Phase 1).\n",
    "\n",
    "To be more sensitive to discrepancies in rater placements, we defined outliers as those placements with a value of > 1.5 mm (3 voxels) from the mean, although analysis were performed with and without outlier removal.\n",
    "\n",
    "The first step is to initialize the variables, define useful functions, and load all the raw fcsv data into df_raters.\n"
   ]
  },
  {
   "cell_type": "code",
   "execution_count": 1,
   "metadata": {
    "colab": {},
    "colab_type": "code",
    "id": "3kYMkDZcK7lN"
   },
   "outputs": [
    {
     "name": "stderr",
     "output_type": "stream",
     "text": [
      "Registered S3 methods overwritten by 'ggplot2':\n",
      "  method         from \n",
      "  [.quosures     rlang\n",
      "  c.quosures     rlang\n",
      "  print.quosures rlang\n"
     ]
    }
   ],
   "source": [
    "# initialize libraries\n",
    "library(plyr)\n",
    "library(digest)\n",
    "library(reshape2)\n",
    "library(ggplot2)\n",
    "#library(\"plot3D\")"
   ]
  },
  {
   "cell_type": "code",
   "execution_count": 2,
   "metadata": {
    "colab": {},
    "colab_type": "code",
    "id": "xSZ17vISMDIj"
   },
   "outputs": [],
   "source": [
    "# useful functions\n",
    "\n",
    "# calculate the distance between two sets of coordinates\n",
    "dist3D <- function(coord1, coord2) { # vector X,Y,Z\n",
    "        xdist <- coord1[1] - coord2[1] # could also write as coord1$X, etc.\n",
    "        ydist <- coord1[2] - coord2[2]\n",
    "        zdist <- coord1[3] - coord2[3]\n",
    "        return(as.numeric(sqrt(xdist^2+ydist^2+zdist^2)))\n",
    "}\n",
    "\n",
    "# calculate the pairwise distance between an array of 3D coordinates\n",
    "pairwise_dist3D <- function(temp_coords) { # labeled X,Y,Z\n",
    "        N <- length(temp_coords$X)\n",
    "        dist_vec <- rep(0,N) # create vector\n",
    "        sum_dist <- 0 # initialize to zero\n",
    "        count <- 0\n",
    "        for (i in 1:(N-1)) {\n",
    "                for (j in (i+1):N) {\n",
    "                        if (i != j) {\n",
    "                                count <- count + 1\n",
    "                                first_coord <- temp_coords[i,]\n",
    "                                second_coord <- temp_coords[j,]\n",
    "                                curr_dist <- dist3D(first_coord, second_coord)\n",
    "                                sum_dist <- sum_dist + curr_dist\n",
    "                                dist_vec[count] <- curr_dist\n",
    "                        }\n",
    "                }\n",
    "        }\n",
    "        return(c(as.numeric(mean(dist_vec)),as.numeric(sd(dist_vec))))\n",
    "}"
   ]
  },
  {
   "cell_type": "code",
   "execution_count": 3,
   "metadata": {
    "colab": {
     "base_uri": "https://localhost:8080/",
     "height": 198
    },
    "colab_type": "code",
    "id": "ti5T7Qq8MLM8",
    "outputId": "4565bcf8-02e3-4f9f-bc6e-e5af3c7b6109"
   },
   "outputs": [
    {
     "data": {
      "text/html": [
       "<table>\n",
       "<thead><tr><th scope=col>fid</th><th scope=col>X</th><th scope=col>Y</th><th scope=col>Z</th><th scope=col>rater</th><th scope=col>subject</th><th scope=col>mri_type</th><th scope=col>session</th><th scope=col>name</th><th scope=col>description</th></tr></thead>\n",
       "<tbody>\n",
       "\t<tr><td>1                             </td><td>0.608                         </td><td> -1.578                       </td><td>  0.431                       </td><td>1                             </td><td>sub-032104                    </td><td>T1                            </td><td>1                             </td><td>1                             </td><td>AC                            </td></tr>\n",
       "\t<tr><td>2                             </td><td>1.538                         </td><td>-14.292                       </td><td> -4.865                       </td><td>1                             </td><td>sub-032104                    </td><td>T1                            </td><td>1                             </td><td>2                             </td><td>PC                            </td></tr>\n",
       "\t<tr><td>3                             </td><td>1.398                         </td><td>-20.426                       </td><td>-10.521                       </td><td>1                             </td><td>sub-032104                    </td><td>T1                            </td><td>1                             </td><td>3                             </td><td>infracollicular sulcus        </td></tr>\n",
       "\t<tr><td>4                             </td><td>1.125                         </td><td> -9.544                       </td><td>-13.637                       </td><td>1                             </td><td>sub-032104                    </td><td>T1                            </td><td>1                             </td><td>4                             </td><td>PMJ                           </td></tr>\n",
       "\t<tr><td>5                             </td><td>0.994                         </td><td> -7.869                       </td><td> -8.325                       </td><td>1                             </td><td>sub-032104                    </td><td>T1                            </td><td>1                             </td><td>5                             </td><td>superior interpeduncular fossa</td></tr>\n",
       "\t<tr><td>6                             </td><td>8.551                         </td><td>-12.781                       </td><td>-10.230                       </td><td>1                             </td><td>sub-032104                    </td><td>T1                            </td><td>1                             </td><td>6                             </td><td>R superior LMS                </td></tr>\n",
       "</tbody>\n",
       "</table>\n"
      ],
      "text/latex": [
       "\\begin{tabular}{r|llllllllll}\n",
       " fid & X & Y & Z & rater & subject & mri\\_type & session & name & description\\\\\n",
       "\\hline\n",
       "\t 1                              & 0.608                          &  -1.578                        &   0.431                        & 1                              & sub-032104                     & T1                             & 1                              & 1                              & AC                            \\\\\n",
       "\t 2                              & 1.538                          & -14.292                        &  -4.865                        & 1                              & sub-032104                     & T1                             & 1                              & 2                              & PC                            \\\\\n",
       "\t 3                              & 1.398                          & -20.426                        & -10.521                        & 1                              & sub-032104                     & T1                             & 1                              & 3                              & infracollicular sulcus        \\\\\n",
       "\t 4                              & 1.125                          &  -9.544                        & -13.637                        & 1                              & sub-032104                     & T1                             & 1                              & 4                              & PMJ                           \\\\\n",
       "\t 5                              & 0.994                          &  -7.869                        &  -8.325                        & 1                              & sub-032104                     & T1                             & 1                              & 5                              & superior interpeduncular fossa\\\\\n",
       "\t 6                              & 8.551                          & -12.781                        & -10.230                        & 1                              & sub-032104                     & T1                             & 1                              & 6                              & R superior LMS                \\\\\n",
       "\\end{tabular}\n"
      ],
      "text/markdown": [
       "\n",
       "| fid | X | Y | Z | rater | subject | mri_type | session | name | description |\n",
       "|---|---|---|---|---|---|---|---|---|---|\n",
       "| 1                              | 0.608                          |  -1.578                        |   0.431                        | 1                              | sub-032104                     | T1                             | 1                              | 1                              | AC                             |\n",
       "| 2                              | 1.538                          | -14.292                        |  -4.865                        | 1                              | sub-032104                     | T1                             | 1                              | 2                              | PC                             |\n",
       "| 3                              | 1.398                          | -20.426                        | -10.521                        | 1                              | sub-032104                     | T1                             | 1                              | 3                              | infracollicular sulcus         |\n",
       "| 4                              | 1.125                          |  -9.544                        | -13.637                        | 1                              | sub-032104                     | T1                             | 1                              | 4                              | PMJ                            |\n",
       "| 5                              | 0.994                          |  -7.869                        |  -8.325                        | 1                              | sub-032104                     | T1                             | 1                              | 5                              | superior interpeduncular fossa |\n",
       "| 6                              | 8.551                          | -12.781                        | -10.230                        | 1                              | sub-032104                     | T1                             | 1                              | 6                              | R superior LMS                 |\n",
       "\n"
      ],
      "text/plain": [
       "  fid X     Y       Z       rater subject    mri_type session name\n",
       "1 1   0.608  -1.578   0.431 1     sub-032104 T1       1       1   \n",
       "2 2   1.538 -14.292  -4.865 1     sub-032104 T1       1       2   \n",
       "3 3   1.398 -20.426 -10.521 1     sub-032104 T1       1       3   \n",
       "4 4   1.125  -9.544 -13.637 1     sub-032104 T1       1       4   \n",
       "5 5   0.994  -7.869  -8.325 1     sub-032104 T1       1       5   \n",
       "6 6   8.551 -12.781 -10.230 1     sub-032104 T1       1       6   \n",
       "  description                   \n",
       "1 AC                            \n",
       "2 PC                            \n",
       "3 infracollicular sulcus        \n",
       "4 PMJ                           \n",
       "5 superior interpeduncular fossa\n",
       "6 R superior LMS                "
      ]
     },
     "metadata": {},
     "output_type": "display_data"
    }
   ],
   "source": [
    "# initialize variables and load in raw fcsv data into df_raters\n",
    "# not using PHASE2_input_afid as 1 case of L/R flipping which was fixed postQC\n",
    "setwd('~/Documents/GitHub/afids-macaca/data/PHASE2_input_afid/')\n",
    "\n",
    "df_afids <- read.table('~/Documents/GitHub/afids-macaca/etc/afids.csv', sep=\",\", header=TRUE)\n",
    "\n",
    "df_raters <- data.frame(fid=integer(),X=double(),Y=double(),Z=double(),rater=factor(),\n",
    "                        subject=factor(),mri_type=factor(),session=integer(),\n",
    "                        name=character(),description=character(),stringsAsFactors = FALSE)\n",
    "csv_files <- list.files('.', \"*.fcsv\")\n",
    "\n",
    "for (i in 1:length(csv_files)) {\n",
    "    curr_split <- unlist(strsplit(csv_files[i],\"_\"))\n",
    "    if (length(curr_split)>1) { # extract name and session data\n",
    "        rater_subject <- curr_split[2]\n",
    "        rater_mri_type <- curr_split[3]\n",
    "        rater_name <- curr_split[4]\n",
    "        rater_session <- as.numeric(unlist(strsplit(curr_split[5],\"[.]\"))[1])\n",
    "    }\n",
    "    curr_rater <- read.table(csv_files[i], header=FALSE, sep=\",\")\n",
    "    df_rater <- data.frame(fid = 1:length(curr_rater$V1))\n",
    "\n",
    "    df_rater <- cbind(df_rater,X=curr_rater[2],Y=curr_rater[3],Z=curr_rater[4],rater=rater_name,\n",
    "                    subject=rater_subject,mri_type=rater_mri_type,\n",
    "                    session=rater_session,name=curr_rater[12],\n",
    "                    description=curr_rater[13])\n",
    "  \n",
    "    df_rater <- rename(df_rater, c(\"V2\"=\"X\",\"V3\"=\"Y\",\"V4\"=\"Z\",\"V12\"=\"name\",\"V13\"=\"description\"))\n",
    "    df_raters <- rbind(df_raters,df_rater)\n",
    "}\n",
    "\n",
    "# modification due to different raters contributing to PHASE2\n",
    "levels(df_raters$rater) <- c(1,2,3,6,8,4,7,9,10) # rater numbers put in order they appear (TODO: ideally string parse to handle this)\n",
    "\n",
    "head(df_raters)"
   ]
  },
  {
   "cell_type": "code",
   "execution_count": 4,
   "metadata": {},
   "outputs": [
    {
     "data": {
      "text/html": [
       "<ol class=list-inline>\n",
       "\t<li>'sub-032104'</li>\n",
       "\t<li>'sub-032105'</li>\n",
       "\t<li>'sub-032107'</li>\n",
       "\t<li>'sub-032108'</li>\n",
       "\t<li>'sub-032198'</li>\n",
       "\t<li>'sub-032199'</li>\n",
       "\t<li>'sub-032201'</li>\n",
       "\t<li>'sub-032203'</li>\n",
       "\t<li>'sub-032209'</li>\n",
       "\t<li>'sub-032210'</li>\n",
       "\t<li>'sub-032211'</li>\n",
       "\t<li>'sub-032212'</li>\n",
       "\t<li>'sub-032213'</li>\n",
       "\t<li>'sub-032214'</li>\n",
       "\t<li>'sub-032215'</li>\n",
       "\t<li>'sub-032216'</li>\n",
       "</ol>\n"
      ],
      "text/latex": [
       "\\begin{enumerate*}\n",
       "\\item 'sub-032104'\n",
       "\\item 'sub-032105'\n",
       "\\item 'sub-032107'\n",
       "\\item 'sub-032108'\n",
       "\\item 'sub-032198'\n",
       "\\item 'sub-032199'\n",
       "\\item 'sub-032201'\n",
       "\\item 'sub-032203'\n",
       "\\item 'sub-032209'\n",
       "\\item 'sub-032210'\n",
       "\\item 'sub-032211'\n",
       "\\item 'sub-032212'\n",
       "\\item 'sub-032213'\n",
       "\\item 'sub-032214'\n",
       "\\item 'sub-032215'\n",
       "\\item 'sub-032216'\n",
       "\\end{enumerate*}\n"
      ],
      "text/markdown": [
       "1. 'sub-032104'\n",
       "2. 'sub-032105'\n",
       "3. 'sub-032107'\n",
       "4. 'sub-032108'\n",
       "5. 'sub-032198'\n",
       "6. 'sub-032199'\n",
       "7. 'sub-032201'\n",
       "8. 'sub-032203'\n",
       "9. 'sub-032209'\n",
       "10. 'sub-032210'\n",
       "11. 'sub-032211'\n",
       "12. 'sub-032212'\n",
       "13. 'sub-032213'\n",
       "14. 'sub-032214'\n",
       "15. 'sub-032215'\n",
       "16. 'sub-032216'\n",
       "\n",
       "\n"
      ],
      "text/plain": [
       " [1] \"sub-032104\" \"sub-032105\" \"sub-032107\" \"sub-032108\" \"sub-032198\"\n",
       " [6] \"sub-032199\" \"sub-032201\" \"sub-032203\" \"sub-032209\" \"sub-032210\"\n",
       "[11] \"sub-032211\" \"sub-032212\" \"sub-032213\" \"sub-032214\" \"sub-032215\"\n",
       "[16] \"sub-032216\""
      ]
     },
     "metadata": {},
     "output_type": "display_data"
    }
   ],
   "source": [
    "levels(df_raters$subject)"
   ]
  },
  {
   "cell_type": "markdown",
   "metadata": {},
   "source": [
    "# Subject Averages\n",
    "\n",
    "For each subject, we calculate the mean value for each afid point and store it in a separate .fcsv file so that it can be loaded back into 3D Slicer.\n",
    "\n",
    "Deviation of the values by > 1.5 mm will be classified as an outlier."
   ]
  },
  {
   "cell_type": "code",
   "execution_count": 5,
   "metadata": {},
   "outputs": [],
   "source": [
    "# start by calculating mean coordinates\n",
    "df_subject_mean <- data.frame(fid=integer(),X=double(),Y=double(),Z=double(),\n",
    "                        subject=factor(), name=factor(),description=character(),stringsAsFactors = FALSE)\n",
    "df_subject_sd <- data.frame(fid=integer(),X=double(),Y=double(),Z=double(),\n",
    "                        subject=factor(), name=factor(),description=character(),stringsAsFactors = FALSE)\n",
    "\n",
    "# iterate over each subject and compute the mean and standard deviation\n",
    "for (curr_subject in levels(df_raters$subject)) {\n",
    "    for (i in 1:32) { # for each AFID32 point, calculate the mean\n",
    "        df_subset <- subset(df_raters, fid == i & subject == curr_subject)\n",
    "        curr_fid_name <- df_afids$name[i]\n",
    "        curr_fid_desc <- df_afids$description[i]\n",
    "        df_curr_fid <- data.frame(fid = i, X = mean(df_subset$X), Y = mean(df_subset$Y), Z = mean(df_subset$Z),\n",
    "                        subject=curr_subject, name=curr_fid_name, description=curr_fid_desc)\n",
    "        df_subject_mean <- rbind(df_subject_mean, df_curr_fid)\n",
    "        df_curr_fid_sd <- data.frame(fid = i, X = sd(df_subset$X), Y = sd(df_subset$Y), Z = sd(df_subset$Z),\n",
    "                        subject=curr_subject, name=curr_fid_name, description=curr_fid_desc)\n",
    "        df_subject_sd <- rbind(df_subject_sd, df_curr_fid_sd)\n",
    "    }\n",
    "}"
   ]
  },
  {
   "cell_type": "code",
   "execution_count": 6,
   "metadata": {},
   "outputs": [
    {
     "data": {
      "text/html": [
       "<table>\n",
       "<thead><tr><th scope=col>fid</th><th scope=col>X</th><th scope=col>Y</th><th scope=col>Z</th><th scope=col>subject</th><th scope=col>name</th><th scope=col>description</th></tr></thead>\n",
       "<tbody>\n",
       "\t<tr><td>1                             </td><td>0.4517778                     </td><td> -1.664889                    </td><td>  0.2321111                   </td><td>sub-032104                    </td><td>1                             </td><td>AC                            </td></tr>\n",
       "\t<tr><td>2                             </td><td>1.2526667                     </td><td>-14.216000                    </td><td> -4.6942222                   </td><td>sub-032104                    </td><td>2                             </td><td>PC                            </td></tr>\n",
       "\t<tr><td>3                             </td><td>1.4067778                     </td><td>-20.268556                    </td><td>-10.7152222                   </td><td>sub-032104                    </td><td>3                             </td><td>infracollicular sulcus        </td></tr>\n",
       "\t<tr><td>4                             </td><td>0.9527778                     </td><td> -9.504889                    </td><td>-13.4632222                   </td><td>sub-032104                    </td><td>4                             </td><td>PMJ                           </td></tr>\n",
       "\t<tr><td>5                             </td><td>0.9194444                     </td><td> -7.663444                    </td><td> -8.3386667                   </td><td>sub-032104                    </td><td>5                             </td><td>superior interpeduncular fossa</td></tr>\n",
       "\t<tr><td>6                             </td><td>8.2953333                     </td><td>-13.433000                    </td><td>-10.2394444                   </td><td>sub-032104                    </td><td>6                             </td><td>R superior LMS                </td></tr>\n",
       "</tbody>\n",
       "</table>\n"
      ],
      "text/latex": [
       "\\begin{tabular}{r|lllllll}\n",
       " fid & X & Y & Z & subject & name & description\\\\\n",
       "\\hline\n",
       "\t 1                              & 0.4517778                      &  -1.664889                     &   0.2321111                    & sub-032104                     & 1                              & AC                            \\\\\n",
       "\t 2                              & 1.2526667                      & -14.216000                     &  -4.6942222                    & sub-032104                     & 2                              & PC                            \\\\\n",
       "\t 3                              & 1.4067778                      & -20.268556                     & -10.7152222                    & sub-032104                     & 3                              & infracollicular sulcus        \\\\\n",
       "\t 4                              & 0.9527778                      &  -9.504889                     & -13.4632222                    & sub-032104                     & 4                              & PMJ                           \\\\\n",
       "\t 5                              & 0.9194444                      &  -7.663444                     &  -8.3386667                    & sub-032104                     & 5                              & superior interpeduncular fossa\\\\\n",
       "\t 6                              & 8.2953333                      & -13.433000                     & -10.2394444                    & sub-032104                     & 6                              & R superior LMS                \\\\\n",
       "\\end{tabular}\n"
      ],
      "text/markdown": [
       "\n",
       "| fid | X | Y | Z | subject | name | description |\n",
       "|---|---|---|---|---|---|---|\n",
       "| 1                              | 0.4517778                      |  -1.664889                     |   0.2321111                    | sub-032104                     | 1                              | AC                             |\n",
       "| 2                              | 1.2526667                      | -14.216000                     |  -4.6942222                    | sub-032104                     | 2                              | PC                             |\n",
       "| 3                              | 1.4067778                      | -20.268556                     | -10.7152222                    | sub-032104                     | 3                              | infracollicular sulcus         |\n",
       "| 4                              | 0.9527778                      |  -9.504889                     | -13.4632222                    | sub-032104                     | 4                              | PMJ                            |\n",
       "| 5                              | 0.9194444                      |  -7.663444                     |  -8.3386667                    | sub-032104                     | 5                              | superior interpeduncular fossa |\n",
       "| 6                              | 8.2953333                      | -13.433000                     | -10.2394444                    | sub-032104                     | 6                              | R superior LMS                 |\n",
       "\n"
      ],
      "text/plain": [
       "  fid X         Y          Z           subject    name\n",
       "1 1   0.4517778  -1.664889   0.2321111 sub-032104 1   \n",
       "2 2   1.2526667 -14.216000  -4.6942222 sub-032104 2   \n",
       "3 3   1.4067778 -20.268556 -10.7152222 sub-032104 3   \n",
       "4 4   0.9527778  -9.504889 -13.4632222 sub-032104 4   \n",
       "5 5   0.9194444  -7.663444  -8.3386667 sub-032104 5   \n",
       "6 6   8.2953333 -13.433000 -10.2394444 sub-032104 6   \n",
       "  description                   \n",
       "1 AC                            \n",
       "2 PC                            \n",
       "3 infracollicular sulcus        \n",
       "4 PMJ                           \n",
       "5 superior interpeduncular fossa\n",
       "6 R superior LMS                "
      ]
     },
     "metadata": {},
     "output_type": "display_data"
    }
   ],
   "source": [
    "head(df_subject_mean)"
   ]
  },
  {
   "cell_type": "code",
   "execution_count": 7,
   "metadata": {},
   "outputs": [],
   "source": [
    "# Create output fcsv file for each included subject\n",
    "\n",
    "####################################################################\n",
    "# EXPORT MEAN FIDUCIAL LOCATIONS AS FCSV FILE (with outliers filtered out)\n",
    "####################################################################\n",
    "setwd('~/Documents/GitHub/afids-macaca/data/PHASE2_output_afid/')\n",
    "\n",
    "for (curr_filename in levels(df_subject_mean$subject)) { # looping on each subject level\n",
    "        curr_filename\n",
    "        curr_mean <- subset(df_subject_mean, subject==curr_filename)\n",
    "        curr_fcsv <- data.frame(id=paste('vtkMRMLMarkupsFiducialNode',curr_mean$fid,sep=\"_\"),x=curr_mean$X,y=curr_mean$Y,z=curr_mean$Z,\n",
    "                                       ow=0,ox=0,oy=0,oz=1,\n",
    "                                       vis=1,sel=1,lock=1,label=curr_mean$fid,desc=df_afids$description,\n",
    "                                       associatedNodeID='vtkMRMLScalarVolumeNode1',stringsAsFactors = FALSE)\n",
    "        \n",
    "        # write out table (need to use file connection approach because of header information)\n",
    "        curr_fcsv_name <- paste0(curr_filename,'_MEAN.fcsv')\n",
    "        fio <- file(curr_fcsv_name, open=\"wt\")\n",
    "        writeLines(paste('# Markups fiducial file version = 4.6'),fio)\n",
    "        writeLines(paste('# CoordinateSystem = 0'),fio)\n",
    "        writeLines(paste('# columns = id,x,y,z,ow,ox,oy,oz,vis,sel,lock,label,desc,associatedNodeID'),fio)\n",
    "        write.table(curr_fcsv,fio,sep=',',quote=FALSE,col.names=FALSE,row.names=FALSE)\n",
    "        close(fio)\n",
    "}"
   ]
  },
  {
   "cell_type": "code",
   "execution_count": 8,
   "metadata": {},
   "outputs": [
    {
     "data": {
      "text/html": [
       "<table>\n",
       "<thead><tr><th scope=col>fid</th><th scope=col>X</th><th scope=col>Y</th><th scope=col>Z</th><th scope=col>subject</th><th scope=col>name</th><th scope=col>description</th></tr></thead>\n",
       "<tbody>\n",
       "\t<tr><td>1                             </td><td>0.4517778                     </td><td> -1.664889                    </td><td>  0.2321111                   </td><td>sub-032104                    </td><td>1                             </td><td>AC                            </td></tr>\n",
       "\t<tr><td>2                             </td><td>1.2526667                     </td><td>-14.216000                    </td><td> -4.6942222                   </td><td>sub-032104                    </td><td>2                             </td><td>PC                            </td></tr>\n",
       "\t<tr><td>3                             </td><td>1.4067778                     </td><td>-20.268556                    </td><td>-10.7152222                   </td><td>sub-032104                    </td><td>3                             </td><td>infracollicular sulcus        </td></tr>\n",
       "\t<tr><td>4                             </td><td>0.9527778                     </td><td> -9.504889                    </td><td>-13.4632222                   </td><td>sub-032104                    </td><td>4                             </td><td>PMJ                           </td></tr>\n",
       "\t<tr><td>5                             </td><td>0.9194444                     </td><td> -7.663444                    </td><td> -8.3386667                   </td><td>sub-032104                    </td><td>5                             </td><td>superior interpeduncular fossa</td></tr>\n",
       "\t<tr><td>6                             </td><td>8.2953333                     </td><td>-13.433000                    </td><td>-10.2394444                   </td><td>sub-032104                    </td><td>6                             </td><td>R superior LMS                </td></tr>\n",
       "</tbody>\n",
       "</table>\n"
      ],
      "text/latex": [
       "\\begin{tabular}{r|lllllll}\n",
       " fid & X & Y & Z & subject & name & description\\\\\n",
       "\\hline\n",
       "\t 1                              & 0.4517778                      &  -1.664889                     &   0.2321111                    & sub-032104                     & 1                              & AC                            \\\\\n",
       "\t 2                              & 1.2526667                      & -14.216000                     &  -4.6942222                    & sub-032104                     & 2                              & PC                            \\\\\n",
       "\t 3                              & 1.4067778                      & -20.268556                     & -10.7152222                    & sub-032104                     & 3                              & infracollicular sulcus        \\\\\n",
       "\t 4                              & 0.9527778                      &  -9.504889                     & -13.4632222                    & sub-032104                     & 4                              & PMJ                           \\\\\n",
       "\t 5                              & 0.9194444                      &  -7.663444                     &  -8.3386667                    & sub-032104                     & 5                              & superior interpeduncular fossa\\\\\n",
       "\t 6                              & 8.2953333                      & -13.433000                     & -10.2394444                    & sub-032104                     & 6                              & R superior LMS                \\\\\n",
       "\\end{tabular}\n"
      ],
      "text/markdown": [
       "\n",
       "| fid | X | Y | Z | subject | name | description |\n",
       "|---|---|---|---|---|---|---|\n",
       "| 1                              | 0.4517778                      |  -1.664889                     |   0.2321111                    | sub-032104                     | 1                              | AC                             |\n",
       "| 2                              | 1.2526667                      | -14.216000                     |  -4.6942222                    | sub-032104                     | 2                              | PC                             |\n",
       "| 3                              | 1.4067778                      | -20.268556                     | -10.7152222                    | sub-032104                     | 3                              | infracollicular sulcus         |\n",
       "| 4                              | 0.9527778                      |  -9.504889                     | -13.4632222                    | sub-032104                     | 4                              | PMJ                            |\n",
       "| 5                              | 0.9194444                      |  -7.663444                     |  -8.3386667                    | sub-032104                     | 5                              | superior interpeduncular fossa |\n",
       "| 6                              | 8.2953333                      | -13.433000                     | -10.2394444                    | sub-032104                     | 6                              | R superior LMS                 |\n",
       "\n"
      ],
      "text/plain": [
       "  fid X         Y          Z           subject    name\n",
       "1 1   0.4517778  -1.664889   0.2321111 sub-032104 1   \n",
       "2 2   1.2526667 -14.216000  -4.6942222 sub-032104 2   \n",
       "3 3   1.4067778 -20.268556 -10.7152222 sub-032104 3   \n",
       "4 4   0.9527778  -9.504889 -13.4632222 sub-032104 4   \n",
       "5 5   0.9194444  -7.663444  -8.3386667 sub-032104 5   \n",
       "6 6   8.2953333 -13.433000 -10.2394444 sub-032104 6   \n",
       "  description                   \n",
       "1 AC                            \n",
       "2 PC                            \n",
       "3 infracollicular sulcus        \n",
       "4 PMJ                           \n",
       "5 superior interpeduncular fossa\n",
       "6 R superior LMS                "
      ]
     },
     "metadata": {},
     "output_type": "display_data"
    },
    {
     "data": {
      "text/html": [
       "<ol class=list-inline>\n",
       "\t<li>'sub-032104'</li>\n",
       "\t<li>'sub-032105'</li>\n",
       "\t<li>'sub-032107'</li>\n",
       "\t<li>'sub-032108'</li>\n",
       "\t<li>'sub-032198'</li>\n",
       "\t<li>'sub-032199'</li>\n",
       "\t<li>'sub-032201'</li>\n",
       "\t<li>'sub-032203'</li>\n",
       "\t<li>'sub-032209'</li>\n",
       "\t<li>'sub-032210'</li>\n",
       "\t<li>'sub-032211'</li>\n",
       "\t<li>'sub-032212'</li>\n",
       "\t<li>'sub-032213'</li>\n",
       "\t<li>'sub-032214'</li>\n",
       "\t<li>'sub-032215'</li>\n",
       "\t<li>'sub-032216'</li>\n",
       "</ol>\n"
      ],
      "text/latex": [
       "\\begin{enumerate*}\n",
       "\\item 'sub-032104'\n",
       "\\item 'sub-032105'\n",
       "\\item 'sub-032107'\n",
       "\\item 'sub-032108'\n",
       "\\item 'sub-032198'\n",
       "\\item 'sub-032199'\n",
       "\\item 'sub-032201'\n",
       "\\item 'sub-032203'\n",
       "\\item 'sub-032209'\n",
       "\\item 'sub-032210'\n",
       "\\item 'sub-032211'\n",
       "\\item 'sub-032212'\n",
       "\\item 'sub-032213'\n",
       "\\item 'sub-032214'\n",
       "\\item 'sub-032215'\n",
       "\\item 'sub-032216'\n",
       "\\end{enumerate*}\n"
      ],
      "text/markdown": [
       "1. 'sub-032104'\n",
       "2. 'sub-032105'\n",
       "3. 'sub-032107'\n",
       "4. 'sub-032108'\n",
       "5. 'sub-032198'\n",
       "6. 'sub-032199'\n",
       "7. 'sub-032201'\n",
       "8. 'sub-032203'\n",
       "9. 'sub-032209'\n",
       "10. 'sub-032210'\n",
       "11. 'sub-032211'\n",
       "12. 'sub-032212'\n",
       "13. 'sub-032213'\n",
       "14. 'sub-032214'\n",
       "15. 'sub-032215'\n",
       "16. 'sub-032216'\n",
       "\n",
       "\n"
      ],
      "text/plain": [
       " [1] \"sub-032104\" \"sub-032105\" \"sub-032107\" \"sub-032108\" \"sub-032198\"\n",
       " [6] \"sub-032199\" \"sub-032201\" \"sub-032203\" \"sub-032209\" \"sub-032210\"\n",
       "[11] \"sub-032211\" \"sub-032212\" \"sub-032213\" \"sub-032214\" \"sub-032215\"\n",
       "[16] \"sub-032216\""
      ]
     },
     "metadata": {},
     "output_type": "display_data"
    },
    {
     "data": {
      "text/html": [
       "<table>\n",
       "<thead><tr><th scope=col>fid</th><th scope=col>X</th><th scope=col>Y</th><th scope=col>Z</th><th scope=col>rater</th><th scope=col>subject</th><th scope=col>mri_type</th><th scope=col>session</th><th scope=col>name</th><th scope=col>description</th></tr></thead>\n",
       "<tbody>\n",
       "\t<tr><td>1                             </td><td>0.608                         </td><td> -1.578                       </td><td>  0.431                       </td><td>1                             </td><td>sub-032104                    </td><td>T1                            </td><td>1                             </td><td>1                             </td><td>AC                            </td></tr>\n",
       "\t<tr><td>2                             </td><td>1.538                         </td><td>-14.292                       </td><td> -4.865                       </td><td>1                             </td><td>sub-032104                    </td><td>T1                            </td><td>1                             </td><td>2                             </td><td>PC                            </td></tr>\n",
       "\t<tr><td>3                             </td><td>1.398                         </td><td>-20.426                       </td><td>-10.521                       </td><td>1                             </td><td>sub-032104                    </td><td>T1                            </td><td>1                             </td><td>3                             </td><td>infracollicular sulcus        </td></tr>\n",
       "\t<tr><td>4                             </td><td>1.125                         </td><td> -9.544                       </td><td>-13.637                       </td><td>1                             </td><td>sub-032104                    </td><td>T1                            </td><td>1                             </td><td>4                             </td><td>PMJ                           </td></tr>\n",
       "\t<tr><td>5                             </td><td>0.994                         </td><td> -7.869                       </td><td> -8.325                       </td><td>1                             </td><td>sub-032104                    </td><td>T1                            </td><td>1                             </td><td>5                             </td><td>superior interpeduncular fossa</td></tr>\n",
       "\t<tr><td>6                             </td><td>8.551                         </td><td>-12.781                       </td><td>-10.230                       </td><td>1                             </td><td>sub-032104                    </td><td>T1                            </td><td>1                             </td><td>6                             </td><td>R superior LMS                </td></tr>\n",
       "</tbody>\n",
       "</table>\n"
      ],
      "text/latex": [
       "\\begin{tabular}{r|llllllllll}\n",
       " fid & X & Y & Z & rater & subject & mri\\_type & session & name & description\\\\\n",
       "\\hline\n",
       "\t 1                              & 0.608                          &  -1.578                        &   0.431                        & 1                              & sub-032104                     & T1                             & 1                              & 1                              & AC                            \\\\\n",
       "\t 2                              & 1.538                          & -14.292                        &  -4.865                        & 1                              & sub-032104                     & T1                             & 1                              & 2                              & PC                            \\\\\n",
       "\t 3                              & 1.398                          & -20.426                        & -10.521                        & 1                              & sub-032104                     & T1                             & 1                              & 3                              & infracollicular sulcus        \\\\\n",
       "\t 4                              & 1.125                          &  -9.544                        & -13.637                        & 1                              & sub-032104                     & T1                             & 1                              & 4                              & PMJ                           \\\\\n",
       "\t 5                              & 0.994                          &  -7.869                        &  -8.325                        & 1                              & sub-032104                     & T1                             & 1                              & 5                              & superior interpeduncular fossa\\\\\n",
       "\t 6                              & 8.551                          & -12.781                        & -10.230                        & 1                              & sub-032104                     & T1                             & 1                              & 6                              & R superior LMS                \\\\\n",
       "\\end{tabular}\n"
      ],
      "text/markdown": [
       "\n",
       "| fid | X | Y | Z | rater | subject | mri_type | session | name | description |\n",
       "|---|---|---|---|---|---|---|---|---|---|\n",
       "| 1                              | 0.608                          |  -1.578                        |   0.431                        | 1                              | sub-032104                     | T1                             | 1                              | 1                              | AC                             |\n",
       "| 2                              | 1.538                          | -14.292                        |  -4.865                        | 1                              | sub-032104                     | T1                             | 1                              | 2                              | PC                             |\n",
       "| 3                              | 1.398                          | -20.426                        | -10.521                        | 1                              | sub-032104                     | T1                             | 1                              | 3                              | infracollicular sulcus         |\n",
       "| 4                              | 1.125                          |  -9.544                        | -13.637                        | 1                              | sub-032104                     | T1                             | 1                              | 4                              | PMJ                            |\n",
       "| 5                              | 0.994                          |  -7.869                        |  -8.325                        | 1                              | sub-032104                     | T1                             | 1                              | 5                              | superior interpeduncular fossa |\n",
       "| 6                              | 8.551                          | -12.781                        | -10.230                        | 1                              | sub-032104                     | T1                             | 1                              | 6                              | R superior LMS                 |\n",
       "\n"
      ],
      "text/plain": [
       "  fid X     Y       Z       rater subject    mri_type session name\n",
       "1 1   0.608  -1.578   0.431 1     sub-032104 T1       1       1   \n",
       "2 2   1.538 -14.292  -4.865 1     sub-032104 T1       1       2   \n",
       "3 3   1.398 -20.426 -10.521 1     sub-032104 T1       1       3   \n",
       "4 4   1.125  -9.544 -13.637 1     sub-032104 T1       1       4   \n",
       "5 5   0.994  -7.869  -8.325 1     sub-032104 T1       1       5   \n",
       "6 6   8.551 -12.781 -10.230 1     sub-032104 T1       1       6   \n",
       "  description                   \n",
       "1 AC                            \n",
       "2 PC                            \n",
       "3 infracollicular sulcus        \n",
       "4 PMJ                           \n",
       "5 superior interpeduncular fossa\n",
       "6 R superior LMS                "
      ]
     },
     "metadata": {},
     "output_type": "display_data"
    }
   ],
   "source": [
    "head(df_subject_mean)\n",
    "levels(df_subject_mean$subject)\n",
    "\n",
    "head(df_raters)"
   ]
  },
  {
   "cell_type": "markdown",
   "metadata": {},
   "source": [
    "# Phase 2: Raw Data Analysis\n",
    "\n",
    "Also classify extreme outliers, defined as >= 1.5 mm from the group mean"
   ]
  },
  {
   "cell_type": "code",
   "execution_count": 9,
   "metadata": {},
   "outputs": [],
   "source": [
    "df_raters$mean_AFLE <- NA # mean AFID localization error\n",
    "df_raters$outlier <- NA\n",
    "df_raters$xdist <- NA\n",
    "df_raters$ydist <- NA\n",
    "df_raters$zdist <- NA\n",
    "\n",
    "for (i in 1:nrow(df_raters)) { # likely more efficient ways of implementing this\n",
    "    curr_rater <- df_raters[i,] # current rater row\n",
    "    mean_rater <- subset(df_subject_mean, subject == curr_rater$subject & fid == curr_rater$fid)\n",
    "\n",
    "    df_raters[i,]$xdist <- curr_rater$X - mean_rater$X\n",
    "    df_raters[i,]$ydist <- curr_rater$Y - mean_rater$Y\n",
    "    df_raters[i,]$zdist <- curr_rater$Z - mean_rater$Z\n",
    "    curr_coords <- curr_rater[,2:4]\n",
    "    mean_coords <- mean_rater[,2:4]\n",
    "    df_raters[i,]$mean_AFLE <- dist3D(curr_coords, mean_coords)\n",
    "    df_raters[i,]$outlier <- (df_raters[i,]$mean_AFLE > 1.5) # outliers > 1.5mm\n",
    "}"
   ]
  },
  {
   "cell_type": "code",
   "execution_count": 10,
   "metadata": {},
   "outputs": [
    {
     "data": {
      "text/html": [
       "<table>\n",
       "<thead><tr><th scope=col>fid</th><th scope=col>X</th><th scope=col>Y</th><th scope=col>Z</th><th scope=col>rater</th><th scope=col>subject</th><th scope=col>mri_type</th><th scope=col>session</th><th scope=col>name</th><th scope=col>description</th><th scope=col>mean_AFLE</th><th scope=col>outlier</th><th scope=col>xdist</th><th scope=col>ydist</th><th scope=col>zdist</th></tr></thead>\n",
       "<tbody>\n",
       "\t<tr><td>1         </td><td>0.608     </td><td>-1.578    </td><td>0.431     </td><td>1         </td><td>sub-032104</td><td>T1        </td><td>1         </td><td>1         </td><td>AC        </td><td>0.267417  </td><td>FALSE     </td><td>0.1562222 </td><td>0.08688889</td><td>0.1988889 </td></tr>\n",
       "</tbody>\n",
       "</table>\n"
      ],
      "text/latex": [
       "\\begin{tabular}{r|lllllllllllllll}\n",
       " fid & X & Y & Z & rater & subject & mri\\_type & session & name & description & mean\\_AFLE & outlier & xdist & ydist & zdist\\\\\n",
       "\\hline\n",
       "\t 1          & 0.608      & -1.578     & 0.431      & 1          & sub-032104 & T1         & 1          & 1          & AC         & 0.267417   & FALSE      & 0.1562222  & 0.08688889 & 0.1988889 \\\\\n",
       "\\end{tabular}\n"
      ],
      "text/markdown": [
       "\n",
       "| fid | X | Y | Z | rater | subject | mri_type | session | name | description | mean_AFLE | outlier | xdist | ydist | zdist |\n",
       "|---|---|---|---|---|---|---|---|---|---|---|---|---|---|---|\n",
       "| 1          | 0.608      | -1.578     | 0.431      | 1          | sub-032104 | T1         | 1          | 1          | AC         | 0.267417   | FALSE      | 0.1562222  | 0.08688889 | 0.1988889  |\n",
       "\n"
      ],
      "text/plain": [
       "  fid X     Y      Z     rater subject    mri_type session name description\n",
       "1 1   0.608 -1.578 0.431 1     sub-032104 T1       1       1    AC         \n",
       "  mean_AFLE outlier xdist     ydist      zdist    \n",
       "1 0.267417  FALSE   0.1562222 0.08688889 0.1988889"
      ]
     },
     "metadata": {},
     "output_type": "display_data"
    }
   ],
   "source": [
    "df_raters[1,]"
   ]
  },
  {
   "cell_type": "code",
   "execution_count": 11,
   "metadata": {},
   "outputs": [
    {
     "data": {
      "text/html": [
       "'Total: 0.67 +/- 1.15 mm; Outliers: 192/3072 (6.25%)'"
      ],
      "text/latex": [
       "'Total: 0.67 +/- 1.15 mm; Outliers: 192/3072 (6.25\\%)'"
      ],
      "text/markdown": [
       "'Total: 0.67 +/- 1.15 mm; Outliers: 192/3072 (6.25%)'"
      ],
      "text/plain": [
       "[1] \"Total: 0.67 +/- 1.15 mm; Outliers: 192/3072 (6.25%)\""
      ]
     },
     "metadata": {},
     "output_type": "display_data"
    }
   ],
   "source": [
    "# summary of findings\n",
    "all_subjects <- subset(df_raters, session > 0) # ignore session 0 which was from the group tutorial\n",
    "num_outliers <- sum(subset(all_subjects, outlier == TRUE)$outlier)\n",
    "num_total <- length(all_subjects$outlier)\n",
    "\n",
    "sprintf( \"Total: %.2f +/- %.2f mm; Outliers: %d/%d (%.2f%%)\",\n",
    "        mean(all_subjects$mean_AFLE), sd(all_subjects$mean_AFLE),\n",
    "        num_outliers, num_total, (num_outliers/num_total)*100 )\n",
    "\n",
    "# summary of the outliers\n",
    "summary_outliers <- subset(df_raters,outlier==TRUE)[,c(\"rater\",\"fid\",\"subject\",\"session\",\"name\",\"description\",\"mean_AFLE\")]\n",
    "#summary_outliers\n",
    "\n",
    "# summary of results for each scan that was annotated\n",
    "summary_subjects_df <- ddply(df_raters, .(subject), summarize, mean=mean(mean_AFLE), sd=sd(mean_AFLE), max=max(mean_AFLE))\n",
    "summary_afids_df <- ddply(df_raters, .(fid), summarize, mean=mean(mean_AFLE), sd=sd(mean_AFLE), max=max(mean_AFLE))"
   ]
  },
  {
   "cell_type": "markdown",
   "metadata": {},
   "source": [
    "# Template Averages: Post-QC\n",
    "\n",
    "Template averages were recreated after filtering out extreme outliers (>7mm) and correcting any misannotations (out of order entries). This is an attempt at estimating the best case values without any need for changing the actual coordinates of the labels.\n",
    "\n",
    "The following files were found to have AFIDs out of order on manual QC and were modified accordingly:\n",
    "* Fid32_sub-032105_T1_Rater02_02.fcsv\n",
    "* Fid32_sub-032209_T1_Rater06_02.fcsv\n",
    "* Fid32_sub-032209_T1_Rater06_01.fcsv\n",
    "* Fid32_sub-032209_T1_Rater03_01.fcsv\n",
    "* Fid32_sub-032199_T1_Rater02_01.fcsv\n",
    "* Fid32_sub-032107_T1_Rater10_01.fcsv\n"
   ]
  },
  {
   "cell_type": "code",
   "execution_count": 12,
   "metadata": {},
   "outputs": [],
   "source": [
    "# initialize variables and load in raw fcsv data into df_raters\n",
    "# not using PHASE2_input_afid as some mislabeling had to be fixed\n",
    "setwd('~/Documents/GitHub/afids-macaca/data/PHASE2_input_afid_postQC/')\n",
    "\n",
    "df_afids <- read.table('~/Documents/GitHub/afids-macaca/etc/afids.csv', sep=\",\", header=TRUE)\n",
    "\n",
    "df_raters <- data.frame(fid=integer(),X=double(),Y=double(),Z=double(),rater=factor(),\n",
    "                        subject=factor(),mri_type=factor(),session=integer(),\n",
    "                        name=character(),description=character(),stringsAsFactors = FALSE)\n",
    "csv_files <- list.files('.', \"*.fcsv\")\n",
    "\n",
    "for (i in 1:length(csv_files)) {\n",
    "    curr_split <- unlist(strsplit(csv_files[i],\"_\"))\n",
    "    if (length(curr_split)>1) { # extract name and session data\n",
    "        rater_subject <- curr_split[2]\n",
    "        rater_mri_type <- curr_split[3]\n",
    "        rater_name <- curr_split[4]\n",
    "        rater_session <- as.numeric(unlist(strsplit(curr_split[5],\"[.]\"))[1])\n",
    "    }\n",
    "    curr_rater <- read.table(csv_files[i], header=FALSE, sep=\",\")\n",
    "    df_rater <- data.frame(fid = 1:length(curr_rater$V1))\n",
    "\n",
    "    df_rater <- cbind(df_rater,X=curr_rater[2],Y=curr_rater[3],Z=curr_rater[4],rater=rater_name,\n",
    "                    subject=rater_subject,mri_type=rater_mri_type,\n",
    "                    session=rater_session,name=curr_rater[12],\n",
    "                    description=curr_rater[13])\n",
    "  \n",
    "    df_rater <- rename(df_rater, c(\"V2\"=\"X\",\"V3\"=\"Y\",\"V4\"=\"Z\",\"V12\"=\"name\",\"V13\"=\"description\"))\n",
    "    df_raters <- rbind(df_raters,df_rater)\n",
    "}\n",
    "\n",
    "# modification due to different raters contributing to PHASE2\n",
    "levels(df_raters$rater) <- c(1,2,3,6,8,4,7,9,10) # rater numbers put in order they appear (TODO: ideally string parse to handle this)\n",
    "\n",
    "df_raters$mean_AFLE <- NA # mean AFID localization error\n",
    "df_raters$outlier <- NA\n",
    "df_raters$xdist <- NA\n",
    "df_raters$ydist <- NA\n",
    "df_raters$zdist <- NA\n",
    "\n",
    "for (i in 1:nrow(df_raters)) { # likely more efficient ways of implementing this\n",
    "    curr_rater <- df_raters[i,] # current rater row\n",
    "    mean_rater <- subset(df_subject_mean, subject == curr_rater$subject & fid == curr_rater$fid)\n",
    "\n",
    "    df_raters[i,]$xdist <- curr_rater$X - mean_rater$X\n",
    "    df_raters[i,]$ydist <- curr_rater$Y - mean_rater$Y\n",
    "    df_raters[i,]$zdist <- curr_rater$Z - mean_rater$Z\n",
    "    curr_coords <- curr_rater[,2:4]\n",
    "    mean_coords <- mean_rater[,2:4]\n",
    "    df_raters[i,]$mean_AFLE <- dist3D(curr_coords, mean_coords)\n",
    "    df_raters[i,]$outlier <- (df_raters[i,]$mean_AFLE > 7) # outliers > 7mm\n",
    "}\n",
    "\n",
    "df_raters_QC <- subset(df_raters, outlier == FALSE)\n"
   ]
  },
  {
   "cell_type": "markdown",
   "metadata": {},
   "source": [
    "# Subject Averages Post-QC\n",
    "\n",
    "For each subject, we calculate the mean value for each afid point and store it in a separate .fcsv file so that it can be loaded back into 3D Slicer. This is after an initial round of QC to identify any mislabeled AFIDs.\n",
    "\n",
    "Deviation of the values by > 1.5 mm will be classified as an outlier."
   ]
  },
  {
   "cell_type": "code",
   "execution_count": 13,
   "metadata": {},
   "outputs": [],
   "source": [
    "# start by calculating mean coordinates\n",
    "df_subject_mean_QC <- data.frame(fid=integer(),X=double(),Y=double(),Z=double(),\n",
    "                              subject=factor(), name=factor(),description=character(),stringsAsFactors = FALSE)\n",
    "df_subject_sd_QC <- data.frame(fid=integer(),X=double(),Y=double(),Z=double(),\n",
    "                            subject=factor(), name=factor(),description=character(),stringsAsFactors = FALSE)\n",
    "\n",
    "# iterate over each subject and compute the mean and standard deviation\n",
    "for (curr_subject in levels(df_raters_QC$subject)) {\n",
    "  for (i in 1:32) { # for each AFID32 point, calculate the mean\n",
    "    df_subset <- subset(df_raters_QC, fid == i & subject == curr_subject)\n",
    "    curr_fid_name <- df_afids$name[i]\n",
    "    curr_fid_desc <- df_afids$description[i]\n",
    "    df_curr_fid <- data.frame(fid = i, X = mean(df_subset$X), Y = mean(df_subset$Y), Z = mean(df_subset$Z),\n",
    "                              subject=curr_subject, name=curr_fid_name, description=curr_fid_desc)\n",
    "    df_subject_mean_QC <- rbind(df_subject_mean_QC, df_curr_fid)\n",
    "    df_curr_fid_sd <- data.frame(fid = i, X = sd(df_subset$X), Y = sd(df_subset$Y), Z = sd(df_subset$Z),\n",
    "                                 subject=curr_subject, name=curr_fid_name, description=curr_fid_desc)\n",
    "    df_subject_sd_QC <- rbind(df_subject_sd_QC, df_curr_fid_sd)\n",
    "  }\n",
    "}"
   ]
  },
  {
   "cell_type": "code",
   "execution_count": 14,
   "metadata": {},
   "outputs": [],
   "source": [
    "# Create output fcsv file for each included subject\n",
    "\n",
    "####################################################################\n",
    "# EXPORT MEAN FIDUCIAL LOCATIONS AS FCSV FILE (with outliers filtered out)\n",
    "####################################################################\n",
    "setwd('~/Documents/GitHub/afids-macaca/data/PHASE2_output_afid_postQC/')\n",
    "\n",
    "for (curr_filename in levels(df_subject_mean_QC$subject)) { # looping on each subject level\n",
    "  curr_filename\n",
    "  curr_mean <- subset(df_subject_mean_QC, subject==curr_filename)\n",
    "  curr_fcsv <- data.frame(id=paste('vtkMRMLMarkupsFiducialNode',curr_mean$fid,sep=\"_\"),x=curr_mean$X,y=curr_mean$Y,z=curr_mean$Z,\n",
    "                          ow=0,ox=0,oy=0,oz=1,\n",
    "                          vis=1,sel=1,lock=1,label=curr_mean$fid,desc=df_afids$description,\n",
    "                          associatedNodeID='vtkMRMLScalarVolumeNode1',stringsAsFactors = FALSE)\n",
    "  \n",
    "  # write out table (need to use file connection approach because of header information)\n",
    "  curr_fcsv_name <- paste0(curr_filename,'_MEAN.fcsv')\n",
    "  fio <- file(curr_fcsv_name, open=\"wt\")\n",
    "  writeLines(paste('# Markups fiducial file version = 4.6'),fio)\n",
    "  writeLines(paste('# CoordinateSystem = 0'),fio)\n",
    "  writeLines(paste('# columns = id,x,y,z,ow,ox,oy,oz,vis,sel,lock,label,desc,associatedNodeID'),fio)\n",
    "  write.table(curr_fcsv,fio,sep=',',quote=FALSE,col.names=FALSE,row.names=FALSE)\n",
    "  close(fio)\n",
    "}"
   ]
  },
  {
   "cell_type": "markdown",
   "metadata": {},
   "source": [
    "# Phase 2: Post-QC Analysis\n",
    "\n",
    "Also classify outliers, defined as >= 1.5 mm from the group mean"
   ]
  },
  {
   "cell_type": "code",
   "execution_count": 15,
   "metadata": {},
   "outputs": [],
   "source": [
    "df_raters_QC$mean_AFLE <- NA # mean AFID localization error\n",
    "df_raters_QC$outlier <- NA\n",
    "df_raters_QC$xdist <- NA\n",
    "df_raters_QC$ydist <- NA\n",
    "df_raters_QC$zdist <- NA\n",
    "\n",
    "for (i in 1:nrow(df_raters_QC)) { # likely more efficient ways of implementing this\n",
    "  curr_rater <- df_raters_QC[i,] # current rater row\n",
    "  mean_rater <- subset(df_subject_mean_QC, subject == curr_rater$subject & fid == curr_rater$fid)\n",
    "  \n",
    "  df_raters_QC[i,]$xdist <- curr_rater$X - mean_rater$X\n",
    "  df_raters_QC[i,]$ydist <- curr_rater$Y - mean_rater$Y\n",
    "  df_raters_QC[i,]$zdist <- curr_rater$Z - mean_rater$Z\n",
    "  curr_coords <- curr_rater[,2:4]\n",
    "  mean_coords <- mean_rater[,2:4]\n",
    "  df_raters_QC[i,]$mean_AFLE <- dist3D(curr_coords, mean_coords)\n",
    "  df_raters_QC[i,]$outlier <- (df_raters_QC[i,]$mean_AFLE > 1.5) # outliers > 1.5mm\n",
    "}"
   ]
  },
  {
   "cell_type": "code",
   "execution_count": 16,
   "metadata": {
    "scrolled": true
   },
   "outputs": [
    {
     "data": {
      "text/html": [
       "'Total: 0.51 +/- 0.43 mm; Outliers: 98/3067 (3.20%)'"
      ],
      "text/latex": [
       "'Total: 0.51 +/- 0.43 mm; Outliers: 98/3067 (3.20\\%)'"
      ],
      "text/markdown": [
       "'Total: 0.51 +/- 0.43 mm; Outliers: 98/3067 (3.20%)'"
      ],
      "text/plain": [
       "[1] \"Total: 0.51 +/- 0.43 mm; Outliers: 98/3067 (3.20%)\""
      ]
     },
     "metadata": {},
     "output_type": "display_data"
    }
   ],
   "source": [
    "# summary of findings\n",
    "all_subjects <- subset(df_raters_QC, session > 0) # ignore session 0 which was from the group tutorial\n",
    "num_outliers <- sum(subset(all_subjects, outlier == TRUE)$outlier)\n",
    "num_total <- length(all_subjects$outlier)\n",
    "\n",
    "sprintf( \"Total: %.2f +/- %.2f mm; Outliers: %d/%d (%.2f%%)\",\n",
    "         mean(all_subjects$mean_AFLE), sd(all_subjects$mean_AFLE),\n",
    "         num_outliers, num_total, (num_outliers/num_total)*100 )\n",
    "\n",
    "# summary of the outliers\n",
    "summary_outliers <- subset(df_raters_QC,outlier==TRUE)[,c(\"rater\",\"fid\",\"subject\",\"session\",\"name\",\"description\",\"mean_AFLE\")]\n",
    "#summary_outliers\n",
    "\n",
    "# summary of results for each scan that was annotated\n",
    "summary_subjects_df <- ddply(df_raters_QC, .(subject), summarize, mean=mean(mean_AFLE), sd=sd(mean_AFLE), max=max(mean_AFLE))\n",
    "summary_afids_df <- ddply(df_raters_QC, .(fid), summarize, mean=mean(mean_AFLE), sd=sd(mean_AFLE), max=max(mean_AFLE))"
   ]
  },
  {
   "cell_type": "code",
   "execution_count": 17,
   "metadata": {},
   "outputs": [
    {
     "data": {
      "text/html": [
       "<table>\n",
       "<thead><tr><th></th><th scope=col>fid</th><th scope=col>X</th><th scope=col>Y</th><th scope=col>Z</th><th scope=col>rater</th><th scope=col>subject</th><th scope=col>mri_type</th><th scope=col>session</th><th scope=col>name</th><th scope=col>description</th><th scope=col>mean_AFLE</th><th scope=col>outlier</th><th scope=col>xdist</th><th scope=col>ydist</th><th scope=col>zdist</th></tr></thead>\n",
       "<tbody>\n",
       "\t<tr><th scope=row>183</th><td>23                         </td><td>10.87200                   </td><td> -4.37300                  </td><td>-13.10700                  </td><td>6                          </td><td>sub-032104                 </td><td>T1                         </td><td>1                          </td><td>23                         </td><td>R superior AM temporal horn</td><td>3.271502                   </td><td>TRUE                       </td><td> 1.46200000                </td><td>-1.84466667                </td><td>-2.2721111                 </td></tr>\n",
       "\t<tr><th scope=row>375</th><td>23                         </td><td>13.30600                   </td><td> -3.55700                  </td><td>-11.07400                  </td><td>4                          </td><td>sub-032105                 </td><td>T1                         </td><td>1                          </td><td>23                         </td><td>R superior AM temporal horn</td><td>3.425267                   </td><td>TRUE                       </td><td> 2.78987500                </td><td>-1.98075000                </td><td>-0.1602500                 </td></tr>\n",
       "\t<tr><th scope=row>407</th><td>23                         </td><td>13.17800                   </td><td> -3.23700                  </td><td>-11.31000                  </td><td>4                          </td><td>sub-032105                 </td><td>T1                         </td><td>2                          </td><td>23                         </td><td>R superior AM temporal horn</td><td>3.162386                   </td><td>TRUE                       </td><td> 2.66187500                </td><td>-1.66075000                </td><td>-0.3962500                 </td></tr>\n",
       "\t<tr><th scope=row>701</th><td>29                         </td><td>17.20600                   </td><td>-27.60800                  </td><td> -8.69700                  </td><td>1                          </td><td>sub-032108                 </td><td>T1                         </td><td>1                          </td><td>29                         </td><td>R ventral occipital horn   </td><td>3.355694                   </td><td>TRUE                       </td><td> 1.31231160                </td><td> 2.99297123                </td><td> 0.7620000                 </td></tr>\n",
       "\t<tr><th scope=row>1692</th><td>28                         </td><td>89.63900                   </td><td> 13.84400                  </td><td>102.43200                  </td><td>6                          </td><td>sub-032209                 </td><td>T1                         </td><td>1                          </td><td>28                         </td><td>L indusium griseum origin  </td><td>3.321899                   </td><td>TRUE                       </td><td> 2.42187500                </td><td>-1.00700000                </td><td> 2.0385000                 </td></tr>\n",
       "\t<tr><th scope=row>1816</th><td>24                         </td><td>51.90600                   </td><td> 37.36800                  </td><td> 55.88500                  </td><td>2                          </td><td>sub-032210                 </td><td>T1                         </td><td>1                          </td><td>24                         </td><td>L superior AM temporal horn</td><td>3.075567                   </td><td>TRUE                       </td><td>-2.65788955                </td><td> 1.42921780                </td><td>-0.5933543                 </td></tr>\n",
       "\t<tr><th scope=row>1827</th><td> 3                         </td><td>64.54818                   </td><td> 22.78545                  </td><td> 62.67241                  </td><td>2                          </td><td>sub-032210                 </td><td>T1                         </td><td>2                          </td><td> 3                         </td><td>ICS                        </td><td>3.059039                   </td><td>TRUE                       </td><td> 0.02378198                </td><td> 2.00051500                </td><td> 2.3141075                 </td></tr>\n",
       "\t<tr><th scope=row>1832</th><td> 8                         </td><td>71.03928                   </td><td> 22.83601                  </td><td> 54.78426                  </td><td>2                          </td><td>sub-032210                 </td><td>T1                         </td><td>2                          </td><td> 8                         </td><td>RILMS                      </td><td>3.082205                   </td><td>TRUE                       </td><td>-0.18350176                </td><td>-3.07361817                </td><td>-0.1385205                 </td></tr>\n",
       "\t<tr><th scope=row>1833</th><td> 9                         </td><td>57.91323                   </td><td> 22.63398                  </td><td> 55.22793                  </td><td>2                          </td><td>sub-032210                 </td><td>T1                         </td><td>2                          </td><td> 9                         </td><td>LILMS                      </td><td>3.393196                   </td><td>TRUE                       </td><td> 0.15282287                </td><td>-3.35564057                </td><td> 0.4796915                 </td></tr>\n",
       "\t<tr><th scope=row>1947</th><td>27                         </td><td>77.68400                   </td><td> 19.78400                  </td><td> 62.50100                  </td><td>7                          </td><td>sub-032210                 </td><td>T1                         </td><td>1                          </td><td>27                         </td><td>R indusium griseum origin  </td><td>3.490885                   </td><td>TRUE                       </td><td> 3.02592424                </td><td>-0.04016403                </td><td>-1.7402437                 </td></tr>\n",
       "</tbody>\n",
       "</table>\n"
      ],
      "text/latex": [
       "\\begin{tabular}{r|lllllllllllllll}\n",
       "  & fid & X & Y & Z & rater & subject & mri\\_type & session & name & description & mean\\_AFLE & outlier & xdist & ydist & zdist\\\\\n",
       "\\hline\n",
       "\t183 & 23                          & 10.87200                    &  -4.37300                   & -13.10700                   & 6                           & sub-032104                  & T1                          & 1                           & 23                          & R superior AM temporal horn & 3.271502                    & TRUE                        &  1.46200000                 & -1.84466667                 & -2.2721111                 \\\\\n",
       "\t375 & 23                          & 13.30600                    &  -3.55700                   & -11.07400                   & 4                           & sub-032105                  & T1                          & 1                           & 23                          & R superior AM temporal horn & 3.425267                    & TRUE                        &  2.78987500                 & -1.98075000                 & -0.1602500                 \\\\\n",
       "\t407 & 23                          & 13.17800                    &  -3.23700                   & -11.31000                   & 4                           & sub-032105                  & T1                          & 2                           & 23                          & R superior AM temporal horn & 3.162386                    & TRUE                        &  2.66187500                 & -1.66075000                 & -0.3962500                 \\\\\n",
       "\t701 & 29                          & 17.20600                    & -27.60800                   &  -8.69700                   & 1                           & sub-032108                  & T1                          & 1                           & 29                          & R ventral occipital horn    & 3.355694                    & TRUE                        &  1.31231160                 &  2.99297123                 &  0.7620000                 \\\\\n",
       "\t1692 & 28                          & 89.63900                    &  13.84400                   & 102.43200                   & 6                           & sub-032209                  & T1                          & 1                           & 28                          & L indusium griseum origin   & 3.321899                    & TRUE                        &  2.42187500                 & -1.00700000                 &  2.0385000                 \\\\\n",
       "\t1816 & 24                          & 51.90600                    &  37.36800                   &  55.88500                   & 2                           & sub-032210                  & T1                          & 1                           & 24                          & L superior AM temporal horn & 3.075567                    & TRUE                        & -2.65788955                 &  1.42921780                 & -0.5933543                 \\\\\n",
       "\t1827 &  3                          & 64.54818                    &  22.78545                   &  62.67241                   & 2                           & sub-032210                  & T1                          & 2                           &  3                          & ICS                         & 3.059039                    & TRUE                        &  0.02378198                 &  2.00051500                 &  2.3141075                 \\\\\n",
       "\t1832 &  8                          & 71.03928                    &  22.83601                   &  54.78426                   & 2                           & sub-032210                  & T1                          & 2                           &  8                          & RILMS                       & 3.082205                    & TRUE                        & -0.18350176                 & -3.07361817                 & -0.1385205                 \\\\\n",
       "\t1833 &  9                          & 57.91323                    &  22.63398                   &  55.22793                   & 2                           & sub-032210                  & T1                          & 2                           &  9                          & LILMS                       & 3.393196                    & TRUE                        &  0.15282287                 & -3.35564057                 &  0.4796915                 \\\\\n",
       "\t1947 & 27                          & 77.68400                    &  19.78400                   &  62.50100                   & 7                           & sub-032210                  & T1                          & 1                           & 27                          & R indusium griseum origin   & 3.490885                    & TRUE                        &  3.02592424                 & -0.04016403                 & -1.7402437                 \\\\\n",
       "\\end{tabular}\n"
      ],
      "text/markdown": [
       "\n",
       "| <!--/--> | fid | X | Y | Z | rater | subject | mri_type | session | name | description | mean_AFLE | outlier | xdist | ydist | zdist |\n",
       "|---|---|---|---|---|---|---|---|---|---|---|---|---|---|---|---|\n",
       "| 183 | 23                          | 10.87200                    |  -4.37300                   | -13.10700                   | 6                           | sub-032104                  | T1                          | 1                           | 23                          | R superior AM temporal horn | 3.271502                    | TRUE                        |  1.46200000                 | -1.84466667                 | -2.2721111                  |\n",
       "| 375 | 23                          | 13.30600                    |  -3.55700                   | -11.07400                   | 4                           | sub-032105                  | T1                          | 1                           | 23                          | R superior AM temporal horn | 3.425267                    | TRUE                        |  2.78987500                 | -1.98075000                 | -0.1602500                  |\n",
       "| 407 | 23                          | 13.17800                    |  -3.23700                   | -11.31000                   | 4                           | sub-032105                  | T1                          | 2                           | 23                          | R superior AM temporal horn | 3.162386                    | TRUE                        |  2.66187500                 | -1.66075000                 | -0.3962500                  |\n",
       "| 701 | 29                          | 17.20600                    | -27.60800                   |  -8.69700                   | 1                           | sub-032108                  | T1                          | 1                           | 29                          | R ventral occipital horn    | 3.355694                    | TRUE                        |  1.31231160                 |  2.99297123                 |  0.7620000                  |\n",
       "| 1692 | 28                          | 89.63900                    |  13.84400                   | 102.43200                   | 6                           | sub-032209                  | T1                          | 1                           | 28                          | L indusium griseum origin   | 3.321899                    | TRUE                        |  2.42187500                 | -1.00700000                 |  2.0385000                  |\n",
       "| 1816 | 24                          | 51.90600                    |  37.36800                   |  55.88500                   | 2                           | sub-032210                  | T1                          | 1                           | 24                          | L superior AM temporal horn | 3.075567                    | TRUE                        | -2.65788955                 |  1.42921780                 | -0.5933543                  |\n",
       "| 1827 |  3                          | 64.54818                    |  22.78545                   |  62.67241                   | 2                           | sub-032210                  | T1                          | 2                           |  3                          | ICS                         | 3.059039                    | TRUE                        |  0.02378198                 |  2.00051500                 |  2.3141075                  |\n",
       "| 1832 |  8                          | 71.03928                    |  22.83601                   |  54.78426                   | 2                           | sub-032210                  | T1                          | 2                           |  8                          | RILMS                       | 3.082205                    | TRUE                        | -0.18350176                 | -3.07361817                 | -0.1385205                  |\n",
       "| 1833 |  9                          | 57.91323                    |  22.63398                   |  55.22793                   | 2                           | sub-032210                  | T1                          | 2                           |  9                          | LILMS                       | 3.393196                    | TRUE                        |  0.15282287                 | -3.35564057                 |  0.4796915                  |\n",
       "| 1947 | 27                          | 77.68400                    |  19.78400                   |  62.50100                   | 7                           | sub-032210                  | T1                          | 1                           | 27                          | R indusium griseum origin   | 3.490885                    | TRUE                        |  3.02592424                 | -0.04016403                 | -1.7402437                  |\n",
       "\n"
      ],
      "text/plain": [
       "     fid X        Y         Z         rater subject    mri_type session name\n",
       "183  23  10.87200  -4.37300 -13.10700 6     sub-032104 T1       1       23  \n",
       "375  23  13.30600  -3.55700 -11.07400 4     sub-032105 T1       1       23  \n",
       "407  23  13.17800  -3.23700 -11.31000 4     sub-032105 T1       2       23  \n",
       "701  29  17.20600 -27.60800  -8.69700 1     sub-032108 T1       1       29  \n",
       "1692 28  89.63900  13.84400 102.43200 6     sub-032209 T1       1       28  \n",
       "1816 24  51.90600  37.36800  55.88500 2     sub-032210 T1       1       24  \n",
       "1827  3  64.54818  22.78545  62.67241 2     sub-032210 T1       2        3  \n",
       "1832  8  71.03928  22.83601  54.78426 2     sub-032210 T1       2        8  \n",
       "1833  9  57.91323  22.63398  55.22793 2     sub-032210 T1       2        9  \n",
       "1947 27  77.68400  19.78400  62.50100 7     sub-032210 T1       1       27  \n",
       "     description                 mean_AFLE outlier xdist       ydist      \n",
       "183  R superior AM temporal horn 3.271502  TRUE     1.46200000 -1.84466667\n",
       "375  R superior AM temporal horn 3.425267  TRUE     2.78987500 -1.98075000\n",
       "407  R superior AM temporal horn 3.162386  TRUE     2.66187500 -1.66075000\n",
       "701  R ventral occipital horn    3.355694  TRUE     1.31231160  2.99297123\n",
       "1692 L indusium griseum origin   3.321899  TRUE     2.42187500 -1.00700000\n",
       "1816 L superior AM temporal horn 3.075567  TRUE    -2.65788955  1.42921780\n",
       "1827 ICS                         3.059039  TRUE     0.02378198  2.00051500\n",
       "1832 RILMS                       3.082205  TRUE    -0.18350176 -3.07361817\n",
       "1833 LILMS                       3.393196  TRUE     0.15282287 -3.35564057\n",
       "1947 R indusium griseum origin   3.490885  TRUE     3.02592424 -0.04016403\n",
       "     zdist     \n",
       "183  -2.2721111\n",
       "375  -0.1602500\n",
       "407  -0.3962500\n",
       "701   0.7620000\n",
       "1692  2.0385000\n",
       "1816 -0.5933543\n",
       "1827  2.3141075\n",
       "1832 -0.1385205\n",
       "1833  0.4796915\n",
       "1947 -1.7402437"
      ]
     },
     "metadata": {},
     "output_type": "display_data"
    }
   ],
   "source": [
    "# Screen for outliers\n",
    "subset(df_raters_QC, mean_AFLE > 3)"
   ]
  },
  {
   "cell_type": "markdown",
   "metadata": {},
   "source": [
    "# Post-QC for PHASE3\n",
    "\n"
   ]
  },
  {
   "cell_type": "markdown",
   "metadata": {},
   "source": [
    "# Template Averages: Post-QC for PHASE3\n",
    "\n",
    "Single subject averages were recreated after filtering out outliers (>1.5mm).\n",
    "\n",
    "The goal here is to get the best ground truth estimates for PHASE3 (not to estimate the AFLE) so thus the outlier value applied is more stringent."
   ]
  },
  {
   "cell_type": "code",
   "execution_count": 18,
   "metadata": {},
   "outputs": [],
   "source": [
    "# initialize variables and load in raw fcsv data into df_raters\n",
    "# not using PHASE2_input_afid as some mislabeling had to be fixed\n",
    "setwd('~/Documents/GitHub/afids-macaca/data/PHASE2_input_afid_postQC/')\n",
    "\n",
    "df_afids <- read.table('~/Documents/GitHub/afids-macaca/etc/afids.csv', sep=\",\", header=TRUE)\n",
    "\n",
    "df_raters <- data.frame(fid=integer(),X=double(),Y=double(),Z=double(),rater=factor(),\n",
    "                        subject=factor(),mri_type=factor(),session=integer(),\n",
    "                        name=character(),description=character(),stringsAsFactors = FALSE)\n",
    "csv_files <- list.files('.', \"*.fcsv\")\n",
    "\n",
    "for (i in 1:length(csv_files)) {\n",
    "    curr_split <- unlist(strsplit(csv_files[i],\"_\"))\n",
    "    if (length(curr_split)>1) { # extract name and session data\n",
    "        rater_subject <- curr_split[2]\n",
    "        rater_mri_type <- curr_split[3]\n",
    "        rater_name <- curr_split[4]\n",
    "        rater_session <- as.numeric(unlist(strsplit(curr_split[5],\"[.]\"))[1])\n",
    "    }\n",
    "    curr_rater <- read.table(csv_files[i], header=FALSE, sep=\",\")\n",
    "    df_rater <- data.frame(fid = 1:length(curr_rater$V1))\n",
    "\n",
    "    df_rater <- cbind(df_rater,X=curr_rater[2],Y=curr_rater[3],Z=curr_rater[4],rater=rater_name,\n",
    "                    subject=rater_subject,mri_type=rater_mri_type,\n",
    "                    session=rater_session,name=curr_rater[12],\n",
    "                    description=curr_rater[13])\n",
    "  \n",
    "    df_rater <- rename(df_rater, c(\"V2\"=\"X\",\"V3\"=\"Y\",\"V4\"=\"Z\",\"V12\"=\"name\",\"V13\"=\"description\"))\n",
    "    df_raters <- rbind(df_raters,df_rater)\n",
    "}\n",
    "\n",
    "# modification due to different raters contributing to PHASE2\n",
    "levels(df_raters$rater) <- c(1,2,3,6,8,4,7,9,10) # rater numbers put in order they appear (TODO: ideally string parse to handle this)\n",
    "\n",
    "df_raters$mean_AFLE <- NA # mean AFID localization error\n",
    "df_raters$outlier <- NA\n",
    "df_raters$xdist <- NA\n",
    "df_raters$ydist <- NA\n",
    "df_raters$zdist <- NA\n",
    "\n",
    "for (i in 1:nrow(df_raters)) { # likely more efficient ways of implementing this\n",
    "    curr_rater <- df_raters[i,] # current rater row\n",
    "    mean_rater <- subset(df_subject_mean, subject == curr_rater$subject & fid == curr_rater$fid)\n",
    "\n",
    "    df_raters[i,]$xdist <- curr_rater$X - mean_rater$X\n",
    "    df_raters[i,]$ydist <- curr_rater$Y - mean_rater$Y\n",
    "    df_raters[i,]$zdist <- curr_rater$Z - mean_rater$Z\n",
    "    curr_coords <- curr_rater[,2:4]\n",
    "    mean_coords <- mean_rater[,2:4]\n",
    "    df_raters[i,]$mean_AFLE <- dist3D(curr_coords, mean_coords)\n",
    "    df_raters[i,]$outlier <- (df_raters[i,]$mean_AFLE > 1.5) # outliers > 1.5mm\n",
    "}\n",
    "\n",
    "df_raters_QC_P3 <- subset(df_raters, outlier == FALSE)\n"
   ]
  },
  {
   "cell_type": "markdown",
   "metadata": {},
   "source": [
    "# Subject Averages Post-QC for PHASE3\n",
    "\n",
    "For each subject, we calculate the mean value for each afid point and store it in a separate .fcsv file so that it can be loaded back into 3D Slicer. This is after an initial round of QC to identify any mislabeled AFIDs.\n",
    "\n",
    "Deviation of the values by > 1.5 mm will be classified as an outlier (should be pretty close to zero POST-QC for PHASE3 since by definition thresholding at this level)."
   ]
  },
  {
   "cell_type": "code",
   "execution_count": 19,
   "metadata": {},
   "outputs": [],
   "source": [
    "# start by calculating mean coordinates\n",
    "df_subject_mean_QC_P3 <- data.frame(fid=integer(),X=double(),Y=double(),Z=double(),\n",
    "                                 subject=factor(), name=factor(),description=character(),stringsAsFactors = FALSE)\n",
    "df_subject_sd_QC_P3 <- data.frame(fid=integer(),X=double(),Y=double(),Z=double(),\n",
    "                               subject=factor(), name=factor(),description=character(),stringsAsFactors = FALSE)\n",
    "\n",
    "# iterate over each subject and compute the mean and standard deviation\n",
    "for (curr_subject in levels(df_raters_QC_P3$subject)) {\n",
    "  for (i in 1:32) { # for each AFID32 point, calculate the mean\n",
    "    df_subset <- subset(df_raters_QC_P3, fid == i & subject == curr_subject)\n",
    "    curr_fid_name <- df_afids$name[i]\n",
    "    curr_fid_desc <- df_afids$description[i]\n",
    "    df_curr_fid <- data.frame(fid = i, X = mean(df_subset$X), Y = mean(df_subset$Y), Z = mean(df_subset$Z),\n",
    "                              subject=curr_subject, name=curr_fid_name, description=curr_fid_desc)\n",
    "    df_subject_mean_QC_P3 <- rbind(df_subject_mean_QC_P3, df_curr_fid)\n",
    "    df_curr_fid_sd <- data.frame(fid = i, X = sd(df_subset$X), Y = sd(df_subset$Y), Z = sd(df_subset$Z),\n",
    "                                 subject=curr_subject, name=curr_fid_name, description=curr_fid_desc)\n",
    "    df_subject_sd_QC_P3 <- rbind(df_subject_sd_QC_P3, df_curr_fid_sd)\n",
    "  }\n",
    "}"
   ]
  },
  {
   "cell_type": "code",
   "execution_count": 20,
   "metadata": {},
   "outputs": [],
   "source": [
    "# Create output fcsv file for each included subject\n",
    "\n",
    "####################################################################\n",
    "# EXPORT MEAN FIDUCIAL LOCATIONS AS FCSV FILE (with outliers filtered out)\n",
    "####################################################################\n",
    "setwd('~/Documents/GitHub/afids-macaca/data/PHASE2_output_afid_postQC_for_PHASE3//')\n",
    "\n",
    "for (curr_filename in levels(df_subject_mean_QC_P3$subject)) { # looping on each subject level\n",
    "  curr_filename\n",
    "  curr_mean <- subset(df_subject_mean_QC_P3, subject==curr_filename)\n",
    "  curr_fcsv <- data.frame(id=paste('vtkMRMLMarkupsFiducialNode',curr_mean$fid,sep=\"_\"),x=curr_mean$X,y=curr_mean$Y,z=curr_mean$Z,\n",
    "                          ow=0,ox=0,oy=0,oz=1,\n",
    "                          vis=1,sel=1,lock=1,label=curr_mean$fid,desc=df_afids$description,\n",
    "                          associatedNodeID='vtkMRMLScalarVolumeNode1',stringsAsFactors = FALSE)\n",
    "  \n",
    "  # write out table (need to use file connection approach because of header information)\n",
    "  curr_fcsv_name <- paste0(curr_filename,'_MEAN.fcsv')\n",
    "  fio <- file(curr_fcsv_name, open=\"wt\")\n",
    "  writeLines(paste('# Markups fiducial file version = 4.6'),fio)\n",
    "  writeLines(paste('# CoordinateSystem = 0'),fio)\n",
    "  writeLines(paste('# columns = id,x,y,z,ow,ox,oy,oz,vis,sel,lock,label,desc,associatedNodeID'),fio)\n",
    "  write.table(curr_fcsv,fio,sep=',',quote=FALSE,col.names=FALSE,row.names=FALSE)\n",
    "  close(fio)\n",
    "}"
   ]
  },
  {
   "cell_type": "markdown",
   "metadata": {},
   "source": [
    "# Phase 2: Post-QC Analysis\n",
    "\n",
    "Also classify outliers, defined as >= 1.5 mm from the group mean"
   ]
  },
  {
   "cell_type": "code",
   "execution_count": 21,
   "metadata": {},
   "outputs": [],
   "source": [
    "df_raters_QC_P3$mean_AFLE <- NA # mean AFID localization error\n",
    "df_raters_QC_P3$outlier <- NA\n",
    "df_raters_QC_P3$xdist <- NA\n",
    "df_raters_QC_P3$ydist <- NA\n",
    "df_raters_QC_P3$zdist <- NA\n",
    "\n",
    "for (i in 1:nrow(df_raters_QC_P3)) { # likely more efficient ways of implementing this\n",
    "  curr_rater <- df_raters_QC_P3[i,] # current rater row\n",
    "  mean_rater <- subset(df_subject_mean_QC_P3, subject == curr_rater$subject & fid == curr_rater$fid)\n",
    "  \n",
    "  df_raters_QC_P3[i,]$xdist <- curr_rater$X - mean_rater$X\n",
    "  df_raters_QC_P3[i,]$ydist <- curr_rater$Y - mean_rater$Y\n",
    "  df_raters_QC_P3[i,]$zdist <- curr_rater$Z - mean_rater$Z\n",
    "  curr_coords <- curr_rater[,2:4]\n",
    "  mean_coords <- mean_rater[,2:4]\n",
    "  df_raters_QC_P3[i,]$mean_AFLE <- dist3D(curr_coords, mean_coords)\n",
    "  df_raters_QC_P3[i,]$outlier <- (df_raters_QC_P3[i,]$mean_AFLE > 1.5) # outliers > 1.5mm\n",
    "}"
   ]
  },
  {
   "cell_type": "code",
   "execution_count": 22,
   "metadata": {
    "scrolled": true
   },
   "outputs": [
    {
     "data": {
      "text/html": [
       "'Total: 0.44 +/- 0.28 mm; Outliers: 9/2887 (0.31%)'"
      ],
      "text/latex": [
       "'Total: 0.44 +/- 0.28 mm; Outliers: 9/2887 (0.31\\%)'"
      ],
      "text/markdown": [
       "'Total: 0.44 +/- 0.28 mm; Outliers: 9/2887 (0.31%)'"
      ],
      "text/plain": [
       "[1] \"Total: 0.44 +/- 0.28 mm; Outliers: 9/2887 (0.31%)\""
      ]
     },
     "metadata": {},
     "output_type": "display_data"
    }
   ],
   "source": [
    "# summary of findings\n",
    "all_subjects <- subset(df_raters_QC_P3, session > 0) # ignore session 0 which was from the group tutorial\n",
    "num_outliers <- sum(subset(all_subjects, outlier == TRUE)$outlier)\n",
    "num_total <- length(all_subjects$outlier)\n",
    "\n",
    "sprintf( \"Total: %.2f +/- %.2f mm; Outliers: %d/%d (%.2f%%)\",\n",
    "         mean(all_subjects$mean_AFLE), sd(all_subjects$mean_AFLE),\n",
    "         num_outliers, num_total, (num_outliers/num_total)*100 )\n",
    "\n",
    "# summary of the outliers\n",
    "summary_outliers <- subset(df_raters_QC_P3,outlier==TRUE)[,c(\"rater\",\"fid\",\"subject\",\"session\",\"name\",\"description\",\"mean_AFLE\")]\n",
    "#summary_outliers\n",
    "\n",
    "# summary of results for each scan that was annotated\n",
    "summary_subjects_df <- ddply(df_raters_QC_P3, .(subject), summarize, mean=mean(mean_AFLE), sd=sd(mean_AFLE), max=max(mean_AFLE))\n",
    "summary_afids_df <- ddply(df_raters_QC_P3, .(fid), summarize, mean=mean(mean_AFLE), sd=sd(mean_AFLE), max=max(mean_AFLE))"
   ]
  },
  {
   "cell_type": "code",
   "execution_count": 23,
   "metadata": {},
   "outputs": [
    {
     "data": {
      "text/html": [
       "<table>\n",
       "<thead><tr><th></th><th scope=col>fid</th><th scope=col>X</th><th scope=col>Y</th><th scope=col>Z</th><th scope=col>rater</th><th scope=col>subject</th><th scope=col>mri_type</th><th scope=col>session</th><th scope=col>name</th><th scope=col>description</th><th scope=col>mean_AFLE</th><th scope=col>outlier</th><th scope=col>xdist</th><th scope=col>ydist</th><th scope=col>zdist</th></tr></thead>\n",
       "<tbody>\n",
       "\t<tr><th scope=row>346</th><td>26                         </td><td>-10.421                    </td><td>  1.232                    </td><td>-14.811                    </td><td>2                          </td><td>sub-032105                 </td><td>T1                         </td><td>2                          </td><td>26                         </td><td>LIAMTH                     </td><td>1.700312                   </td><td>TRUE                       </td><td>-1.16450000                </td><td>-1.1113333                 </td><td>-0.5476667                 </td></tr>\n",
       "\t<tr><th scope=row>441</th><td>25                         </td><td> 10.646                    </td><td>  2.000                    </td><td>-14.157                    </td><td>7                          </td><td>sub-032105                 </td><td>T1                         </td><td>1                          </td><td>25                         </td><td>R inferior AM temporal horn</td><td>1.583045                   </td><td>TRUE                       </td><td>-0.58985714                </td><td>-1.4655714                 </td><td> 0.1010000                 </td></tr>\n",
       "\t<tr><th scope=row>503</th><td>23                         </td><td>  9.973                    </td><td> -2.256                    </td><td> -9.915                    </td><td>9                          </td><td>sub-032105                 </td><td>T1                         </td><td>1                          </td><td>23                         </td><td>R superior AM temporal horn</td><td>1.520745                   </td><td>TRUE                       </td><td> 0.25600000                </td><td>-1.2086000                 </td><td> 0.8868000                 </td></tr>\n",
       "\t<tr><th scope=row>1066</th><td>10                         </td><td> -0.520                    </td><td>-25.738                    </td><td> 49.056                    </td><td>2                          </td><td>sub-032199                 </td><td>T1                         </td><td>2                          </td><td>10                         </td><td>CUL                        </td><td>1.614427                   </td><td>TRUE                       </td><td> 0.05114286                </td><td> 1.5841429                 </td><td>-0.3070000                 </td></tr>\n",
       "\t<tr><th scope=row>1931</th><td>11                         </td><td> 64.212                    </td><td> 35.887                    </td><td> 59.265                    </td><td>7                          </td><td>sub-032210                 </td><td>T1                         </td><td>1                          </td><td>11                         </td><td>intermammillary sulcus     </td><td>1.533772                   </td><td>TRUE                       </td><td>-0.12313644                </td><td> 1.4826210                 </td><td>-0.3730003                 </td></tr>\n",
       "\t<tr><th scope=row>2041</th><td>25                         </td><td> 75.546                    </td><td> 39.542                    </td><td> 52.087                    </td><td>9                          </td><td>sub-032210                 </td><td>T1                         </td><td>2                          </td><td>25                         </td><td>R inferior AM temporal horn</td><td>1.691614                   </td><td>TRUE                       </td><td> 1.48327776                </td><td> 0.7072618                 </td><td>-0.4015297                 </td></tr>\n",
       "\t<tr><th scope=row>2042</th><td>26                         </td><td> 54.007                    </td><td> 38.080                    </td><td> 52.023                    </td><td>9                          </td><td>sub-032210                 </td><td>T1                         </td><td>2                          </td><td>26                         </td><td>L inferior AM temporal horn</td><td>1.602095                   </td><td>TRUE                       </td><td>-1.32922309                </td><td>-0.4526755                 </td><td>-0.7713361                 </td></tr>\n",
       "\t<tr><th scope=row>2417</th><td>17                         </td><td> 85.339                    </td><td> 53.689                    </td><td>117.538                    </td><td>3                          </td><td>sub-032213                 </td><td>T1                         </td><td>2                          </td><td>17                         </td><td>RLVPC                      </td><td>1.713421                   </td><td>TRUE                       </td><td>-0.17885714                </td><td> 1.5922857                 </td><td> 0.6070000                 </td></tr>\n",
       "\t<tr><th scope=row>2482</th><td>18                         </td><td> 69.699                    </td><td> 53.358                    </td><td>118.114                    </td><td>6                          </td><td>sub-032213                 </td><td>T1                         </td><td>2                          </td><td>18                         </td><td>L LV at PC                 </td><td>1.805791                   </td><td>TRUE                       </td><td>-0.11266667                </td><td> 1.5021667                 </td><td> 0.9958333                 </td></tr>\n",
       "</tbody>\n",
       "</table>\n"
      ],
      "text/latex": [
       "\\begin{tabular}{r|lllllllllllllll}\n",
       "  & fid & X & Y & Z & rater & subject & mri\\_type & session & name & description & mean\\_AFLE & outlier & xdist & ydist & zdist\\\\\n",
       "\\hline\n",
       "\t346 & 26                          & -10.421                     &   1.232                     & -14.811                     & 2                           & sub-032105                  & T1                          & 2                           & 26                          & LIAMTH                      & 1.700312                    & TRUE                        & -1.16450000                 & -1.1113333                  & -0.5476667                 \\\\\n",
       "\t441 & 25                          &  10.646                     &   2.000                     & -14.157                     & 7                           & sub-032105                  & T1                          & 1                           & 25                          & R inferior AM temporal horn & 1.583045                    & TRUE                        & -0.58985714                 & -1.4655714                  &  0.1010000                 \\\\\n",
       "\t503 & 23                          &   9.973                     &  -2.256                     &  -9.915                     & 9                           & sub-032105                  & T1                          & 1                           & 23                          & R superior AM temporal horn & 1.520745                    & TRUE                        &  0.25600000                 & -1.2086000                  &  0.8868000                 \\\\\n",
       "\t1066 & 10                          &  -0.520                     & -25.738                     &  49.056                     & 2                           & sub-032199                  & T1                          & 2                           & 10                          & CUL                         & 1.614427                    & TRUE                        &  0.05114286                 &  1.5841429                  & -0.3070000                 \\\\\n",
       "\t1931 & 11                          &  64.212                     &  35.887                     &  59.265                     & 7                           & sub-032210                  & T1                          & 1                           & 11                          & intermammillary sulcus      & 1.533772                    & TRUE                        & -0.12313644                 &  1.4826210                  & -0.3730003                 \\\\\n",
       "\t2041 & 25                          &  75.546                     &  39.542                     &  52.087                     & 9                           & sub-032210                  & T1                          & 2                           & 25                          & R inferior AM temporal horn & 1.691614                    & TRUE                        &  1.48327776                 &  0.7072618                  & -0.4015297                 \\\\\n",
       "\t2042 & 26                          &  54.007                     &  38.080                     &  52.023                     & 9                           & sub-032210                  & T1                          & 2                           & 26                          & L inferior AM temporal horn & 1.602095                    & TRUE                        & -1.32922309                 & -0.4526755                  & -0.7713361                 \\\\\n",
       "\t2417 & 17                          &  85.339                     &  53.689                     & 117.538                     & 3                           & sub-032213                  & T1                          & 2                           & 17                          & RLVPC                       & 1.713421                    & TRUE                        & -0.17885714                 &  1.5922857                  &  0.6070000                 \\\\\n",
       "\t2482 & 18                          &  69.699                     &  53.358                     & 118.114                     & 6                           & sub-032213                  & T1                          & 2                           & 18                          & L LV at PC                  & 1.805791                    & TRUE                        & -0.11266667                 &  1.5021667                  &  0.9958333                 \\\\\n",
       "\\end{tabular}\n"
      ],
      "text/markdown": [
       "\n",
       "| <!--/--> | fid | X | Y | Z | rater | subject | mri_type | session | name | description | mean_AFLE | outlier | xdist | ydist | zdist |\n",
       "|---|---|---|---|---|---|---|---|---|---|---|---|---|---|---|---|\n",
       "| 346 | 26                          | -10.421                     |   1.232                     | -14.811                     | 2                           | sub-032105                  | T1                          | 2                           | 26                          | LIAMTH                      | 1.700312                    | TRUE                        | -1.16450000                 | -1.1113333                  | -0.5476667                  |\n",
       "| 441 | 25                          |  10.646                     |   2.000                     | -14.157                     | 7                           | sub-032105                  | T1                          | 1                           | 25                          | R inferior AM temporal horn | 1.583045                    | TRUE                        | -0.58985714                 | -1.4655714                  |  0.1010000                  |\n",
       "| 503 | 23                          |   9.973                     |  -2.256                     |  -9.915                     | 9                           | sub-032105                  | T1                          | 1                           | 23                          | R superior AM temporal horn | 1.520745                    | TRUE                        |  0.25600000                 | -1.2086000                  |  0.8868000                  |\n",
       "| 1066 | 10                          |  -0.520                     | -25.738                     |  49.056                     | 2                           | sub-032199                  | T1                          | 2                           | 10                          | CUL                         | 1.614427                    | TRUE                        |  0.05114286                 |  1.5841429                  | -0.3070000                  |\n",
       "| 1931 | 11                          |  64.212                     |  35.887                     |  59.265                     | 7                           | sub-032210                  | T1                          | 1                           | 11                          | intermammillary sulcus      | 1.533772                    | TRUE                        | -0.12313644                 |  1.4826210                  | -0.3730003                  |\n",
       "| 2041 | 25                          |  75.546                     |  39.542                     |  52.087                     | 9                           | sub-032210                  | T1                          | 2                           | 25                          | R inferior AM temporal horn | 1.691614                    | TRUE                        |  1.48327776                 |  0.7072618                  | -0.4015297                  |\n",
       "| 2042 | 26                          |  54.007                     |  38.080                     |  52.023                     | 9                           | sub-032210                  | T1                          | 2                           | 26                          | L inferior AM temporal horn | 1.602095                    | TRUE                        | -1.32922309                 | -0.4526755                  | -0.7713361                  |\n",
       "| 2417 | 17                          |  85.339                     |  53.689                     | 117.538                     | 3                           | sub-032213                  | T1                          | 2                           | 17                          | RLVPC                       | 1.713421                    | TRUE                        | -0.17885714                 |  1.5922857                  |  0.6070000                  |\n",
       "| 2482 | 18                          |  69.699                     |  53.358                     | 118.114                     | 6                           | sub-032213                  | T1                          | 2                           | 18                          | L LV at PC                  | 1.805791                    | TRUE                        | -0.11266667                 |  1.5021667                  |  0.9958333                  |\n",
       "\n"
      ],
      "text/plain": [
       "     fid X       Y       Z       rater subject    mri_type session name\n",
       "346  26  -10.421   1.232 -14.811 2     sub-032105 T1       2       26  \n",
       "441  25   10.646   2.000 -14.157 7     sub-032105 T1       1       25  \n",
       "503  23    9.973  -2.256  -9.915 9     sub-032105 T1       1       23  \n",
       "1066 10   -0.520 -25.738  49.056 2     sub-032199 T1       2       10  \n",
       "1931 11   64.212  35.887  59.265 7     sub-032210 T1       1       11  \n",
       "2041 25   75.546  39.542  52.087 9     sub-032210 T1       2       25  \n",
       "2042 26   54.007  38.080  52.023 9     sub-032210 T1       2       26  \n",
       "2417 17   85.339  53.689 117.538 3     sub-032213 T1       2       17  \n",
       "2482 18   69.699  53.358 118.114 6     sub-032213 T1       2       18  \n",
       "     description                 mean_AFLE outlier xdist       ydist     \n",
       "346  LIAMTH                      1.700312  TRUE    -1.16450000 -1.1113333\n",
       "441  R inferior AM temporal horn 1.583045  TRUE    -0.58985714 -1.4655714\n",
       "503  R superior AM temporal horn 1.520745  TRUE     0.25600000 -1.2086000\n",
       "1066 CUL                         1.614427  TRUE     0.05114286  1.5841429\n",
       "1931 intermammillary sulcus      1.533772  TRUE    -0.12313644  1.4826210\n",
       "2041 R inferior AM temporal horn 1.691614  TRUE     1.48327776  0.7072618\n",
       "2042 L inferior AM temporal horn 1.602095  TRUE    -1.32922309 -0.4526755\n",
       "2417 RLVPC                       1.713421  TRUE    -0.17885714  1.5922857\n",
       "2482 L LV at PC                  1.805791  TRUE    -0.11266667  1.5021667\n",
       "     zdist     \n",
       "346  -0.5476667\n",
       "441   0.1010000\n",
       "503   0.8868000\n",
       "1066 -0.3070000\n",
       "1931 -0.3730003\n",
       "2041 -0.4015297\n",
       "2042 -0.7713361\n",
       "2417  0.6070000\n",
       "2482  0.9958333"
      ]
     },
     "metadata": {},
     "output_type": "display_data"
    }
   ],
   "source": [
    "# Screen for outliers\n",
    "subset(df_raters_QC_P3, mean_AFLE > 1.5)"
   ]
  },
  {
   "cell_type": "code",
   "execution_count": 24,
   "metadata": {},
   "outputs": [
    {
     "data": {
      "text/plain": [
       "R version 3.6.1 (2019-07-05)\n",
       "Platform: x86_64-apple-darwin13.4.0 (64-bit)\n",
       "Running under: macOS Catalina 10.15.7\n",
       "\n",
       "Matrix products: default\n",
       "BLAS/LAPACK: /Users/jclau/anaconda3/envs/r-tutorial/lib/R/lib/libRblas.dylib\n",
       "\n",
       "locale:\n",
       "[1] en_CA.UTF-8/en_CA.UTF-8/en_CA.UTF-8/C/en_CA.UTF-8/en_CA.UTF-8\n",
       "\n",
       "attached base packages:\n",
       "[1] stats     graphics  grDevices utils     datasets  methods   base     \n",
       "\n",
       "other attached packages:\n",
       "[1] ggplot2_3.1.1  reshape2_1.4.3 digest_0.6.18  plyr_1.8.4    \n",
       "\n",
       "loaded via a namespace (and not attached):\n",
       " [1] Rcpp_1.0.1       magrittr_1.5     tidyselect_0.2.5 munsell_0.5.0   \n",
       " [5] uuid_0.1-2       colorspace_1.4-1 R6_2.4.0         rlang_0.3.4     \n",
       " [9] dplyr_0.8.0.1    stringr_1.4.0    tools_3.6.1      grid_3.6.1      \n",
       "[13] gtable_0.3.0     withr_2.1.2      htmltools_0.3.6  assertthat_0.2.1\n",
       "[17] lazyeval_0.2.2   tibble_2.1.1     crayon_1.3.4     IRdisplay_0.7.0 \n",
       "[21] purrr_0.3.2      repr_0.19.2      base64enc_0.1-3  IRkernel_0.8.15 \n",
       "[25] glue_1.3.1       evaluate_0.13    pbdZMQ_0.3-3     stringi_1.4.3   \n",
       "[29] compiler_3.6.1   pillar_1.3.1     scales_1.0.0     jsonlite_1.6    \n",
       "[33] pkgconfig_2.0.2 "
      ]
     },
     "metadata": {},
     "output_type": "display_data"
    }
   ],
   "source": [
    "# versioning info\n",
    "sessionInfo()"
   ]
  }
 ],
 "metadata": {
  "colab": {
   "name": "PHASE1_template_validation.ipynb",
   "provenance": []
  },
  "kernelspec": {
   "display_name": "R",
   "language": "R",
   "name": "ir"
  },
  "language_info": {
   "codemirror_mode": "r",
   "file_extension": ".r",
   "mimetype": "text/x-r-source",
   "name": "R",
   "pygments_lexer": "r",
   "version": "3.6.1"
  }
 },
 "nbformat": 4,
 "nbformat_minor": 1
}
