{
 "cells": [
  {
   "cell_type": "markdown",
   "metadata": {},
   "source": [
    "# Transform AFIDS between macaque templates using RheMAP transforms\n",
    "**Authors:** Nikoloz Sirmpilatze (NSirmpilatze@dpz.eu)\n",
    "\n",
    "Five volumetric macaque MRI templates are used:\n",
    "* NMT v1.3\n",
    "* D99\n",
    "* INIA19\n",
    "* MNI macaque\n",
    "* Yerkes 19\n",
    "\n",
    "The between-template transforms come from RheMAP. There are 2 kinds of transforms for each template pair:\n",
    "* Linear transforms: affine, 12 degrees of freedom\n",
    "* Final transforms: composite warps combining the above affine with a non-linear warp computed using ANTs SyN"
   ]
  },
  {
   "cell_type": "markdown",
   "metadata": {},
   "source": [
    "## Import libraries"
   ]
  },
  {
   "cell_type": "code",
   "execution_count": 1,
   "metadata": {},
   "outputs": [],
   "source": [
    "import os\n",
    "from itertools import combinations\n",
    "# Import function form local py file\n",
    "from utils import transform_fcsv"
   ]
  },
  {
   "cell_type": "markdown",
   "metadata": {},
   "source": [
    "## Define paths "
   ]
  },
  {
   "cell_type": "code",
   "execution_count": 2,
   "metadata": {},
   "outputs": [],
   "source": [
    "os.chdir(os.getcwd())\n",
    "\n",
    "# prefixes (RheMAP and AFIDs use different prefixes for the templates)\n",
    "rhemap_prefixes = ['NMTv1.3', 'D99', 'INIA', 'MNI', 'YRK']\n",
    "afids_prefixes = ['nmtv1.3', 'd99', 'inia19', 'macaqueMNI', 'yerkes19']\n",
    "# make dictionary matching RheMAP prefixes to AFIDs prefixes\n",
    "prefix_dict = {key: value for (key, value) in zip(rhemap_prefixes, afids_prefixes)}\n",
    "\n",
    "# Warps (Replace with your local RheMAP warp paths)\n",
    "warps = '/home/niko/MRI/RheMAP/warps/'\n",
    "warps_linear = os.path.join(warps, 'linear/') # linear: Affine only\n",
    "warps_final = os.path.join(warps, 'final/') # final: composite Affine + SyN\n",
    "\n",
    "# fiducials (stored within the repository)\n",
    "repo_path = os.path.dirname(os.getcwd()) + '/'\n",
    "# mean fiducials for each template\n",
    "fid_inputs = os.path.join(repo_path, 'data/PHASE1_output_afid_postQC/')\n",
    "# folder in which tranformed fiducials will be saved\n",
    "fid_outputs = os.path.join(repo_path, 'data/PHASE3_RheMAP_transformed_NEW/')"
   ]
  },
  {
   "cell_type": "markdown",
   "metadata": {},
   "source": [
    "## Apply transforms to points\n",
    "**Important note**: ANTs transforms on points work in the opposite direction (as compared to image transforms).\n",
    "\n",
    "For example, let's imagine we have to go from space A to space B either using a linear transform (.mat) or a non-linear warp(.nii.gz)\n",
    "* Linear A-to-B transform for images: `antsApplyTransforms -i A -r B -o A-in-B -t A-to-B.mat`\n",
    "* Linear A-to-B transform for points: `antsApplyTransformsToPoints -i A -r B -o A-in-B -t [A-to-B.mat, 1]` (inverting the forward transform)\n",
    "* Nonlinear A-to-B transform for images: `antsApplyTransforms -i A -r B -o A-in-B -t A-to-B_1Warp.nii.gz` (for RheMAP we would use the `A-to-B_CompositeWarp.nii.gz`)\n",
    "* Nonlinear A-to-B transform for points: `antsApplyTransformsToPoints -i A -r B -o A-in-B A-to-B_1InverseWarp.nii.gz` (for RheMAP we would use the `B-to-A_CompositeWarp.nii.gz`)"
   ]
  },
  {
   "cell_type": "code",
   "execution_count": 5,
   "metadata": {},
   "outputs": [
    {
     "name": "stdout",
     "output_type": "stream",
     "text": [
      "Transforming fiducials between nmtv1.3 and d99...\n",
      "nmtv1.3 fiducials linearly transformed to d99 space\n",
      "nmtv1.3 fiducials nonlinearly transformed to d99 space\n",
      "d99 fiducials linearly transformed to nmtv1.3 space\n",
      "d99 fiducials nonlinearly transformed to nmtv1.3 space\n",
      "\n",
      "Transforming fiducials between nmtv1.3 and inia19...\n",
      "nmtv1.3 fiducials linearly transformed to inia19 space\n",
      "nmtv1.3 fiducials nonlinearly transformed to inia19 space\n",
      "inia19 fiducials linearly transformed to nmtv1.3 space\n",
      "inia19 fiducials nonlinearly transformed to nmtv1.3 space\n",
      "\n",
      "Transforming fiducials between nmtv1.3 and macaqueMNI...\n",
      "nmtv1.3 fiducials linearly transformed to macaqueMNI space\n",
      "nmtv1.3 fiducials nonlinearly transformed to macaqueMNI space\n",
      "macaqueMNI fiducials linearly transformed to nmtv1.3 space\n",
      "macaqueMNI fiducials nonlinearly transformed to nmtv1.3 space\n",
      "\n",
      "Transforming fiducials between nmtv1.3 and yerkes19...\n",
      "nmtv1.3 fiducials linearly transformed to yerkes19 space\n",
      "nmtv1.3 fiducials nonlinearly transformed to yerkes19 space\n",
      "yerkes19 fiducials linearly transformed to nmtv1.3 space\n",
      "yerkes19 fiducials nonlinearly transformed to nmtv1.3 space\n",
      "\n",
      "Transforming fiducials between d99 and inia19...\n",
      "d99 fiducials linearly transformed to inia19 space\n",
      "d99 fiducials nonlinearly transformed to inia19 space\n",
      "inia19 fiducials linearly transformed to d99 space\n",
      "inia19 fiducials nonlinearly transformed to d99 space\n",
      "\n",
      "Transforming fiducials between d99 and macaqueMNI...\n",
      "d99 fiducials linearly transformed to macaqueMNI space\n",
      "d99 fiducials nonlinearly transformed to macaqueMNI space\n",
      "macaqueMNI fiducials linearly transformed to d99 space\n",
      "macaqueMNI fiducials nonlinearly transformed to d99 space\n",
      "\n",
      "Transforming fiducials between d99 and yerkes19...\n",
      "d99 fiducials linearly transformed to yerkes19 space\n",
      "d99 fiducials nonlinearly transformed to yerkes19 space\n",
      "yerkes19 fiducials linearly transformed to d99 space\n",
      "yerkes19 fiducials nonlinearly transformed to d99 space\n",
      "\n",
      "Transforming fiducials between inia19 and macaqueMNI...\n",
      "inia19 fiducials linearly transformed to macaqueMNI space\n",
      "inia19 fiducials nonlinearly transformed to macaqueMNI space\n",
      "macaqueMNI fiducials linearly transformed to inia19 space\n",
      "macaqueMNI fiducials nonlinearly transformed to inia19 space\n",
      "\n",
      "Transforming fiducials between inia19 and yerkes19...\n",
      "inia19 fiducials linearly transformed to yerkes19 space\n",
      "inia19 fiducials nonlinearly transformed to yerkes19 space\n",
      "yerkes19 fiducials linearly transformed to inia19 space\n",
      "yerkes19 fiducials nonlinearly transformed to inia19 space\n",
      "\n",
      "Transforming fiducials between macaqueMNI and yerkes19...\n",
      "macaqueMNI fiducials linearly transformed to yerkes19 space\n",
      "macaqueMNI fiducials nonlinearly transformed to yerkes19 space\n",
      "yerkes19 fiducials linearly transformed to macaqueMNI space\n",
      "yerkes19 fiducials nonlinearly transformed to macaqueMNI space\n",
      "\n"
     ]
    }
   ],
   "source": [
    "# Iterate over unique template pairs\n",
    "for rheA, rheB in combinations(rhemap_prefixes, 2):\n",
    "\n",
    "    # prefixes\n",
    "    afdA, afdB = prefix_dict[rheA], prefix_dict[rheB]\n",
    "    print(f'Transforming fiducials between {afdA} and {afdB}...')\n",
    "\n",
    "    # input fiducials\n",
    "    fcsv_A = os.path.join(fid_inputs + f'{afdA}_MEAN_QC.fcsv')\n",
    "    fcsv_B = os.path.join(fid_inputs + f'{afdB}_MEAN_QC.fcsv')\n",
    "\n",
    "    # output fiducials\n",
    "    fcsv_AinB_linear = os.path.join(fid_outputs, f'{afdA}_MEAN_QC_in_{afdB}_linear.fcsv')\n",
    "    fcsv_AinB_final = os.path.join(fid_outputs, f'{afdA}_MEAN_QC_in_{afdB}_final.fcsv')\n",
    "    fcsv_BinA_linear = os.path.join(fid_outputs, f'{afdB}_MEAN_QC_in_{afdA}_linear.fcsv')\n",
    "    fcsv_BinA_final = os.path.join(fid_outputs, f'{afdB}_MEAN_QC_in_{afdA}_final.fcsv')\n",
    "\n",
    "    # transforms\n",
    "    AtoB_linear = os.path.join(warps_linear, f'{rheA}_to_{rheB}_affine_0GenericAffine.mat')\n",
    "    AtoB_final = os.path.join(warps_final, f'{rheA}_to_{rheB}_CompositeWarp.nii.gz')\n",
    "    BtoA_final = os.path.join(warps_final, f'{rheB}_to_{rheA}_CompositeWarp.nii.gz')\n",
    "\n",
    "    # apply A to B transforms\n",
    "    transform_fcsv(fcsv_A, fcsv_AinB_linear, AtoB_linear, invert=1)\n",
    "    print(f'{afdA} fiducials linearly transformed to {afdB} space')\n",
    "    transform_fcsv(fcsv_A, fcsv_AinB_final, BtoA_final)\n",
    "    print(f'{afdA} fiducials nonlinearly transformed to {afdB} space')\n",
    "\n",
    "    # apply B to A transforms\n",
    "    transform_fcsv(fcsv_B, fcsv_BinA_linear, AtoB_linear, invert=0)\n",
    "    print(f'{afdB} fiducials linearly transformed to {afdA} space')\n",
    "    transform_fcsv(fcsv_B, fcsv_BinA_final, AtoB_final)\n",
    "    print(f'{afdB} fiducials nonlinearly transformed to {afdA} space\\n')"
   ]
  },
  {
   "cell_type": "markdown",
   "metadata": {},
   "source": []
  }
 ],
 "metadata": {
  "kernelspec": {
   "display_name": "Python 3",
   "language": "python",
   "name": "python3"
  },
  "language_info": {
   "codemirror_mode": {
    "name": "ipython",
    "version": 3
   },
   "file_extension": ".py",
   "mimetype": "text/x-python",
   "name": "python",
   "nbconvert_exporter": "python",
   "pygments_lexer": "ipython3",
   "version": "3.7.6"
  }
 },
 "nbformat": 4,
 "nbformat_minor": 4
}
