{
 "cells": [
  {
   "cell_type": "markdown",
   "metadata": {
    "colab_type": "text",
    "id": "I_iwzgReK95V"
   },
   "source": [
    "# Phase 0: Protocol Validation for Brain Templates¶\n",
    "\n",
    "This notebook contains results validating the AFID protocol on five openly available macaque templates (D99, INIA19, MNI, NMTv1.3, and Yerkes19). At this stage, the protocol and specific instructions for placing the templates is still in flux (thus Phase 0). This project was based on work accomplished at the BrainWeb sprint in April 2020.\n",
    "\n",
    "At this point, we'd like to be more sensitive to discrepancies in rater placements so an outlier is defined as a value of > 1.5 mm (3 voxels) from the mean.\n",
    "\n",
    "The first step is to initialize the variables, define useful functions, and load all the raw fcsv data into df_raters.\n"
   ]
  },
  {
   "cell_type": "code",
   "execution_count": 1,
   "metadata": {
    "colab": {},
    "colab_type": "code",
    "id": "3kYMkDZcK7lN"
   },
   "outputs": [
    {
     "name": "stderr",
     "output_type": "stream",
     "text": [
      "Registered S3 methods overwritten by 'ggplot2':\n",
      "  method         from \n",
      "  [.quosures     rlang\n",
      "  c.quosures     rlang\n",
      "  print.quosures rlang\n"
     ]
    }
   ],
   "source": [
    "# initialize libraries\n",
    "library(plyr)\n",
    "library(digest)\n",
    "library(reshape2)\n",
    "library(ggplot2)\n",
    "#library(\"plot3D\")"
   ]
  },
  {
   "cell_type": "code",
   "execution_count": 2,
   "metadata": {
    "colab": {},
    "colab_type": "code",
    "id": "xSZ17vISMDIj"
   },
   "outputs": [],
   "source": [
    "# useful functions\n",
    "\n",
    "# calculate the distance between two sets of coordinates\n",
    "dist3D <- function(coord1, coord2) { # vector X,Y,Z\n",
    "        xdist <- coord1[1] - coord2[1] # could also write as coord1$X, etc.\n",
    "        ydist <- coord1[2] - coord2[2]\n",
    "        zdist <- coord1[3] - coord2[3]\n",
    "        return(as.numeric(sqrt(xdist^2+ydist^2+zdist^2)))\n",
    "}\n",
    "\n",
    "# calculate the pairwise distance between an array of 3D coordinates\n",
    "pairwise_dist3D <- function(temp_coords) { # labeled X,Y,Z\n",
    "        N <- length(temp_coords$X)\n",
    "        dist_vec <- rep(0,N) # create vector\n",
    "        sum_dist <- 0 # initialize to zero\n",
    "        count <- 0\n",
    "        for (i in 1:(N-1)) {\n",
    "                for (j in (i+1):N) {\n",
    "                        if (i != j) {\n",
    "                                count <- count + 1\n",
    "                                first_coord <- temp_coords[i,]\n",
    "                                second_coord <- temp_coords[j,]\n",
    "                                curr_dist <- dist3D(first_coord, second_coord)\n",
    "                                sum_dist <- sum_dist + curr_dist\n",
    "                                dist_vec[count] <- curr_dist\n",
    "                        }\n",
    "                }\n",
    "        }\n",
    "        return(c(as.numeric(mean(dist_vec)),as.numeric(sd(dist_vec))))\n",
    "}"
   ]
  },
  {
   "cell_type": "code",
   "execution_count": 3,
   "metadata": {
    "colab": {
     "base_uri": "https://localhost:8080/",
     "height": 198
    },
    "colab_type": "code",
    "id": "ti5T7Qq8MLM8",
    "outputId": "4565bcf8-02e3-4f9f-bc6e-e5af3c7b6109"
   },
   "outputs": [],
   "source": [
    "# initialize variables and load in raw fcsv data into df_raters\n",
    "setwd('~/Documents/GitHub/afids-macaca/data/PHASE0_input_afid/')\n",
    "\n",
    "df_afids <- read.table('~/Documents/GitHub/afids-macaca/etc/afids.csv', sep=\",\", header=TRUE)\n",
    "\n",
    "df_raters <- data.frame(fid=integer(),X=double(),Y=double(),Z=double(),rater=factor(),\n",
    "                        template=factor(),mri_type=factor(),session=integer(),\n",
    "                        name=character(),description=character(),stringsAsFactors = FALSE)\n",
    "csv_files <- list.files('.', \"*.fcsv\")\n",
    "\n",
    "for (i in 1:length(csv_files)) {\n",
    "    curr_split <- unlist(strsplit(csv_files[i],\"_\"))\n",
    "    if (length(curr_split)>1) { # extract name and session data\n",
    "        rater_template <- curr_split[2]\n",
    "        rater_mri_type <- curr_split[3]\n",
    "        rater_name <- curr_split[4]\n",
    "        rater_session <- as.numeric(unlist(strsplit(curr_split[5],\"[.]\"))[1])\n",
    "    }\n",
    "    curr_rater <- read.table(csv_files[i], header=FALSE, sep=\",\")\n",
    "    df_rater <- data.frame(fid = 1:length(curr_rater$V1))\n",
    "\n",
    "    df_rater <- cbind(df_rater,X=curr_rater[2],Y=curr_rater[3],Z=curr_rater[4],rater=rater_name,\n",
    "                    template=rater_template,mri_type=rater_mri_type,\n",
    "                    session=rater_session,name=curr_rater[12],\n",
    "                    description=curr_rater[13])\n",
    "  \n",
    "    df_rater <- rename(df_rater, c(\"V2\"=\"X\",\"V3\"=\"Y\",\"V4\"=\"Z\",\"V12\"=\"name\",\"V13\"=\"description\"))\n",
    "    df_raters <- rbind(df_raters,df_rater)\n",
    "}\n",
    "\n",
    "levels(df_raters$rater) <- 1:8"
   ]
  },
  {
   "cell_type": "markdown",
   "metadata": {},
   "source": [
    "# Template Averages\n",
    "\n",
    "For each template, we calculate the mean value for each afid point and store it in a separate .fcsv file so that it can be loaded back into 3D Slicer.\n",
    "\n",
    "Deviation of the values by > 10 mm will be classified as an outlier."
   ]
  },
  {
   "cell_type": "code",
   "execution_count": 4,
   "metadata": {},
   "outputs": [],
   "source": [
    "# start by calculating mean coordinates\n",
    "df_template_mean <- data.frame(fid=integer(),X=double(),Y=double(),Z=double(),\n",
    "                        template=factor(), name=factor(),description=character(),stringsAsFactors = FALSE)\n",
    "df_template_sd <- data.frame(fid=integer(),X=double(),Y=double(),Z=double(),\n",
    "                        template=factor(), name=factor(),description=character(),stringsAsFactors = FALSE)\n",
    "\n",
    "# iterate over each template and compute the mean and standard deviation\n",
    "for (curr_template in levels(df_raters$template)) {\n",
    "    for (i in 1:32) { # for each AFID32 point, calculate the mean\n",
    "        df_subset <- subset(df_raters, fid == i & template == curr_template)\n",
    "        curr_fid_name <- df_afids$name[i]\n",
    "        curr_fid_desc <- df_afids$description[i]\n",
    "        df_curr_fid <- data.frame(fid = i, X = mean(df_subset$X), Y = mean(df_subset$Y), Z = mean(df_subset$Z),\n",
    "                        template=curr_template, name=curr_fid_name, description=curr_fid_desc)\n",
    "        df_template_mean <- rbind(df_template_mean, df_curr_fid)\n",
    "        df_curr_fid_sd <- data.frame(fid = i, X = sd(df_subset$X), Y = sd(df_subset$Y), Z = sd(df_subset$Z),\n",
    "                        template=curr_template, name=curr_fid_name, description=curr_fid_desc)\n",
    "        df_template_sd <- rbind(df_template_sd, df_curr_fid_sd)\n",
    "    }\n",
    "}\n",
    "\n",
    "# TODO: in afids-analysis, we create separate .fcsv files for each template"
   ]
  },
  {
   "cell_type": "code",
   "execution_count": 5,
   "metadata": {},
   "outputs": [],
   "source": [
    "# start by calculating mean coordinates\n",
    "df_template_mean <- data.frame(fid=integer(),X=double(),Y=double(),Z=double(),\n",
    "                        template=factor(), name=factor(),description=character(),stringsAsFactors = FALSE)\n",
    "df_template_sd <- data.frame(fid=integer(),X=double(),Y=double(),Z=double(),\n",
    "                        template=factor(), name=factor(),description=character(),stringsAsFactors = FALSE)\n",
    "\n",
    "# iterate over each template and compute the mean and standard deviation\n",
    "for (curr_template in levels(df_raters$template)) {\n",
    "    for (i in 1:32) { # for each AFID32 point, calculate the mean\n",
    "        df_subset <- subset(df_raters, fid == i & template == curr_template)\n",
    "        curr_fid_name <- df_afids$name[i]\n",
    "        curr_fid_desc <- df_afids$description[i]\n",
    "        df_curr_fid <- data.frame(fid = i, X = mean(df_subset$X), Y = mean(df_subset$Y), Z = mean(df_subset$Z),\n",
    "                        template=curr_template, name=curr_fid_name, description=curr_fid_desc)\n",
    "        df_template_mean <- rbind(df_template_mean, df_curr_fid)\n",
    "        df_curr_fid_sd <- data.frame(fid = i, X = sd(df_subset$X), Y = sd(df_subset$Y), Z = sd(df_subset$Z),\n",
    "                        template=curr_template, name=curr_fid_name, description=curr_fid_desc)\n",
    "        df_template_sd <- rbind(df_template_sd, df_curr_fid_sd)\n",
    "    }\n",
    "}\n",
    "\n",
    "##########################################################################################\n",
    "# d99\n",
    "##########################################################################################\n",
    "df_d99_mean <- subset(df_template_mean, template == 'd99')\n",
    "df_d99_fcsv <- data.frame(id=paste('vtkMRMLMarkupsFiducialNode',df_d99_mean$fid,sep=\"_\"),x=df_d99_mean$X,y=df_d99_mean$Y,z=df_d99_mean$Z,\n",
    "                                ow=0,ox=0,oy=0,oz=1,\n",
    "                                vis=1,sel=1,lock=0,label=df_d99_mean$fid,desc=df_d99_mean$description,\n",
    "                                associatedNodeID='vtkMRMLScalarVolumeNode1',stringsAsFactors = FALSE)\n",
    "\n",
    "# write out table (need to use file connection approach because of multiple header lines required by Slicer)\n",
    "fio <- file('~/Documents/GitHub/afids-macaca/data/PHASE0_output_afid/d99_MEAN.fcsv', open=\"wt\")\n",
    "writeLines(paste('# Markups fiducial file version = 4.6'),fio)\n",
    "writeLines(paste('# CoordinateSystem = 0'),fio)\n",
    "writeLines(paste('# columns = id,x,y,z,ow,ox,oy,oz,vis,sel,lock,label,desc,associatedNodeID'),fio)\n",
    "write.table(df_d99_fcsv,fio,sep=',',quote=FALSE,col.names=FALSE,row.names=FALSE)\n",
    "close(fio)\n",
    "\n",
    "##########################################################################################\n",
    "# INIA19\n",
    "##########################################################################################\n",
    "df_inia19_mean <- subset(df_template_mean, template == 'inia19')\n",
    "df_inia19_fcsv <- data.frame(id=paste('vtkMRMLMarkupsFiducialNode',df_inia19_mean$fid,sep=\"_\"),x=df_inia19_mean$X,y=df_inia19_mean$Y,z=df_inia19_mean$Z,\n",
    "                                ow=0,ox=0,oy=0,oz=1,\n",
    "                                vis=1,sel=1,lock=0,label=df_inia19_mean$fid,desc=df_inia19_mean$description,\n",
    "                                associatedNodeID='vtkMRMLScalarVolumeNode1',stringsAsFactors = FALSE)\n",
    "\n",
    "# write out table (need to use file connection approach because of multiple header lines required by Slicer)\n",
    "fio <- file('~/Documents/GitHub/afids-macaca/data/PHASE0_output_afid/inia19_MEAN.fcsv', open=\"wt\")\n",
    "writeLines(paste('# Markups fiducial file version = 4.6'),fio)\n",
    "writeLines(paste('# CoordinateSystem = 0'),fio)\n",
    "writeLines(paste('# columns = id,x,y,z,ow,ox,oy,oz,vis,sel,lock,label,desc,associatedNodeID'),fio)\n",
    "write.table(df_inia19_fcsv,fio,sep=',',quote=FALSE,col.names=FALSE,row.names=FALSE)\n",
    "close(fio)\n",
    "\n",
    "##########################################################################################\n",
    "# macaqueMNI\n",
    "##########################################################################################\n",
    "df_macaqueMNI_mean <- subset(df_template_mean, template == 'macaqueMNI')\n",
    "df_macaqueMNI_fcsv <- data.frame(id=paste('vtkMRMLMarkupsFiducialNode',df_macaqueMNI_mean$fid,sep=\"_\"),x=df_macaqueMNI_mean$X,y=df_macaqueMNI_mean$Y,z=df_macaqueMNI_mean$Z,\n",
    "                                ow=0,ox=0,oy=0,oz=1,\n",
    "                                vis=1,sel=1,lock=0,label=df_macaqueMNI_mean$fid,desc=df_macaqueMNI_mean$description,\n",
    "                                associatedNodeID='vtkMRMLScalarVolumeNode1',stringsAsFactors = FALSE)\n",
    "\n",
    "# write out table (need to use file connection approach because of multiple header lines required by Slicer)\n",
    "fio <- file('~/Documents/GitHub/afids-macaca/data/PHASE0_output_afid/macaqueMNI_MEAN.fcsv', open=\"wt\")\n",
    "writeLines(paste('# Markups fiducial file version = 4.6'),fio)\n",
    "writeLines(paste('# CoordinateSystem = 0'),fio)\n",
    "writeLines(paste('# columns = id,x,y,z,ow,ox,oy,oz,vis,sel,lock,label,desc,associatedNodeID'),fio)\n",
    "write.table(df_macaqueMNI_fcsv,fio,sep=',',quote=FALSE,col.names=FALSE,row.names=FALSE)\n",
    "close(fio)\n",
    "\n",
    "##########################################################################################\n",
    "# nmtv1.3\n",
    "##########################################################################################\n",
    "df_nmtv1.3_mean <- subset(df_template_mean, template == 'nmtv1.3')\n",
    "df_nmtv1.3_fcsv <- data.frame(id=paste('vtkMRMLMarkupsFiducialNode',df_nmtv1.3_mean$fid,sep=\"_\"),x=df_nmtv1.3_mean$X,y=df_nmtv1.3_mean$Y,z=df_nmtv1.3_mean$Z,\n",
    "                                ow=0,ox=0,oy=0,oz=1,\n",
    "                                vis=1,sel=1,lock=0,label=df_nmtv1.3_mean$fid,desc=df_nmtv1.3_mean$description,\n",
    "                                associatedNodeID='vtkMRMLScalarVolumeNode1',stringsAsFactors = FALSE)\n",
    "\n",
    "# write out table (need to use file connection approach because of multiple header lines required by Slicer)\n",
    "fio <- file('~/Documents/GitHub/afids-macaca/data/PHASE0_output_afid/nmtv1.3_MEAN.fcsv', open=\"wt\")\n",
    "writeLines(paste('# Markups fiducial file version = 4.6'),fio)\n",
    "writeLines(paste('# CoordinateSystem = 0'),fio)\n",
    "writeLines(paste('# columns = id,x,y,z,ow,ox,oy,oz,vis,sel,lock,label,desc,associatedNodeID'),fio)\n",
    "write.table(df_nmtv1.3_fcsv,fio,sep=',',quote=FALSE,col.names=FALSE,row.names=FALSE)\n",
    "close(fio)\n",
    "\n",
    "##########################################################################################\n",
    "# yerkes19\n",
    "##########################################################################################\n",
    "df_yerkes19_mean <- subset(df_template_mean, template == 'yerkes19')\n",
    "df_yerkes19_fcsv <- data.frame(id=paste('vtkMRMLMarkupsFiducialNode',df_yerkes19_mean$fid,sep=\"_\"),x=df_yerkes19_mean$X,y=df_yerkes19_mean$Y,z=df_yerkes19_mean$Z,\n",
    "                                ow=0,ox=0,oy=0,oz=1,\n",
    "                                vis=1,sel=1,lock=0,label=df_yerkes19_mean$fid,desc=df_yerkes19_mean$description,\n",
    "                                associatedNodeID='vtkMRMLScalarVolumeNode1',stringsAsFactors = FALSE)\n",
    "\n",
    "# write out table (need to use file connection approach because of multiple header lines required by Slicer)\n",
    "fio <- file('~/Documents/GitHub/afids-macaca/data/PHASE0_output_afid/yerkes19_MEAN.fcsv', open=\"wt\")\n",
    "writeLines(paste('# Markups fiducial file version = 4.6'),fio)\n",
    "writeLines(paste('# CoordinateSystem = 0'),fio)\n",
    "writeLines(paste('# columns = id,x,y,z,ow,ox,oy,oz,vis,sel,lock,label,desc,associatedNodeID'),fio)\n",
    "write.table(df_yerkes19_fcsv,fio,sep=',',quote=FALSE,col.names=FALSE,row.names=FALSE)\n",
    "close(fio)"
   ]
  },
  {
   "cell_type": "markdown",
   "metadata": {},
   "source": [
    "# Phase 0: Raw Data Analysis\n",
    "\n",
    "Also classify extreme outliers, defined as >= 10 mm from the group mean"
   ]
  },
  {
   "cell_type": "code",
   "execution_count": 6,
   "metadata": {},
   "outputs": [],
   "source": [
    "df_raters$mean_AFLE <- NA # mean AFID localization error\n",
    "df_raters$outlier <- NA\n",
    "df_raters$xdist <- NA\n",
    "df_raters$ydist <- NA\n",
    "df_raters$zdist <- NA\n",
    "\n",
    "for (i in 1:dim(df_raters)[1]) {\n",
    "    curr_rater <- df_raters[i,]\n",
    "        \n",
    "    mean_raters <- df_d99_mean[curr_rater$fid,] # just so it's set to something for now\n",
    "    \n",
    "    #determine current template in order to assign the appropriate mean rater\n",
    "    if (curr_rater$template == 'd99') {\n",
    "        mean_raters <- df_d99_mean[curr_rater$fid,]\n",
    "    } else if (curr_rater$template == 'inia19') {\n",
    "        mean_raters <- df_inia19_mean[curr_rater$fid,]\n",
    "    } else if (curr_rater$template == 'macaqueMNI') {\n",
    "        mean_raters <- df_macaqueMNI_mean[curr_rater$fid,]\n",
    "    } else if (curr_rater$template == 'nmtv1.3') {\n",
    "        mean_raters <- df_nmtv1.3_mean[curr_rater$fid,]\n",
    "    } else if (curr_rater$template == 'yerkes19') {\n",
    "        mean_raters <- df_yerkes19_mean[curr_rater$fid,]        \n",
    "    } else {\n",
    "        # unidentified template, ...\n",
    "    }\n",
    "    df_raters[i,]$xdist <- curr_rater$X - mean_raters$X\n",
    "    df_raters[i,]$ydist <- curr_rater$Y - mean_raters$Y\n",
    "    df_raters[i,]$zdist <- curr_rater$Z - mean_raters$Z\n",
    "    curr_coords <- curr_rater[,2:4]\n",
    "    mean_coords <- mean_raters[,2:4]\n",
    "    df_raters[i,]$mean_AFLE <- dist3D(curr_coords, mean_coords)\n",
    "    df_raters[i,]$outlier <- (df_raters[i,]$mean_AFLE > 1.5) # outliers > 1.5mm\n",
    "}"
   ]
  },
  {
   "cell_type": "code",
   "execution_count": 7,
   "metadata": {},
   "outputs": [
    {
     "data": {
      "text/html": [
       "'Total: 0.54 +/- 0.46 mm; Outliers: 35/800 (4.38%)'"
      ],
      "text/latex": [
       "'Total: 0.54 +/- 0.46 mm; Outliers: 35/800 (4.38\\%)'"
      ],
      "text/markdown": [
       "'Total: 0.54 +/- 0.46 mm; Outliers: 35/800 (4.38%)'"
      ],
      "text/plain": [
       "[1] \"Total: 0.54 +/- 0.46 mm; Outliers: 35/800 (4.38%)\""
      ]
     },
     "metadata": {},
     "output_type": "display_data"
    },
    {
     "data": {
      "text/html": [
       "'d99: 0.59 +/- 0.47 mm; Outliers: 10/160 (6.25%)'"
      ],
      "text/latex": [
       "'d99: 0.59 +/- 0.47 mm; Outliers: 10/160 (6.25\\%)'"
      ],
      "text/markdown": [
       "'d99: 0.59 +/- 0.47 mm; Outliers: 10/160 (6.25%)'"
      ],
      "text/plain": [
       "[1] \"d99: 0.59 +/- 0.47 mm; Outliers: 10/160 (6.25%)\""
      ]
     },
     "metadata": {},
     "output_type": "display_data"
    },
    {
     "data": {
      "text/html": [
       "'inia19: 0.52 +/- 0.50 mm; Outliers: 9/160 (5.62%)'"
      ],
      "text/latex": [
       "'inia19: 0.52 +/- 0.50 mm; Outliers: 9/160 (5.62\\%)'"
      ],
      "text/markdown": [
       "'inia19: 0.52 +/- 0.50 mm; Outliers: 9/160 (5.62%)'"
      ],
      "text/plain": [
       "[1] \"inia19: 0.52 +/- 0.50 mm; Outliers: 9/160 (5.62%)\""
      ]
     },
     "metadata": {},
     "output_type": "display_data"
    },
    {
     "data": {
      "text/html": [
       "'macaqueMNI: 0.48 +/- 0.36 mm; Outliers: 5/160 (3.12%)'"
      ],
      "text/latex": [
       "'macaqueMNI: 0.48 +/- 0.36 mm; Outliers: 5/160 (3.12\\%)'"
      ],
      "text/markdown": [
       "'macaqueMNI: 0.48 +/- 0.36 mm; Outliers: 5/160 (3.12%)'"
      ],
      "text/plain": [
       "[1] \"macaqueMNI: 0.48 +/- 0.36 mm; Outliers: 5/160 (3.12%)\""
      ]
     },
     "metadata": {},
     "output_type": "display_data"
    },
    {
     "data": {
      "text/html": [
       "'nmtv1.3: 0.53 +/- 0.51 mm; Outliers: 6/160 (3.75%)'"
      ],
      "text/latex": [
       "'nmtv1.3: 0.53 +/- 0.51 mm; Outliers: 6/160 (3.75\\%)'"
      ],
      "text/markdown": [
       "'nmtv1.3: 0.53 +/- 0.51 mm; Outliers: 6/160 (3.75%)'"
      ],
      "text/plain": [
       "[1] \"nmtv1.3: 0.53 +/- 0.51 mm; Outliers: 6/160 (3.75%)\""
      ]
     },
     "metadata": {},
     "output_type": "display_data"
    },
    {
     "data": {
      "text/html": [
       "'yerkes19: 0.57 +/- 0.46 mm; Outliers: 5/160 (3.12%)'"
      ],
      "text/latex": [
       "'yerkes19: 0.57 +/- 0.46 mm; Outliers: 5/160 (3.12\\%)'"
      ],
      "text/markdown": [
       "'yerkes19: 0.57 +/- 0.46 mm; Outliers: 5/160 (3.12%)'"
      ],
      "text/plain": [
       "[1] \"yerkes19: 0.57 +/- 0.46 mm; Outliers: 5/160 (3.12%)\""
      ]
     },
     "metadata": {},
     "output_type": "display_data"
    }
   ],
   "source": [
    "# summary of findings\n",
    "\n",
    "# Total\n",
    "all_templates <- subset(df_raters, session > 0) # ignore session 0 which was from the group tutorial\n",
    "num_outliers <- sum(subset(all_templates, outlier == TRUE)$outlier)\n",
    "num_total <- length(all_templates$outlier)\n",
    "sprintf( \"Total: %.2f +/- %.2f mm; Outliers: %d/%d (%.2f%%)\",\n",
    "        mean(all_templates$mean_AFLE), sd(all_templates$mean_AFLE),\n",
    "        num_outliers, num_total, (num_outliers/num_total)*100 )\n",
    "\n",
    "# d99\n",
    "curr_template <- subset(df_raters, session > 0 & template == 'd99')\n",
    "num_outliers <- sum(subset(curr_template, outlier == TRUE)$outlier)\n",
    "num_total <- length(curr_template$outlier)\n",
    "sprintf( \"d99: %.2f +/- %.2f mm; Outliers: %d/%d (%.2f%%)\",\n",
    "         mean(curr_template$mean_AFLE), sd(curr_template$mean_AFLE),\n",
    "         num_outliers, num_total, (num_outliers/num_total)*100 )\n",
    "\n",
    "# inia19\n",
    "curr_template <- subset(df_raters, session > 0 & template == 'inia19')\n",
    "num_outliers <- sum(subset(curr_template, outlier == TRUE)$outlier)\n",
    "num_total <- length(curr_template$outlier)\n",
    "sprintf( \"inia19: %.2f +/- %.2f mm; Outliers: %d/%d (%.2f%%)\",\n",
    "         mean(curr_template$mean_AFLE), sd(curr_template$mean_AFLE),\n",
    "         num_outliers, num_total, (num_outliers/num_total)*100 )\n",
    "\n",
    "# macaqueMNI\n",
    "curr_template <- subset(df_raters, session > 0 & template == 'macaqueMNI')\n",
    "num_outliers <- sum(subset(curr_template, outlier == TRUE)$outlier)\n",
    "num_total <- length(curr_template$outlier)\n",
    "sprintf( \"macaqueMNI: %.2f +/- %.2f mm; Outliers: %d/%d (%.2f%%)\",\n",
    "         mean(curr_template$mean_AFLE), sd(curr_template$mean_AFLE),\n",
    "         num_outliers, num_total, (num_outliers/num_total)*100 )\n",
    "\n",
    "# nmtv1.3\n",
    "curr_template <- subset(df_raters, session > 0 & template == 'nmtv1.3')\n",
    "num_outliers <- sum(subset(curr_template, outlier == TRUE)$outlier)\n",
    "num_total <- length(curr_template$outlier)\n",
    "sprintf( \"nmtv1.3: %.2f +/- %.2f mm; Outliers: %d/%d (%.2f%%)\",\n",
    "         mean(curr_template$mean_AFLE), sd(curr_template$mean_AFLE),\n",
    "         num_outliers, num_total, (num_outliers/num_total)*100 )\n",
    "\n",
    "# yerkes19\n",
    "curr_template <- subset(df_raters, session > 0 & template == 'yerkes19')\n",
    "num_outliers <- sum(subset(curr_template, outlier == TRUE)$outlier)\n",
    "num_total <- length(curr_template$outlier)\n",
    "sprintf( \"yerkes19: %.2f +/- %.2f mm; Outliers: %d/%d (%.2f%%)\",\n",
    "         mean(curr_template$mean_AFLE), sd(curr_template$mean_AFLE),\n",
    "         num_outliers, num_total, (num_outliers/num_total)*100 )\n"
   ]
  },
  {
   "cell_type": "code",
   "execution_count": 8,
   "metadata": {},
   "outputs": [
    {
     "data": {
      "text/html": [
       "<table>\n",
       "<thead><tr><th scope=col>fid</th><th scope=col>mean_total</th><th scope=col>sd_total</th><th scope=col>sum_outliers_total</th><th scope=col>mean_d99</th><th scope=col>sd_d99</th><th scope=col>sum_outliers_d99</th><th scope=col>mean_inia19</th><th scope=col>sd_inia19</th><th scope=col>sum_outliers_inia19</th><th scope=col>mean_macaqueMNI</th><th scope=col>sd_macaqueMNI</th><th scope=col>sum_outliers_macaqueMNI</th><th scope=col>mean_nmtv1.3</th><th scope=col>sd_nmtv1.3</th><th scope=col>sum_outliers_nmtv1.3</th><th scope=col>mean_yerkes19</th><th scope=col>sd_yerkes19</th><th scope=col>sum_outliers_yerkes19</th></tr></thead>\n",
       "<tbody>\n",
       "\t<tr><td> 1  </td><td>0.13</td><td>0.06</td><td> 0  </td><td>0.12</td><td>0.03</td><td>0   </td><td>0.14</td><td>0.10</td><td>0   </td><td>0.14</td><td>0.04</td><td>0   </td><td>0.12</td><td>0.08</td><td>0   </td><td>0.14</td><td>0.05</td><td>0   </td></tr>\n",
       "\t<tr><td> 2  </td><td>0.16</td><td>0.08</td><td> 0  </td><td>0.24</td><td>0.10</td><td>0   </td><td>0.10</td><td>0.03</td><td>0   </td><td>0.15</td><td>0.07</td><td>0   </td><td>0.17</td><td>0.10</td><td>0   </td><td>0.15</td><td>0.04</td><td>0   </td></tr>\n",
       "\t<tr><td> 3  </td><td>0.31</td><td>0.17</td><td> 0  </td><td>0.40</td><td>0.27</td><td>0   </td><td>0.31</td><td>0.09</td><td>0   </td><td>0.26</td><td>0.07</td><td>0   </td><td>0.21</td><td>0.13</td><td>0   </td><td>0.37</td><td>0.19</td><td>0   </td></tr>\n",
       "\t<tr><td> 4  </td><td>0.27</td><td>0.12</td><td> 0  </td><td>0.25</td><td>0.14</td><td>0   </td><td>0.32</td><td>0.12</td><td>0   </td><td>0.22</td><td>0.11</td><td>0   </td><td>0.27</td><td>0.15</td><td>0   </td><td>0.31</td><td>0.07</td><td>0   </td></tr>\n",
       "\t<tr><td> 5  </td><td>0.22</td><td>0.11</td><td> 0  </td><td>0.18</td><td>0.11</td><td>0   </td><td>0.23</td><td>0.11</td><td>0   </td><td>0.19</td><td>0.09</td><td>0   </td><td>0.17</td><td>0.04</td><td>0   </td><td>0.32</td><td>0.13</td><td>0   </td></tr>\n",
       "\t<tr><td> 6  </td><td>0.70</td><td>0.51</td><td> 2  </td><td>0.85</td><td>0.43</td><td>1   </td><td>0.50</td><td>0.36</td><td>0   </td><td>0.52</td><td>0.33</td><td>0   </td><td>0.62</td><td>0.46</td><td>0   </td><td>1.00</td><td>0.83</td><td>1   </td></tr>\n",
       "\t<tr><td> 7  </td><td>0.74</td><td>0.55</td><td> 2  </td><td>0.95</td><td>0.56</td><td>1   </td><td>0.55</td><td>0.32</td><td>0   </td><td>0.58</td><td>0.30</td><td>0   </td><td>0.53</td><td>0.36</td><td>0   </td><td>1.09</td><td>0.91</td><td>1   </td></tr>\n",
       "\t<tr><td> 8  </td><td>0.60</td><td>0.29</td><td> 0  </td><td>0.62</td><td>0.48</td><td>0   </td><td>0.70</td><td>0.22</td><td>0   </td><td>0.49</td><td>0.20</td><td>0   </td><td>0.71</td><td>0.21</td><td>0   </td><td>0.49</td><td>0.25</td><td>0   </td></tr>\n",
       "\t<tr><td> 9  </td><td>0.49</td><td>0.25</td><td> 0  </td><td>0.41</td><td>0.27</td><td>0   </td><td>0.38</td><td>0.24</td><td>0   </td><td>0.46</td><td>0.27</td><td>0   </td><td>0.71</td><td>0.16</td><td>0   </td><td>0.50</td><td>0.23</td><td>0   </td></tr>\n",
       "\t<tr><td>10  </td><td>0.48</td><td>0.43</td><td> 2  </td><td>0.76</td><td>0.59</td><td>1   </td><td>0.81</td><td>0.51</td><td>1   </td><td>0.34</td><td>0.20</td><td>0   </td><td>0.13</td><td>0.05</td><td>0   </td><td>0.34</td><td>0.16</td><td>0   </td></tr>\n",
       "\t<tr><td>11  </td><td>0.37</td><td>0.18</td><td> 0  </td><td>0.32</td><td>0.14</td><td>0   </td><td>0.35</td><td>0.08</td><td>0   </td><td>0.28</td><td>0.14</td><td>0   </td><td>0.38</td><td>0.23</td><td>0   </td><td>0.53</td><td>0.22</td><td>0   </td></tr>\n",
       "\t<tr><td>12  </td><td>0.58</td><td>0.19</td><td> 0  </td><td>0.65</td><td>0.23</td><td>0   </td><td>0.66</td><td>0.21</td><td>0   </td><td>0.45</td><td>0.21</td><td>0   </td><td>0.53</td><td>0.07</td><td>0   </td><td>0.59</td><td>0.14</td><td>0   </td></tr>\n",
       "\t<tr><td>13  </td><td>0.54</td><td>0.21</td><td> 0  </td><td>0.63</td><td>0.25</td><td>0   </td><td>0.66</td><td>0.26</td><td>0   </td><td>0.38</td><td>0.18</td><td>0   </td><td>0.51</td><td>0.09</td><td>0   </td><td>0.53</td><td>0.16</td><td>0   </td></tr>\n",
       "\t<tr><td>14  </td><td>0.85</td><td>0.62</td><td> 2  </td><td>0.87</td><td>0.50</td><td>0   </td><td>0.68</td><td>0.40</td><td>0   </td><td>0.63</td><td>0.40</td><td>0   </td><td>0.89</td><td>0.69</td><td>1   </td><td>1.16</td><td>1.00</td><td>1   </td></tr>\n",
       "\t<tr><td>15  </td><td>0.53</td><td>0.30</td><td> 0  </td><td>0.49</td><td>0.37</td><td>0   </td><td>0.22</td><td>0.13</td><td>0   </td><td>0.64</td><td>0.23</td><td>0   </td><td>0.73</td><td>0.34</td><td>0   </td><td>0.57</td><td>0.12</td><td>0   </td></tr>\n",
       "\t<tr><td>16  </td><td>0.54</td><td>0.33</td><td> 0  </td><td>0.56</td><td>0.45</td><td>0   </td><td>0.31</td><td>0.17</td><td>0   </td><td>0.63</td><td>0.26</td><td>0   </td><td>0.75</td><td>0.36</td><td>0   </td><td>0.47</td><td>0.26</td><td>0   </td></tr>\n",
       "\t<tr><td>17  </td><td>0.50</td><td>0.30</td><td> 0  </td><td>0.59</td><td>0.37</td><td>0   </td><td>0.36</td><td>0.21</td><td>0   </td><td>0.59</td><td>0.23</td><td>0   </td><td>0.62</td><td>0.44</td><td>0   </td><td>0.35</td><td>0.12</td><td>0   </td></tr>\n",
       "\t<tr><td>18  </td><td>0.55</td><td>0.31</td><td> 0  </td><td>0.49</td><td>0.28</td><td>0   </td><td>0.34</td><td>0.29</td><td>0   </td><td>0.58</td><td>0.27</td><td>0   </td><td>0.75</td><td>0.34</td><td>0   </td><td>0.60</td><td>0.32</td><td>0   </td></tr>\n",
       "\t<tr><td>19  </td><td>0.28</td><td>0.20</td><td> 0  </td><td>0.46</td><td>0.36</td><td>0   </td><td>0.19</td><td>0.09</td><td>0   </td><td>0.30</td><td>0.06</td><td>0   </td><td>0.14</td><td>0.04</td><td>0   </td><td>0.32</td><td>0.14</td><td>0   </td></tr>\n",
       "\t<tr><td>20  </td><td>0.16</td><td>0.06</td><td> 0  </td><td>0.16</td><td>0.03</td><td>0   </td><td>0.12</td><td>0.04</td><td>0   </td><td>0.21</td><td>0.06</td><td>0   </td><td>0.10</td><td>0.02</td><td>0   </td><td>0.23</td><td>0.06</td><td>0   </td></tr>\n",
       "\t<tr><td>21  </td><td>0.45</td><td>0.28</td><td> 0  </td><td>0.44</td><td>0.26</td><td>0   </td><td>0.34</td><td>0.12</td><td>0   </td><td>0.54</td><td>0.17</td><td>0   </td><td>0.29</td><td>0.10</td><td>0   </td><td>0.66</td><td>0.49</td><td>0   </td></tr>\n",
       "\t<tr><td>22  </td><td>0.50</td><td>0.24</td><td> 0  </td><td>0.42</td><td>0.19</td><td>0   </td><td>0.46</td><td>0.15</td><td>0   </td><td>0.71</td><td>0.36</td><td>0   </td><td>0.43</td><td>0.12</td><td>0   </td><td>0.49</td><td>0.27</td><td>0   </td></tr>\n",
       "\t<tr><td>23  </td><td>0.39</td><td>0.24</td><td> 0  </td><td>0.61</td><td>0.30</td><td>0   </td><td>0.41</td><td>0.29</td><td>0   </td><td>0.28</td><td>0.20</td><td>0   </td><td>0.22</td><td>0.11</td><td>0   </td><td>0.42</td><td>0.11</td><td>0   </td></tr>\n",
       "\t<tr><td>24  </td><td>0.34</td><td>0.21</td><td> 0  </td><td>0.65</td><td>0.26</td><td>0   </td><td>0.23</td><td>0.15</td><td>0   </td><td>0.30</td><td>0.08</td><td>0   </td><td>0.31</td><td>0.09</td><td>0   </td><td>0.23</td><td>0.07</td><td>0   </td></tr>\n",
       "\t<tr><td>25  </td><td>0.47</td><td>0.27</td><td> 0  </td><td>0.27</td><td>0.15</td><td>0   </td><td>0.61</td><td>0.27</td><td>0   </td><td>0.54</td><td>0.37</td><td>0   </td><td>0.33</td><td>0.13</td><td>0   </td><td>0.60</td><td>0.23</td><td>0   </td></tr>\n",
       "\t<tr><td>26  </td><td>0.35</td><td>0.20</td><td> 0  </td><td>0.28</td><td>0.12</td><td>0   </td><td>0.28</td><td>0.17</td><td>0   </td><td>0.31</td><td>0.17</td><td>0   </td><td>0.29</td><td>0.13</td><td>0   </td><td>0.61</td><td>0.23</td><td>0   </td></tr>\n",
       "\t<tr><td>27  </td><td>1.55</td><td>0.77</td><td>13  </td><td>1.63</td><td>0.79</td><td>4   </td><td>2.01</td><td>0.78</td><td>4   </td><td>1.25</td><td>0.72</td><td>2   </td><td>1.38</td><td>1.07</td><td>2   </td><td>1.46</td><td>0.46</td><td>1   </td></tr>\n",
       "\t<tr><td>28  </td><td>1.39</td><td>0.67</td><td>10  </td><td>1.45</td><td>0.39</td><td>2   </td><td>1.85</td><td>0.70</td><td>4   </td><td>1.07</td><td>0.65</td><td>2   </td><td>1.29</td><td>1.06</td><td>1   </td><td>1.30</td><td>0.34</td><td>1   </td></tr>\n",
       "\t<tr><td>29  </td><td>0.70</td><td>0.52</td><td> 2  </td><td>0.51</td><td>0.43</td><td>0   </td><td>0.61</td><td>0.25</td><td>0   </td><td>0.73</td><td>0.53</td><td>1   </td><td>1.05</td><td>0.88</td><td>1   </td><td>0.60</td><td>0.35</td><td>0   </td></tr>\n",
       "\t<tr><td>30  </td><td>0.70</td><td>0.46</td><td> 1  </td><td>0.72</td><td>0.39</td><td>0   </td><td>0.51</td><td>0.13</td><td>0   </td><td>0.53</td><td>0.27</td><td>0   </td><td>0.94</td><td>0.78</td><td>1   </td><td>0.78</td><td>0.50</td><td>0   </td></tr>\n",
       "\t<tr><td>31  </td><td>0.68</td><td>0.46</td><td> 0  </td><td>1.01</td><td>0.51</td><td>0   </td><td>0.69</td><td>0.61</td><td>0   </td><td>0.60</td><td>0.37</td><td>0   </td><td>0.61</td><td>0.49</td><td>0   </td><td>0.51</td><td>0.24</td><td>0   </td></tr>\n",
       "\t<tr><td>32  </td><td>0.70</td><td>0.45</td><td> 1  </td><td>1.01</td><td>0.53</td><td>1   </td><td>0.82</td><td>0.51</td><td>0   </td><td>0.51</td><td>0.42</td><td>0   </td><td>0.61</td><td>0.43</td><td>0   </td><td>0.55</td><td>0.29</td><td>0   </td></tr>\n",
       "</tbody>\n",
       "</table>\n"
      ],
      "text/latex": [
       "\\begin{tabular}{r|lllllllllllllllllll}\n",
       " fid & mean\\_total & sd\\_total & sum\\_outliers\\_total & mean\\_d99 & sd\\_d99 & sum\\_outliers\\_d99 & mean\\_inia19 & sd\\_inia19 & sum\\_outliers\\_inia19 & mean\\_macaqueMNI & sd\\_macaqueMNI & sum\\_outliers\\_macaqueMNI & mean\\_nmtv1.3 & sd\\_nmtv1.3 & sum\\_outliers\\_nmtv1.3 & mean\\_yerkes19 & sd\\_yerkes19 & sum\\_outliers\\_yerkes19\\\\\n",
       "\\hline\n",
       "\t  1   & 0.13 & 0.06 &  0   & 0.12 & 0.03 & 0    & 0.14 & 0.10 & 0    & 0.14 & 0.04 & 0    & 0.12 & 0.08 & 0    & 0.14 & 0.05 & 0   \\\\\n",
       "\t  2   & 0.16 & 0.08 &  0   & 0.24 & 0.10 & 0    & 0.10 & 0.03 & 0    & 0.15 & 0.07 & 0    & 0.17 & 0.10 & 0    & 0.15 & 0.04 & 0   \\\\\n",
       "\t  3   & 0.31 & 0.17 &  0   & 0.40 & 0.27 & 0    & 0.31 & 0.09 & 0    & 0.26 & 0.07 & 0    & 0.21 & 0.13 & 0    & 0.37 & 0.19 & 0   \\\\\n",
       "\t  4   & 0.27 & 0.12 &  0   & 0.25 & 0.14 & 0    & 0.32 & 0.12 & 0    & 0.22 & 0.11 & 0    & 0.27 & 0.15 & 0    & 0.31 & 0.07 & 0   \\\\\n",
       "\t  5   & 0.22 & 0.11 &  0   & 0.18 & 0.11 & 0    & 0.23 & 0.11 & 0    & 0.19 & 0.09 & 0    & 0.17 & 0.04 & 0    & 0.32 & 0.13 & 0   \\\\\n",
       "\t  6   & 0.70 & 0.51 &  2   & 0.85 & 0.43 & 1    & 0.50 & 0.36 & 0    & 0.52 & 0.33 & 0    & 0.62 & 0.46 & 0    & 1.00 & 0.83 & 1   \\\\\n",
       "\t  7   & 0.74 & 0.55 &  2   & 0.95 & 0.56 & 1    & 0.55 & 0.32 & 0    & 0.58 & 0.30 & 0    & 0.53 & 0.36 & 0    & 1.09 & 0.91 & 1   \\\\\n",
       "\t  8   & 0.60 & 0.29 &  0   & 0.62 & 0.48 & 0    & 0.70 & 0.22 & 0    & 0.49 & 0.20 & 0    & 0.71 & 0.21 & 0    & 0.49 & 0.25 & 0   \\\\\n",
       "\t  9   & 0.49 & 0.25 &  0   & 0.41 & 0.27 & 0    & 0.38 & 0.24 & 0    & 0.46 & 0.27 & 0    & 0.71 & 0.16 & 0    & 0.50 & 0.23 & 0   \\\\\n",
       "\t 10   & 0.48 & 0.43 &  2   & 0.76 & 0.59 & 1    & 0.81 & 0.51 & 1    & 0.34 & 0.20 & 0    & 0.13 & 0.05 & 0    & 0.34 & 0.16 & 0   \\\\\n",
       "\t 11   & 0.37 & 0.18 &  0   & 0.32 & 0.14 & 0    & 0.35 & 0.08 & 0    & 0.28 & 0.14 & 0    & 0.38 & 0.23 & 0    & 0.53 & 0.22 & 0   \\\\\n",
       "\t 12   & 0.58 & 0.19 &  0   & 0.65 & 0.23 & 0    & 0.66 & 0.21 & 0    & 0.45 & 0.21 & 0    & 0.53 & 0.07 & 0    & 0.59 & 0.14 & 0   \\\\\n",
       "\t 13   & 0.54 & 0.21 &  0   & 0.63 & 0.25 & 0    & 0.66 & 0.26 & 0    & 0.38 & 0.18 & 0    & 0.51 & 0.09 & 0    & 0.53 & 0.16 & 0   \\\\\n",
       "\t 14   & 0.85 & 0.62 &  2   & 0.87 & 0.50 & 0    & 0.68 & 0.40 & 0    & 0.63 & 0.40 & 0    & 0.89 & 0.69 & 1    & 1.16 & 1.00 & 1   \\\\\n",
       "\t 15   & 0.53 & 0.30 &  0   & 0.49 & 0.37 & 0    & 0.22 & 0.13 & 0    & 0.64 & 0.23 & 0    & 0.73 & 0.34 & 0    & 0.57 & 0.12 & 0   \\\\\n",
       "\t 16   & 0.54 & 0.33 &  0   & 0.56 & 0.45 & 0    & 0.31 & 0.17 & 0    & 0.63 & 0.26 & 0    & 0.75 & 0.36 & 0    & 0.47 & 0.26 & 0   \\\\\n",
       "\t 17   & 0.50 & 0.30 &  0   & 0.59 & 0.37 & 0    & 0.36 & 0.21 & 0    & 0.59 & 0.23 & 0    & 0.62 & 0.44 & 0    & 0.35 & 0.12 & 0   \\\\\n",
       "\t 18   & 0.55 & 0.31 &  0   & 0.49 & 0.28 & 0    & 0.34 & 0.29 & 0    & 0.58 & 0.27 & 0    & 0.75 & 0.34 & 0    & 0.60 & 0.32 & 0   \\\\\n",
       "\t 19   & 0.28 & 0.20 &  0   & 0.46 & 0.36 & 0    & 0.19 & 0.09 & 0    & 0.30 & 0.06 & 0    & 0.14 & 0.04 & 0    & 0.32 & 0.14 & 0   \\\\\n",
       "\t 20   & 0.16 & 0.06 &  0   & 0.16 & 0.03 & 0    & 0.12 & 0.04 & 0    & 0.21 & 0.06 & 0    & 0.10 & 0.02 & 0    & 0.23 & 0.06 & 0   \\\\\n",
       "\t 21   & 0.45 & 0.28 &  0   & 0.44 & 0.26 & 0    & 0.34 & 0.12 & 0    & 0.54 & 0.17 & 0    & 0.29 & 0.10 & 0    & 0.66 & 0.49 & 0   \\\\\n",
       "\t 22   & 0.50 & 0.24 &  0   & 0.42 & 0.19 & 0    & 0.46 & 0.15 & 0    & 0.71 & 0.36 & 0    & 0.43 & 0.12 & 0    & 0.49 & 0.27 & 0   \\\\\n",
       "\t 23   & 0.39 & 0.24 &  0   & 0.61 & 0.30 & 0    & 0.41 & 0.29 & 0    & 0.28 & 0.20 & 0    & 0.22 & 0.11 & 0    & 0.42 & 0.11 & 0   \\\\\n",
       "\t 24   & 0.34 & 0.21 &  0   & 0.65 & 0.26 & 0    & 0.23 & 0.15 & 0    & 0.30 & 0.08 & 0    & 0.31 & 0.09 & 0    & 0.23 & 0.07 & 0   \\\\\n",
       "\t 25   & 0.47 & 0.27 &  0   & 0.27 & 0.15 & 0    & 0.61 & 0.27 & 0    & 0.54 & 0.37 & 0    & 0.33 & 0.13 & 0    & 0.60 & 0.23 & 0   \\\\\n",
       "\t 26   & 0.35 & 0.20 &  0   & 0.28 & 0.12 & 0    & 0.28 & 0.17 & 0    & 0.31 & 0.17 & 0    & 0.29 & 0.13 & 0    & 0.61 & 0.23 & 0   \\\\\n",
       "\t 27   & 1.55 & 0.77 & 13   & 1.63 & 0.79 & 4    & 2.01 & 0.78 & 4    & 1.25 & 0.72 & 2    & 1.38 & 1.07 & 2    & 1.46 & 0.46 & 1   \\\\\n",
       "\t 28   & 1.39 & 0.67 & 10   & 1.45 & 0.39 & 2    & 1.85 & 0.70 & 4    & 1.07 & 0.65 & 2    & 1.29 & 1.06 & 1    & 1.30 & 0.34 & 1   \\\\\n",
       "\t 29   & 0.70 & 0.52 &  2   & 0.51 & 0.43 & 0    & 0.61 & 0.25 & 0    & 0.73 & 0.53 & 1    & 1.05 & 0.88 & 1    & 0.60 & 0.35 & 0   \\\\\n",
       "\t 30   & 0.70 & 0.46 &  1   & 0.72 & 0.39 & 0    & 0.51 & 0.13 & 0    & 0.53 & 0.27 & 0    & 0.94 & 0.78 & 1    & 0.78 & 0.50 & 0   \\\\\n",
       "\t 31   & 0.68 & 0.46 &  0   & 1.01 & 0.51 & 0    & 0.69 & 0.61 & 0    & 0.60 & 0.37 & 0    & 0.61 & 0.49 & 0    & 0.51 & 0.24 & 0   \\\\\n",
       "\t 32   & 0.70 & 0.45 &  1   & 1.01 & 0.53 & 1    & 0.82 & 0.51 & 0    & 0.51 & 0.42 & 0    & 0.61 & 0.43 & 0    & 0.55 & 0.29 & 0   \\\\\n",
       "\\end{tabular}\n"
      ],
      "text/markdown": [
       "\n",
       "| fid | mean_total | sd_total | sum_outliers_total | mean_d99 | sd_d99 | sum_outliers_d99 | mean_inia19 | sd_inia19 | sum_outliers_inia19 | mean_macaqueMNI | sd_macaqueMNI | sum_outliers_macaqueMNI | mean_nmtv1.3 | sd_nmtv1.3 | sum_outliers_nmtv1.3 | mean_yerkes19 | sd_yerkes19 | sum_outliers_yerkes19 |\n",
       "|---|---|---|---|---|---|---|---|---|---|---|---|---|---|---|---|---|---|---|\n",
       "|  1   | 0.13 | 0.06 |  0   | 0.12 | 0.03 | 0    | 0.14 | 0.10 | 0    | 0.14 | 0.04 | 0    | 0.12 | 0.08 | 0    | 0.14 | 0.05 | 0    |\n",
       "|  2   | 0.16 | 0.08 |  0   | 0.24 | 0.10 | 0    | 0.10 | 0.03 | 0    | 0.15 | 0.07 | 0    | 0.17 | 0.10 | 0    | 0.15 | 0.04 | 0    |\n",
       "|  3   | 0.31 | 0.17 |  0   | 0.40 | 0.27 | 0    | 0.31 | 0.09 | 0    | 0.26 | 0.07 | 0    | 0.21 | 0.13 | 0    | 0.37 | 0.19 | 0    |\n",
       "|  4   | 0.27 | 0.12 |  0   | 0.25 | 0.14 | 0    | 0.32 | 0.12 | 0    | 0.22 | 0.11 | 0    | 0.27 | 0.15 | 0    | 0.31 | 0.07 | 0    |\n",
       "|  5   | 0.22 | 0.11 |  0   | 0.18 | 0.11 | 0    | 0.23 | 0.11 | 0    | 0.19 | 0.09 | 0    | 0.17 | 0.04 | 0    | 0.32 | 0.13 | 0    |\n",
       "|  6   | 0.70 | 0.51 |  2   | 0.85 | 0.43 | 1    | 0.50 | 0.36 | 0    | 0.52 | 0.33 | 0    | 0.62 | 0.46 | 0    | 1.00 | 0.83 | 1    |\n",
       "|  7   | 0.74 | 0.55 |  2   | 0.95 | 0.56 | 1    | 0.55 | 0.32 | 0    | 0.58 | 0.30 | 0    | 0.53 | 0.36 | 0    | 1.09 | 0.91 | 1    |\n",
       "|  8   | 0.60 | 0.29 |  0   | 0.62 | 0.48 | 0    | 0.70 | 0.22 | 0    | 0.49 | 0.20 | 0    | 0.71 | 0.21 | 0    | 0.49 | 0.25 | 0    |\n",
       "|  9   | 0.49 | 0.25 |  0   | 0.41 | 0.27 | 0    | 0.38 | 0.24 | 0    | 0.46 | 0.27 | 0    | 0.71 | 0.16 | 0    | 0.50 | 0.23 | 0    |\n",
       "| 10   | 0.48 | 0.43 |  2   | 0.76 | 0.59 | 1    | 0.81 | 0.51 | 1    | 0.34 | 0.20 | 0    | 0.13 | 0.05 | 0    | 0.34 | 0.16 | 0    |\n",
       "| 11   | 0.37 | 0.18 |  0   | 0.32 | 0.14 | 0    | 0.35 | 0.08 | 0    | 0.28 | 0.14 | 0    | 0.38 | 0.23 | 0    | 0.53 | 0.22 | 0    |\n",
       "| 12   | 0.58 | 0.19 |  0   | 0.65 | 0.23 | 0    | 0.66 | 0.21 | 0    | 0.45 | 0.21 | 0    | 0.53 | 0.07 | 0    | 0.59 | 0.14 | 0    |\n",
       "| 13   | 0.54 | 0.21 |  0   | 0.63 | 0.25 | 0    | 0.66 | 0.26 | 0    | 0.38 | 0.18 | 0    | 0.51 | 0.09 | 0    | 0.53 | 0.16 | 0    |\n",
       "| 14   | 0.85 | 0.62 |  2   | 0.87 | 0.50 | 0    | 0.68 | 0.40 | 0    | 0.63 | 0.40 | 0    | 0.89 | 0.69 | 1    | 1.16 | 1.00 | 1    |\n",
       "| 15   | 0.53 | 0.30 |  0   | 0.49 | 0.37 | 0    | 0.22 | 0.13 | 0    | 0.64 | 0.23 | 0    | 0.73 | 0.34 | 0    | 0.57 | 0.12 | 0    |\n",
       "| 16   | 0.54 | 0.33 |  0   | 0.56 | 0.45 | 0    | 0.31 | 0.17 | 0    | 0.63 | 0.26 | 0    | 0.75 | 0.36 | 0    | 0.47 | 0.26 | 0    |\n",
       "| 17   | 0.50 | 0.30 |  0   | 0.59 | 0.37 | 0    | 0.36 | 0.21 | 0    | 0.59 | 0.23 | 0    | 0.62 | 0.44 | 0    | 0.35 | 0.12 | 0    |\n",
       "| 18   | 0.55 | 0.31 |  0   | 0.49 | 0.28 | 0    | 0.34 | 0.29 | 0    | 0.58 | 0.27 | 0    | 0.75 | 0.34 | 0    | 0.60 | 0.32 | 0    |\n",
       "| 19   | 0.28 | 0.20 |  0   | 0.46 | 0.36 | 0    | 0.19 | 0.09 | 0    | 0.30 | 0.06 | 0    | 0.14 | 0.04 | 0    | 0.32 | 0.14 | 0    |\n",
       "| 20   | 0.16 | 0.06 |  0   | 0.16 | 0.03 | 0    | 0.12 | 0.04 | 0    | 0.21 | 0.06 | 0    | 0.10 | 0.02 | 0    | 0.23 | 0.06 | 0    |\n",
       "| 21   | 0.45 | 0.28 |  0   | 0.44 | 0.26 | 0    | 0.34 | 0.12 | 0    | 0.54 | 0.17 | 0    | 0.29 | 0.10 | 0    | 0.66 | 0.49 | 0    |\n",
       "| 22   | 0.50 | 0.24 |  0   | 0.42 | 0.19 | 0    | 0.46 | 0.15 | 0    | 0.71 | 0.36 | 0    | 0.43 | 0.12 | 0    | 0.49 | 0.27 | 0    |\n",
       "| 23   | 0.39 | 0.24 |  0   | 0.61 | 0.30 | 0    | 0.41 | 0.29 | 0    | 0.28 | 0.20 | 0    | 0.22 | 0.11 | 0    | 0.42 | 0.11 | 0    |\n",
       "| 24   | 0.34 | 0.21 |  0   | 0.65 | 0.26 | 0    | 0.23 | 0.15 | 0    | 0.30 | 0.08 | 0    | 0.31 | 0.09 | 0    | 0.23 | 0.07 | 0    |\n",
       "| 25   | 0.47 | 0.27 |  0   | 0.27 | 0.15 | 0    | 0.61 | 0.27 | 0    | 0.54 | 0.37 | 0    | 0.33 | 0.13 | 0    | 0.60 | 0.23 | 0    |\n",
       "| 26   | 0.35 | 0.20 |  0   | 0.28 | 0.12 | 0    | 0.28 | 0.17 | 0    | 0.31 | 0.17 | 0    | 0.29 | 0.13 | 0    | 0.61 | 0.23 | 0    |\n",
       "| 27   | 1.55 | 0.77 | 13   | 1.63 | 0.79 | 4    | 2.01 | 0.78 | 4    | 1.25 | 0.72 | 2    | 1.38 | 1.07 | 2    | 1.46 | 0.46 | 1    |\n",
       "| 28   | 1.39 | 0.67 | 10   | 1.45 | 0.39 | 2    | 1.85 | 0.70 | 4    | 1.07 | 0.65 | 2    | 1.29 | 1.06 | 1    | 1.30 | 0.34 | 1    |\n",
       "| 29   | 0.70 | 0.52 |  2   | 0.51 | 0.43 | 0    | 0.61 | 0.25 | 0    | 0.73 | 0.53 | 1    | 1.05 | 0.88 | 1    | 0.60 | 0.35 | 0    |\n",
       "| 30   | 0.70 | 0.46 |  1   | 0.72 | 0.39 | 0    | 0.51 | 0.13 | 0    | 0.53 | 0.27 | 0    | 0.94 | 0.78 | 1    | 0.78 | 0.50 | 0    |\n",
       "| 31   | 0.68 | 0.46 |  0   | 1.01 | 0.51 | 0    | 0.69 | 0.61 | 0    | 0.60 | 0.37 | 0    | 0.61 | 0.49 | 0    | 0.51 | 0.24 | 0    |\n",
       "| 32   | 0.70 | 0.45 |  1   | 1.01 | 0.53 | 1    | 0.82 | 0.51 | 0    | 0.51 | 0.42 | 0    | 0.61 | 0.43 | 0    | 0.55 | 0.29 | 0    |\n",
       "\n"
      ],
      "text/plain": [
       "   fid mean_total sd_total sum_outliers_total mean_d99 sd_d99 sum_outliers_d99\n",
       "1   1  0.13       0.06      0                 0.12     0.03   0               \n",
       "2   2  0.16       0.08      0                 0.24     0.10   0               \n",
       "3   3  0.31       0.17      0                 0.40     0.27   0               \n",
       "4   4  0.27       0.12      0                 0.25     0.14   0               \n",
       "5   5  0.22       0.11      0                 0.18     0.11   0               \n",
       "6   6  0.70       0.51      2                 0.85     0.43   1               \n",
       "7   7  0.74       0.55      2                 0.95     0.56   1               \n",
       "8   8  0.60       0.29      0                 0.62     0.48   0               \n",
       "9   9  0.49       0.25      0                 0.41     0.27   0               \n",
       "10 10  0.48       0.43      2                 0.76     0.59   1               \n",
       "11 11  0.37       0.18      0                 0.32     0.14   0               \n",
       "12 12  0.58       0.19      0                 0.65     0.23   0               \n",
       "13 13  0.54       0.21      0                 0.63     0.25   0               \n",
       "14 14  0.85       0.62      2                 0.87     0.50   0               \n",
       "15 15  0.53       0.30      0                 0.49     0.37   0               \n",
       "16 16  0.54       0.33      0                 0.56     0.45   0               \n",
       "17 17  0.50       0.30      0                 0.59     0.37   0               \n",
       "18 18  0.55       0.31      0                 0.49     0.28   0               \n",
       "19 19  0.28       0.20      0                 0.46     0.36   0               \n",
       "20 20  0.16       0.06      0                 0.16     0.03   0               \n",
       "21 21  0.45       0.28      0                 0.44     0.26   0               \n",
       "22 22  0.50       0.24      0                 0.42     0.19   0               \n",
       "23 23  0.39       0.24      0                 0.61     0.30   0               \n",
       "24 24  0.34       0.21      0                 0.65     0.26   0               \n",
       "25 25  0.47       0.27      0                 0.27     0.15   0               \n",
       "26 26  0.35       0.20      0                 0.28     0.12   0               \n",
       "27 27  1.55       0.77     13                 1.63     0.79   4               \n",
       "28 28  1.39       0.67     10                 1.45     0.39   2               \n",
       "29 29  0.70       0.52      2                 0.51     0.43   0               \n",
       "30 30  0.70       0.46      1                 0.72     0.39   0               \n",
       "31 31  0.68       0.46      0                 1.01     0.51   0               \n",
       "32 32  0.70       0.45      1                 1.01     0.53   1               \n",
       "   mean_inia19 sd_inia19 sum_outliers_inia19 mean_macaqueMNI sd_macaqueMNI\n",
       "1  0.14        0.10      0                   0.14            0.04         \n",
       "2  0.10        0.03      0                   0.15            0.07         \n",
       "3  0.31        0.09      0                   0.26            0.07         \n",
       "4  0.32        0.12      0                   0.22            0.11         \n",
       "5  0.23        0.11      0                   0.19            0.09         \n",
       "6  0.50        0.36      0                   0.52            0.33         \n",
       "7  0.55        0.32      0                   0.58            0.30         \n",
       "8  0.70        0.22      0                   0.49            0.20         \n",
       "9  0.38        0.24      0                   0.46            0.27         \n",
       "10 0.81        0.51      1                   0.34            0.20         \n",
       "11 0.35        0.08      0                   0.28            0.14         \n",
       "12 0.66        0.21      0                   0.45            0.21         \n",
       "13 0.66        0.26      0                   0.38            0.18         \n",
       "14 0.68        0.40      0                   0.63            0.40         \n",
       "15 0.22        0.13      0                   0.64            0.23         \n",
       "16 0.31        0.17      0                   0.63            0.26         \n",
       "17 0.36        0.21      0                   0.59            0.23         \n",
       "18 0.34        0.29      0                   0.58            0.27         \n",
       "19 0.19        0.09      0                   0.30            0.06         \n",
       "20 0.12        0.04      0                   0.21            0.06         \n",
       "21 0.34        0.12      0                   0.54            0.17         \n",
       "22 0.46        0.15      0                   0.71            0.36         \n",
       "23 0.41        0.29      0                   0.28            0.20         \n",
       "24 0.23        0.15      0                   0.30            0.08         \n",
       "25 0.61        0.27      0                   0.54            0.37         \n",
       "26 0.28        0.17      0                   0.31            0.17         \n",
       "27 2.01        0.78      4                   1.25            0.72         \n",
       "28 1.85        0.70      4                   1.07            0.65         \n",
       "29 0.61        0.25      0                   0.73            0.53         \n",
       "30 0.51        0.13      0                   0.53            0.27         \n",
       "31 0.69        0.61      0                   0.60            0.37         \n",
       "32 0.82        0.51      0                   0.51            0.42         \n",
       "   sum_outliers_macaqueMNI mean_nmtv1.3 sd_nmtv1.3 sum_outliers_nmtv1.3\n",
       "1  0                       0.12         0.08       0                   \n",
       "2  0                       0.17         0.10       0                   \n",
       "3  0                       0.21         0.13       0                   \n",
       "4  0                       0.27         0.15       0                   \n",
       "5  0                       0.17         0.04       0                   \n",
       "6  0                       0.62         0.46       0                   \n",
       "7  0                       0.53         0.36       0                   \n",
       "8  0                       0.71         0.21       0                   \n",
       "9  0                       0.71         0.16       0                   \n",
       "10 0                       0.13         0.05       0                   \n",
       "11 0                       0.38         0.23       0                   \n",
       "12 0                       0.53         0.07       0                   \n",
       "13 0                       0.51         0.09       0                   \n",
       "14 0                       0.89         0.69       1                   \n",
       "15 0                       0.73         0.34       0                   \n",
       "16 0                       0.75         0.36       0                   \n",
       "17 0                       0.62         0.44       0                   \n",
       "18 0                       0.75         0.34       0                   \n",
       "19 0                       0.14         0.04       0                   \n",
       "20 0                       0.10         0.02       0                   \n",
       "21 0                       0.29         0.10       0                   \n",
       "22 0                       0.43         0.12       0                   \n",
       "23 0                       0.22         0.11       0                   \n",
       "24 0                       0.31         0.09       0                   \n",
       "25 0                       0.33         0.13       0                   \n",
       "26 0                       0.29         0.13       0                   \n",
       "27 2                       1.38         1.07       2                   \n",
       "28 2                       1.29         1.06       1                   \n",
       "29 1                       1.05         0.88       1                   \n",
       "30 0                       0.94         0.78       1                   \n",
       "31 0                       0.61         0.49       0                   \n",
       "32 0                       0.61         0.43       0                   \n",
       "   mean_yerkes19 sd_yerkes19 sum_outliers_yerkes19\n",
       "1  0.14          0.05        0                    \n",
       "2  0.15          0.04        0                    \n",
       "3  0.37          0.19        0                    \n",
       "4  0.31          0.07        0                    \n",
       "5  0.32          0.13        0                    \n",
       "6  1.00          0.83        1                    \n",
       "7  1.09          0.91        1                    \n",
       "8  0.49          0.25        0                    \n",
       "9  0.50          0.23        0                    \n",
       "10 0.34          0.16        0                    \n",
       "11 0.53          0.22        0                    \n",
       "12 0.59          0.14        0                    \n",
       "13 0.53          0.16        0                    \n",
       "14 1.16          1.00        1                    \n",
       "15 0.57          0.12        0                    \n",
       "16 0.47          0.26        0                    \n",
       "17 0.35          0.12        0                    \n",
       "18 0.60          0.32        0                    \n",
       "19 0.32          0.14        0                    \n",
       "20 0.23          0.06        0                    \n",
       "21 0.66          0.49        0                    \n",
       "22 0.49          0.27        0                    \n",
       "23 0.42          0.11        0                    \n",
       "24 0.23          0.07        0                    \n",
       "25 0.60          0.23        0                    \n",
       "26 0.61          0.23        0                    \n",
       "27 1.46          0.46        1                    \n",
       "28 1.30          0.34        1                    \n",
       "29 0.60          0.35        0                    \n",
       "30 0.78          0.50        0                    \n",
       "31 0.51          0.24        0                    \n",
       "32 0.55          0.29        0                    "
      ]
     },
     "metadata": {},
     "output_type": "display_data"
    }
   ],
   "source": [
    "# summarize results for each fid and template\n",
    "\n",
    "summary_all_df <- ddply(df_raters, .(fid), summarize, mean_total=mean(mean_AFLE), sd_total=sd(mean_AFLE), sum_outliers_total=sum(outlier))\n",
    "\n",
    "summary_temp_df <- ddply(df_raters, .(fid,template), summarize, mean=mean(mean_AFLE), sd=sd(mean_AFLE), sum_outliers=sum(outlier))\n",
    "\n",
    "# d99\n",
    "summary_all_df$mean_d99 <- subset(summary_temp_df, template == \"d99\")$mean\n",
    "summary_all_df$sd_d99 <- subset(summary_temp_df, template == \"d99\")$sd\n",
    "summary_all_df$sum_outliers_d99 <- subset(summary_temp_df, template == \"d99\")$sum_outliers\n",
    "\n",
    "# inia19\n",
    "summary_all_df$mean_inia19 <- subset(summary_temp_df, template == \"inia19\")$mean\n",
    "summary_all_df$sd_inia19 <- subset(summary_temp_df, template == \"inia19\")$sd\n",
    "summary_all_df$sum_outliers_inia19 <- subset(summary_temp_df, template == \"inia19\")$sum_outliers\n",
    "\n",
    "# macaqueMNI\n",
    "summary_all_df$mean_macaqueMNI <- subset(summary_temp_df, template == \"macaqueMNI\")$mean\n",
    "summary_all_df$sd_macaqueMNI <- subset(summary_temp_df, template == \"macaqueMNI\")$sd\n",
    "summary_all_df$sum_outliers_macaqueMNI <- subset(summary_temp_df, template == \"macaqueMNI\")$sum_outliers\n",
    "\n",
    "# nmtv1.3\n",
    "summary_all_df$mean_nmtv1.3 <- subset(summary_temp_df, template == \"nmtv1.3\")$mean\n",
    "summary_all_df$sd_nmtv1.3 <- subset(summary_temp_df, template == \"nmtv1.3\")$sd\n",
    "summary_all_df$sum_outliers_nmtv1.3 <- subset(summary_temp_df, template == \"nmtv1.3\")$sum_outliers\n",
    "\n",
    "# yerkes19\n",
    "summary_all_df$mean_yerkes19 <- subset(summary_temp_df, template == \"yerkes19\")$mean\n",
    "summary_all_df$sd_yerkes19 <- subset(summary_temp_df, template == \"yerkes19\")$sd\n",
    "summary_all_df$sum_outliers_yerkes19 <- subset(summary_temp_df, template == \"yerkes19\")$sum_outliers\n",
    "\n",
    "summary_all_df[,c(-1,-4,-7,-10,-13)] <- round(summary_all_df[,c(-1,-4,-7,-10,-13)],2)\n",
    "summary_all_df\n",
    "\n",
    "write.table(summary_all_df, file = \"~/Documents/GitHub/afids-macaca/data/PHASE0_output_afid/PHASE0_template_validation_afid_AFLE.csv\", row.names = FALSE, quote = FALSE, sep = \",\")"
   ]
  },
  {
   "cell_type": "code",
   "execution_count": 9,
   "metadata": {},
   "outputs": [
    {
     "data": {
      "text/html": [
       "<table>\n",
       "<thead><tr><th scope=col>rater</th><th scope=col>mean</th><th scope=col>sd</th><th scope=col>sum_outliers</th></tr></thead>\n",
       "<tbody>\n",
       "\t<tr><td>1        </td><td>0.5209650</td><td>0.3969230</td><td> 5       </td></tr>\n",
       "\t<tr><td>2        </td><td>0.4306731</td><td>0.3359881</td><td> 3       </td></tr>\n",
       "\t<tr><td>3        </td><td>0.4088475</td><td>0.3965922</td><td> 6       </td></tr>\n",
       "\t<tr><td>4        </td><td>0.7107250</td><td>0.5464480</td><td>15       </td></tr>\n",
       "\t<tr><td>5        </td><td>0.6234402</td><td>0.5375905</td><td> 6       </td></tr>\n",
       "</tbody>\n",
       "</table>\n"
      ],
      "text/latex": [
       "\\begin{tabular}{r|llll}\n",
       " rater & mean & sd & sum\\_outliers\\\\\n",
       "\\hline\n",
       "\t 1         & 0.5209650 & 0.3969230 &  5       \\\\\n",
       "\t 2         & 0.4306731 & 0.3359881 &  3       \\\\\n",
       "\t 3         & 0.4088475 & 0.3965922 &  6       \\\\\n",
       "\t 4         & 0.7107250 & 0.5464480 & 15       \\\\\n",
       "\t 5         & 0.6234402 & 0.5375905 &  6       \\\\\n",
       "\\end{tabular}\n"
      ],
      "text/markdown": [
       "\n",
       "| rater | mean | sd | sum_outliers |\n",
       "|---|---|---|---|\n",
       "| 1         | 0.5209650 | 0.3969230 |  5        |\n",
       "| 2         | 0.4306731 | 0.3359881 |  3        |\n",
       "| 3         | 0.4088475 | 0.3965922 |  6        |\n",
       "| 4         | 0.7107250 | 0.5464480 | 15        |\n",
       "| 5         | 0.6234402 | 0.5375905 |  6        |\n",
       "\n"
      ],
      "text/plain": [
       "  rater mean      sd        sum_outliers\n",
       "1 1     0.5209650 0.3969230  5          \n",
       "2 2     0.4306731 0.3359881  3          \n",
       "3 3     0.4088475 0.3965922  6          \n",
       "4 4     0.7107250 0.5464480 15          \n",
       "5 5     0.6234402 0.5375905  6          "
      ]
     },
     "metadata": {},
     "output_type": "display_data"
    }
   ],
   "source": [
    "ddply(df_raters, .(rater), summarize, mean=mean(mean_AFLE), sd=sd(mean_AFLE), sum_outliers=sum(outlier))"
   ]
  },
  {
   "cell_type": "code",
   "execution_count": 10,
   "metadata": {},
   "outputs": [
    {
     "data": {
      "text/html": [
       "<table>\n",
       "<thead><tr><th scope=col>template</th><th scope=col>rater</th><th scope=col>mean</th><th scope=col>sd</th><th scope=col>sum_outliers</th></tr></thead>\n",
       "<tbody>\n",
       "\t<tr><td>d99       </td><td>1         </td><td>0.5988578 </td><td>0.3897789 </td><td>1         </td></tr>\n",
       "\t<tr><td>d99       </td><td>2         </td><td>0.4910849 </td><td>0.4144809 </td><td>1         </td></tr>\n",
       "\t<tr><td>d99       </td><td>3         </td><td>0.4997831 </td><td>0.4729919 </td><td>2         </td></tr>\n",
       "\t<tr><td>d99       </td><td>4         </td><td>0.7204024 </td><td>0.5840240 </td><td>5         </td></tr>\n",
       "\t<tr><td>d99       </td><td>5         </td><td>0.6603010 </td><td>0.4764970 </td><td>1         </td></tr>\n",
       "\t<tr><td>inia19    </td><td>1         </td><td>0.5548554 </td><td>0.5467129 </td><td>2         </td></tr>\n",
       "\t<tr><td>inia19    </td><td>2         </td><td>0.3754984 </td><td>0.3292815 </td><td>1         </td></tr>\n",
       "\t<tr><td>inia19    </td><td>3         </td><td>0.4410776 </td><td>0.4986659 </td><td>2         </td></tr>\n",
       "\t<tr><td>inia19    </td><td>4         </td><td>0.6453989 </td><td>0.4871586 </td><td>2         </td></tr>\n",
       "\t<tr><td>inia19    </td><td>5         </td><td>0.5994473 </td><td>0.5923666 </td><td>2         </td></tr>\n",
       "\t<tr><td>macaqueMNI</td><td>1         </td><td>0.4523083 </td><td>0.4221805 </td><td>2         </td></tr>\n",
       "\t<tr><td>macaqueMNI</td><td>2         </td><td>0.4091853 </td><td>0.2863586 </td><td>0         </td></tr>\n",
       "\t<tr><td>macaqueMNI</td><td>3         </td><td>0.3431368 </td><td>0.2860229 </td><td>1         </td></tr>\n",
       "\t<tr><td>macaqueMNI</td><td>4         </td><td>0.6496165 </td><td>0.4324477 </td><td>2         </td></tr>\n",
       "\t<tr><td>macaqueMNI</td><td>5         </td><td>0.5517525 </td><td>0.2949526 </td><td>0         </td></tr>\n",
       "\t<tr><td>nmtv1.3   </td><td>1         </td><td>0.4531232 </td><td>0.3069378 </td><td>0         </td></tr>\n",
       "\t<tr><td>nmtv1.3   </td><td>2         </td><td>0.4702654 </td><td>0.3660728 </td><td>1         </td></tr>\n",
       "\t<tr><td>nmtv1.3   </td><td>3         </td><td>0.3805475 </td><td>0.3387860 </td><td>1         </td></tr>\n",
       "\t<tr><td>nmtv1.3   </td><td>4         </td><td>0.7296326 </td><td>0.5929068 </td><td>2         </td></tr>\n",
       "\t<tr><td>nmtv1.3   </td><td>5         </td><td>0.5950413 </td><td>0.7319341 </td><td>2         </td></tr>\n",
       "\t<tr><td>yerkes19  </td><td>1         </td><td>0.5456802 </td><td>0.2590412 </td><td>0         </td></tr>\n",
       "\t<tr><td>yerkes19  </td><td>2         </td><td>0.4073318 </td><td>0.2705696 </td><td>0         </td></tr>\n",
       "\t<tr><td>yerkes19  </td><td>3         </td><td>0.3796925 </td><td>0.3492534 </td><td>0         </td></tr>\n",
       "\t<tr><td>yerkes19  </td><td>4         </td><td>0.8085748 </td><td>0.6292782 </td><td>4         </td></tr>\n",
       "\t<tr><td>yerkes19  </td><td>5         </td><td>0.7106587 </td><td>0.5154122 </td><td>1         </td></tr>\n",
       "</tbody>\n",
       "</table>\n"
      ],
      "text/latex": [
       "\\begin{tabular}{r|lllll}\n",
       " template & rater & mean & sd & sum\\_outliers\\\\\n",
       "\\hline\n",
       "\t d99        & 1          & 0.5988578  & 0.3897789  & 1         \\\\\n",
       "\t d99        & 2          & 0.4910849  & 0.4144809  & 1         \\\\\n",
       "\t d99        & 3          & 0.4997831  & 0.4729919  & 2         \\\\\n",
       "\t d99        & 4          & 0.7204024  & 0.5840240  & 5         \\\\\n",
       "\t d99        & 5          & 0.6603010  & 0.4764970  & 1         \\\\\n",
       "\t inia19     & 1          & 0.5548554  & 0.5467129  & 2         \\\\\n",
       "\t inia19     & 2          & 0.3754984  & 0.3292815  & 1         \\\\\n",
       "\t inia19     & 3          & 0.4410776  & 0.4986659  & 2         \\\\\n",
       "\t inia19     & 4          & 0.6453989  & 0.4871586  & 2         \\\\\n",
       "\t inia19     & 5          & 0.5994473  & 0.5923666  & 2         \\\\\n",
       "\t macaqueMNI & 1          & 0.4523083  & 0.4221805  & 2         \\\\\n",
       "\t macaqueMNI & 2          & 0.4091853  & 0.2863586  & 0         \\\\\n",
       "\t macaqueMNI & 3          & 0.3431368  & 0.2860229  & 1         \\\\\n",
       "\t macaqueMNI & 4          & 0.6496165  & 0.4324477  & 2         \\\\\n",
       "\t macaqueMNI & 5          & 0.5517525  & 0.2949526  & 0         \\\\\n",
       "\t nmtv1.3    & 1          & 0.4531232  & 0.3069378  & 0         \\\\\n",
       "\t nmtv1.3    & 2          & 0.4702654  & 0.3660728  & 1         \\\\\n",
       "\t nmtv1.3    & 3          & 0.3805475  & 0.3387860  & 1         \\\\\n",
       "\t nmtv1.3    & 4          & 0.7296326  & 0.5929068  & 2         \\\\\n",
       "\t nmtv1.3    & 5          & 0.5950413  & 0.7319341  & 2         \\\\\n",
       "\t yerkes19   & 1          & 0.5456802  & 0.2590412  & 0         \\\\\n",
       "\t yerkes19   & 2          & 0.4073318  & 0.2705696  & 0         \\\\\n",
       "\t yerkes19   & 3          & 0.3796925  & 0.3492534  & 0         \\\\\n",
       "\t yerkes19   & 4          & 0.8085748  & 0.6292782  & 4         \\\\\n",
       "\t yerkes19   & 5          & 0.7106587  & 0.5154122  & 1         \\\\\n",
       "\\end{tabular}\n"
      ],
      "text/markdown": [
       "\n",
       "| template | rater | mean | sd | sum_outliers |\n",
       "|---|---|---|---|---|\n",
       "| d99        | 1          | 0.5988578  | 0.3897789  | 1          |\n",
       "| d99        | 2          | 0.4910849  | 0.4144809  | 1          |\n",
       "| d99        | 3          | 0.4997831  | 0.4729919  | 2          |\n",
       "| d99        | 4          | 0.7204024  | 0.5840240  | 5          |\n",
       "| d99        | 5          | 0.6603010  | 0.4764970  | 1          |\n",
       "| inia19     | 1          | 0.5548554  | 0.5467129  | 2          |\n",
       "| inia19     | 2          | 0.3754984  | 0.3292815  | 1          |\n",
       "| inia19     | 3          | 0.4410776  | 0.4986659  | 2          |\n",
       "| inia19     | 4          | 0.6453989  | 0.4871586  | 2          |\n",
       "| inia19     | 5          | 0.5994473  | 0.5923666  | 2          |\n",
       "| macaqueMNI | 1          | 0.4523083  | 0.4221805  | 2          |\n",
       "| macaqueMNI | 2          | 0.4091853  | 0.2863586  | 0          |\n",
       "| macaqueMNI | 3          | 0.3431368  | 0.2860229  | 1          |\n",
       "| macaqueMNI | 4          | 0.6496165  | 0.4324477  | 2          |\n",
       "| macaqueMNI | 5          | 0.5517525  | 0.2949526  | 0          |\n",
       "| nmtv1.3    | 1          | 0.4531232  | 0.3069378  | 0          |\n",
       "| nmtv1.3    | 2          | 0.4702654  | 0.3660728  | 1          |\n",
       "| nmtv1.3    | 3          | 0.3805475  | 0.3387860  | 1          |\n",
       "| nmtv1.3    | 4          | 0.7296326  | 0.5929068  | 2          |\n",
       "| nmtv1.3    | 5          | 0.5950413  | 0.7319341  | 2          |\n",
       "| yerkes19   | 1          | 0.5456802  | 0.2590412  | 0          |\n",
       "| yerkes19   | 2          | 0.4073318  | 0.2705696  | 0          |\n",
       "| yerkes19   | 3          | 0.3796925  | 0.3492534  | 0          |\n",
       "| yerkes19   | 4          | 0.8085748  | 0.6292782  | 4          |\n",
       "| yerkes19   | 5          | 0.7106587  | 0.5154122  | 1          |\n",
       "\n"
      ],
      "text/plain": [
       "   template   rater mean      sd        sum_outliers\n",
       "1  d99        1     0.5988578 0.3897789 1           \n",
       "2  d99        2     0.4910849 0.4144809 1           \n",
       "3  d99        3     0.4997831 0.4729919 2           \n",
       "4  d99        4     0.7204024 0.5840240 5           \n",
       "5  d99        5     0.6603010 0.4764970 1           \n",
       "6  inia19     1     0.5548554 0.5467129 2           \n",
       "7  inia19     2     0.3754984 0.3292815 1           \n",
       "8  inia19     3     0.4410776 0.4986659 2           \n",
       "9  inia19     4     0.6453989 0.4871586 2           \n",
       "10 inia19     5     0.5994473 0.5923666 2           \n",
       "11 macaqueMNI 1     0.4523083 0.4221805 2           \n",
       "12 macaqueMNI 2     0.4091853 0.2863586 0           \n",
       "13 macaqueMNI 3     0.3431368 0.2860229 1           \n",
       "14 macaqueMNI 4     0.6496165 0.4324477 2           \n",
       "15 macaqueMNI 5     0.5517525 0.2949526 0           \n",
       "16 nmtv1.3    1     0.4531232 0.3069378 0           \n",
       "17 nmtv1.3    2     0.4702654 0.3660728 1           \n",
       "18 nmtv1.3    3     0.3805475 0.3387860 1           \n",
       "19 nmtv1.3    4     0.7296326 0.5929068 2           \n",
       "20 nmtv1.3    5     0.5950413 0.7319341 2           \n",
       "21 yerkes19   1     0.5456802 0.2590412 0           \n",
       "22 yerkes19   2     0.4073318 0.2705696 0           \n",
       "23 yerkes19   3     0.3796925 0.3492534 0           \n",
       "24 yerkes19   4     0.8085748 0.6292782 4           \n",
       "25 yerkes19   5     0.7106587 0.5154122 1           "
      ]
     },
     "metadata": {},
     "output_type": "display_data"
    }
   ],
   "source": [
    "ddply(df_raters, .(template,rater), summarize, mean=mean(mean_AFLE), sd=sd(mean_AFLE), sum_outliers=sum(outlier))"
   ]
  },
  {
   "cell_type": "code",
   "execution_count": 11,
   "metadata": {},
   "outputs": [
    {
     "data": {
      "text/html": [
       "<table>\n",
       "<thead><tr><th scope=col>fid</th><th scope=col>description</th><th scope=col>mean_AFLE</th></tr></thead>\n",
       "<tbody>\n",
       "\t<tr><td> 6                       </td><td>R superior LMS           </td><td>1.991895                 </td></tr>\n",
       "\t<tr><td> 7                       </td><td>L superior LMS           </td><td>2.272010                 </td></tr>\n",
       "\t<tr><td>10                       </td><td>culmen                   </td><td>1.720365                 </td></tr>\n",
       "\t<tr><td>14                       </td><td>pineal gland             </td><td>2.391597                 </td></tr>\n",
       "\t<tr><td>27                       </td><td>R indusium griseum origin</td><td>2.142403                 </td></tr>\n",
       "\t<tr><td>28                       </td><td>L indusium griseum origin</td><td>2.049865                 </td></tr>\n",
       "\t<tr><td>29                       </td><td>R ventral occipital horn </td><td>2.046500                 </td></tr>\n",
       "\t<tr><td>30                       </td><td>L ventral occipital horn </td><td>2.305469                 </td></tr>\n",
       "\t<tr><td>32                       </td><td>L olfactory sulcal fundus</td><td>1.568520                 </td></tr>\n",
       "</tbody>\n",
       "</table>\n"
      ],
      "text/latex": [
       "\\begin{tabular}{r|lll}\n",
       " fid & description & mean\\_AFLE\\\\\n",
       "\\hline\n",
       "\t  6                        & R superior LMS            & 1.991895                 \\\\\n",
       "\t  7                        & L superior LMS            & 2.272010                 \\\\\n",
       "\t 10                        & culmen                    & 1.720365                 \\\\\n",
       "\t 14                        & pineal gland              & 2.391597                 \\\\\n",
       "\t 27                        & R indusium griseum origin & 2.142403                 \\\\\n",
       "\t 28                        & L indusium griseum origin & 2.049865                 \\\\\n",
       "\t 29                        & R ventral occipital horn  & 2.046500                 \\\\\n",
       "\t 30                        & L ventral occipital horn  & 2.305469                 \\\\\n",
       "\t 32                        & L olfactory sulcal fundus & 1.568520                 \\\\\n",
       "\\end{tabular}\n"
      ],
      "text/markdown": [
       "\n",
       "| fid | description | mean_AFLE |\n",
       "|---|---|---|\n",
       "|  6                        | R superior LMS            | 1.991895                  |\n",
       "|  7                        | L superior LMS            | 2.272010                  |\n",
       "| 10                        | culmen                    | 1.720365                  |\n",
       "| 14                        | pineal gland              | 2.391597                  |\n",
       "| 27                        | R indusium griseum origin | 2.142403                  |\n",
       "| 28                        | L indusium griseum origin | 2.049865                  |\n",
       "| 29                        | R ventral occipital horn  | 2.046500                  |\n",
       "| 30                        | L ventral occipital horn  | 2.305469                  |\n",
       "| 32                        | L olfactory sulcal fundus | 1.568520                  |\n",
       "\n"
      ],
      "text/plain": [
       "  fid description               mean_AFLE\n",
       "1  6  R superior LMS            1.991895 \n",
       "2  7  L superior LMS            2.272010 \n",
       "3 10  culmen                    1.720365 \n",
       "4 14  pineal gland              2.391597 \n",
       "5 27  R indusium griseum origin 2.142403 \n",
       "6 28  L indusium griseum origin 2.049865 \n",
       "7 29  R ventral occipital horn  2.046500 \n",
       "8 30  L ventral occipital horn  2.305469 \n",
       "9 32  L olfactory sulcal fundus 1.568520 "
      ]
     },
     "metadata": {},
     "output_type": "display_data"
    }
   ],
   "source": [
    "# sample of individual rater data > 1.5 mm from the mean\n",
    "ddply(subset(df_raters, mean_AFLE > 1.5), .(fid,description), summarize, mean_AFLE = mean(mean_AFLE))"
   ]
  },
  {
   "cell_type": "code",
   "execution_count": 12,
   "metadata": {},
   "outputs": [
    {
     "data": {
      "text/html": [
       "<table>\n",
       "<thead><tr><th></th><th scope=col>fid</th><th scope=col>X</th><th scope=col>Y</th><th scope=col>Z</th><th scope=col>rater</th><th scope=col>template</th><th scope=col>mri_type</th><th scope=col>session</th><th scope=col>name</th><th scope=col>description</th><th scope=col>mean_AFLE</th><th scope=col>outlier</th><th scope=col>xdist</th><th scope=col>ydist</th><th scope=col>zdist</th></tr></thead>\n",
       "<tbody>\n",
       "\t<tr><th scope=row>27</th><td>27                       </td><td> 5.750                   </td><td>-20.789                  </td><td>6.664                    </td><td>1                        </td><td>d99                      </td><td>T1                       </td><td>1                        </td><td>27                       </td><td>R indusium griseum origin</td><td>1.687685                 </td><td>TRUE                     </td><td>-1.416918                </td><td>-0.08944719              </td><td>0.9124811                </td></tr>\n",
       "\t<tr><th scope=row>187</th><td>27                       </td><td> 5.528                   </td><td>-21.388                  </td><td>4.056                    </td><td>1                        </td><td>inia19                   </td><td>T1                       </td><td>1                        </td><td>27                       </td><td>R indusium griseum origin</td><td>2.428750                 </td><td>TRUE                     </td><td>-1.889563                </td><td>-0.77544248              </td><td>1.3141789                </td></tr>\n",
       "\t<tr><th scope=row>188</th><td>28                       </td><td>-5.974                   </td><td>-21.324                  </td><td>3.828                    </td><td>1                        </td><td>inia19                   </td><td>T1                       </td><td>1                        </td><td>28                       </td><td>L indusium griseum origin</td><td>2.234033                 </td><td>TRUE                     </td><td> 1.876163                </td><td>-0.65132606              </td><td>1.0230791                </td></tr>\n",
       "\t<tr><th scope=row>347</th><td>27                       </td><td> 4.500                   </td><td>-19.130                  </td><td>4.686                    </td><td>1                        </td><td>macaqueMNI               </td><td>T1                       </td><td>1                        </td><td>27                       </td><td>R indusium griseum origin</td><td>2.060235                 </td><td>TRUE                     </td><td>-1.656435                </td><td>-0.72105501              </td><td>0.9903899                </td></tr>\n",
       "\t<tr><th scope=row>348</th><td>28                       </td><td>-5.249                   </td><td>-19.268                  </td><td>4.361                    </td><td>1                        </td><td>macaqueMNI               </td><td>T1                       </td><td>1                        </td><td>28                       </td><td>L indusium griseum origin</td><td>1.708721                 </td><td>TRUE                     </td><td> 1.214525                </td><td>-0.87383875              </td><td>0.8252665                </td></tr>\n",
       "</tbody>\n",
       "</table>\n"
      ],
      "text/latex": [
       "\\begin{tabular}{r|lllllllllllllll}\n",
       "  & fid & X & Y & Z & rater & template & mri\\_type & session & name & description & mean\\_AFLE & outlier & xdist & ydist & zdist\\\\\n",
       "\\hline\n",
       "\t27 & 27                        &  5.750                    & -20.789                   & 6.664                     & 1                         & d99                       & T1                        & 1                         & 27                        & R indusium griseum origin & 1.687685                  & TRUE                      & -1.416918                 & -0.08944719               & 0.9124811                \\\\\n",
       "\t187 & 27                        &  5.528                    & -21.388                   & 4.056                     & 1                         & inia19                    & T1                        & 1                         & 27                        & R indusium griseum origin & 2.428750                  & TRUE                      & -1.889563                 & -0.77544248               & 1.3141789                \\\\\n",
       "\t188 & 28                        & -5.974                    & -21.324                   & 3.828                     & 1                         & inia19                    & T1                        & 1                         & 28                        & L indusium griseum origin & 2.234033                  & TRUE                      &  1.876163                 & -0.65132606               & 1.0230791                \\\\\n",
       "\t347 & 27                        &  4.500                    & -19.130                   & 4.686                     & 1                         & macaqueMNI                & T1                        & 1                         & 27                        & R indusium griseum origin & 2.060235                  & TRUE                      & -1.656435                 & -0.72105501               & 0.9903899                \\\\\n",
       "\t348 & 28                        & -5.249                    & -19.268                   & 4.361                     & 1                         & macaqueMNI                & T1                        & 1                         & 28                        & L indusium griseum origin & 1.708721                  & TRUE                      &  1.214525                 & -0.87383875               & 0.8252665                \\\\\n",
       "\\end{tabular}\n"
      ],
      "text/markdown": [
       "\n",
       "| <!--/--> | fid | X | Y | Z | rater | template | mri_type | session | name | description | mean_AFLE | outlier | xdist | ydist | zdist |\n",
       "|---|---|---|---|---|---|---|---|---|---|---|---|---|---|---|---|\n",
       "| 27 | 27                        |  5.750                    | -20.789                   | 6.664                     | 1                         | d99                       | T1                        | 1                         | 27                        | R indusium griseum origin | 1.687685                  | TRUE                      | -1.416918                 | -0.08944719               | 0.9124811                 |\n",
       "| 187 | 27                        |  5.528                    | -21.388                   | 4.056                     | 1                         | inia19                    | T1                        | 1                         | 27                        | R indusium griseum origin | 2.428750                  | TRUE                      | -1.889563                 | -0.77544248               | 1.3141789                 |\n",
       "| 188 | 28                        | -5.974                    | -21.324                   | 3.828                     | 1                         | inia19                    | T1                        | 1                         | 28                        | L indusium griseum origin | 2.234033                  | TRUE                      |  1.876163                 | -0.65132606               | 1.0230791                 |\n",
       "| 347 | 27                        |  4.500                    | -19.130                   | 4.686                     | 1                         | macaqueMNI                | T1                        | 1                         | 27                        | R indusium griseum origin | 2.060235                  | TRUE                      | -1.656435                 | -0.72105501               | 0.9903899                 |\n",
       "| 348 | 28                        | -5.249                    | -19.268                   | 4.361                     | 1                         | macaqueMNI                | T1                        | 1                         | 28                        | L indusium griseum origin | 1.708721                  | TRUE                      |  1.214525                 | -0.87383875               | 0.8252665                 |\n",
       "\n"
      ],
      "text/plain": [
       "    fid X      Y       Z     rater template   mri_type session name\n",
       "27  27   5.750 -20.789 6.664 1     d99        T1       1       27  \n",
       "187 27   5.528 -21.388 4.056 1     inia19     T1       1       27  \n",
       "188 28  -5.974 -21.324 3.828 1     inia19     T1       1       28  \n",
       "347 27   4.500 -19.130 4.686 1     macaqueMNI T1       1       27  \n",
       "348 28  -5.249 -19.268 4.361 1     macaqueMNI T1       1       28  \n",
       "    description               mean_AFLE outlier xdist     ydist       zdist    \n",
       "27  R indusium griseum origin 1.687685  TRUE    -1.416918 -0.08944719 0.9124811\n",
       "187 R indusium griseum origin 2.428750  TRUE    -1.889563 -0.77544248 1.3141789\n",
       "188 L indusium griseum origin 2.234033  TRUE     1.876163 -0.65132606 1.0230791\n",
       "347 R indusium griseum origin 2.060235  TRUE    -1.656435 -0.72105501 0.9903899\n",
       "348 L indusium griseum origin 1.708721  TRUE     1.214525 -0.87383875 0.8252665"
      ]
     },
     "metadata": {},
     "output_type": "display_data"
    }
   ],
   "source": [
    "subset(df_raters, mean_AFLE > 1.5 & rater == 1)"
   ]
  },
  {
   "cell_type": "code",
   "execution_count": 13,
   "metadata": {},
   "outputs": [
    {
     "data": {
      "text/html": [
       "<table>\n",
       "<thead><tr><th></th><th scope=col>fid</th><th scope=col>X</th><th scope=col>Y</th><th scope=col>Z</th><th scope=col>rater</th><th scope=col>template</th><th scope=col>mri_type</th><th scope=col>session</th><th scope=col>name</th><th scope=col>description</th><th scope=col>mean_AFLE</th><th scope=col>outlier</th><th scope=col>xdist</th><th scope=col>ydist</th><th scope=col>zdist</th></tr></thead>\n",
       "<tbody>\n",
       "\t<tr><th scope=row>42</th><td>10          </td><td>-0.2286675  </td><td>-29.03934   </td><td>7.314584    </td><td>2           </td><td>d99         </td><td>T1          </td><td>1           </td><td>10          </td><td>culmen      </td><td>1.806126    </td><td>TRUE        </td><td>-0.05813403 </td><td>-1.792871   </td><td>-0.21053265 </td></tr>\n",
       "\t<tr><th scope=row>202</th><td>10          </td><td>-0.1560955  </td><td>-28.26979   </td><td>3.865907    </td><td>2           </td><td>inia19      </td><td>T1          </td><td>1           </td><td>10          </td><td>culmen      </td><td>1.634603    </td><td>TRUE        </td><td>-0.05027642 </td><td> 1.576971   </td><td>-0.42727434 </td></tr>\n",
       "\t<tr><th scope=row>526</th><td>14          </td><td>-0.2671972  </td><td>-13.74560   </td><td>3.764306    </td><td>2           </td><td>nmtv1.3     </td><td>T1          </td><td>1           </td><td>14          </td><td>pineal gland</td><td>1.924758    </td><td>TRUE        </td><td>-0.02075773 </td><td> 1.922922   </td><td> 0.08144507 </td></tr>\n",
       "</tbody>\n",
       "</table>\n"
      ],
      "text/latex": [
       "\\begin{tabular}{r|lllllllllllllll}\n",
       "  & fid & X & Y & Z & rater & template & mri\\_type & session & name & description & mean\\_AFLE & outlier & xdist & ydist & zdist\\\\\n",
       "\\hline\n",
       "\t42 & 10           & -0.2286675   & -29.03934    & 7.314584     & 2            & d99          & T1           & 1            & 10           & culmen       & 1.806126     & TRUE         & -0.05813403  & -1.792871    & -0.21053265 \\\\\n",
       "\t202 & 10           & -0.1560955   & -28.26979    & 3.865907     & 2            & inia19       & T1           & 1            & 10           & culmen       & 1.634603     & TRUE         & -0.05027642  &  1.576971    & -0.42727434 \\\\\n",
       "\t526 & 14           & -0.2671972   & -13.74560    & 3.764306     & 2            & nmtv1.3      & T1           & 1            & 14           & pineal gland & 1.924758     & TRUE         & -0.02075773  &  1.922922    &  0.08144507 \\\\\n",
       "\\end{tabular}\n"
      ],
      "text/markdown": [
       "\n",
       "| <!--/--> | fid | X | Y | Z | rater | template | mri_type | session | name | description | mean_AFLE | outlier | xdist | ydist | zdist |\n",
       "|---|---|---|---|---|---|---|---|---|---|---|---|---|---|---|---|\n",
       "| 42 | 10           | -0.2286675   | -29.03934    | 7.314584     | 2            | d99          | T1           | 1            | 10           | culmen       | 1.806126     | TRUE         | -0.05813403  | -1.792871    | -0.21053265  |\n",
       "| 202 | 10           | -0.1560955   | -28.26979    | 3.865907     | 2            | inia19       | T1           | 1            | 10           | culmen       | 1.634603     | TRUE         | -0.05027642  |  1.576971    | -0.42727434  |\n",
       "| 526 | 14           | -0.2671972   | -13.74560    | 3.764306     | 2            | nmtv1.3      | T1           | 1            | 14           | pineal gland | 1.924758     | TRUE         | -0.02075773  |  1.922922    |  0.08144507  |\n",
       "\n"
      ],
      "text/plain": [
       "    fid X          Y         Z        rater template mri_type session name\n",
       "42  10  -0.2286675 -29.03934 7.314584 2     d99      T1       1       10  \n",
       "202 10  -0.1560955 -28.26979 3.865907 2     inia19   T1       1       10  \n",
       "526 14  -0.2671972 -13.74560 3.764306 2     nmtv1.3  T1       1       14  \n",
       "    description  mean_AFLE outlier xdist       ydist     zdist      \n",
       "42  culmen       1.806126  TRUE    -0.05813403 -1.792871 -0.21053265\n",
       "202 culmen       1.634603  TRUE    -0.05027642  1.576971 -0.42727434\n",
       "526 pineal gland 1.924758  TRUE    -0.02075773  1.922922  0.08144507"
      ]
     },
     "metadata": {},
     "output_type": "display_data"
    }
   ],
   "source": [
    "subset(df_raters, mean_AFLE > 1.5 & rater == 2)"
   ]
  },
  {
   "cell_type": "code",
   "execution_count": 14,
   "metadata": {},
   "outputs": [
    {
     "data": {
      "text/html": [
       "<table>\n",
       "<thead><tr><th></th><th scope=col>fid</th><th scope=col>X</th><th scope=col>Y</th><th scope=col>Z</th><th scope=col>rater</th><th scope=col>template</th><th scope=col>mri_type</th><th scope=col>session</th><th scope=col>name</th><th scope=col>description</th><th scope=col>mean_AFLE</th><th scope=col>outlier</th><th scope=col>xdist</th><th scope=col>ydist</th><th scope=col>zdist</th></tr></thead>\n",
       "<tbody>\n",
       "\t<tr><th scope=row>91</th><td>27                       </td><td> 8.741                   </td><td>-20.259                  </td><td>4.580                    </td><td>3                        </td><td>d99                      </td><td>T1                       </td><td>1                        </td><td>27                       </td><td>R indusium griseum origin</td><td>2.011039                 </td><td>TRUE                     </td><td> 1.574082                </td><td>0.4405528                </td><td>-1.1715189               </td></tr>\n",
       "\t<tr><th scope=row>92</th><td>28                       </td><td>-8.469                   </td><td>-20.337                  </td><td>4.826                    </td><td>3                        </td><td>d99                      </td><td>T1                       </td><td>1                        </td><td>28                       </td><td>L indusium griseum origin</td><td>1.707772                 </td><td>TRUE                     </td><td>-1.285940                </td><td>0.4237015                </td><td>-1.0408274               </td></tr>\n",
       "\t<tr><th scope=row>251</th><td>27                       </td><td> 8.938                   </td><td>-19.822                  </td><td>1.616                    </td><td>3                        </td><td>inia19                   </td><td>T1                       </td><td>1                        </td><td>27                       </td><td>R indusium griseum origin</td><td>2.050410                 </td><td>TRUE                     </td><td> 1.520437                </td><td>0.7905575                </td><td>-1.1258211               </td></tr>\n",
       "\t<tr><th scope=row>252</th><td>28                       </td><td>-9.636                   </td><td>-19.846                  </td><td>1.603                    </td><td>3                        </td><td>inia19                   </td><td>T1                       </td><td>1                        </td><td>28                       </td><td>L indusium griseum origin</td><td>2.305910                 </td><td>TRUE                     </td><td>-1.785837                </td><td>0.8266739                </td><td>-1.2019209               </td></tr>\n",
       "\t<tr><th scope=row>411</th><td>27                       </td><td> 7.550                   </td><td>-18.141                  </td><td>2.956                    </td><td>3                        </td><td>macaqueMNI               </td><td>T1                       </td><td>1                        </td><td>27                       </td><td>R indusium griseum origin</td><td>1.600263                 </td><td>TRUE                     </td><td> 1.393565                </td><td>0.2679450                </td><td>-0.7396101               </td></tr>\n",
       "\t<tr><th scope=row>571</th><td>27                       </td><td> 9.318                   </td><td>-19.346                  </td><td>4.839                    </td><td>3                        </td><td>nmtv1.3                  </td><td>T1                       </td><td>1                        </td><td>27                       </td><td>R indusium griseum origin</td><td>1.897667                 </td><td>TRUE                     </td><td> 1.705533                </td><td>0.5170334                </td><td>-0.6518984               </td></tr>\n",
       "</tbody>\n",
       "</table>\n"
      ],
      "text/latex": [
       "\\begin{tabular}{r|lllllllllllllll}\n",
       "  & fid & X & Y & Z & rater & template & mri\\_type & session & name & description & mean\\_AFLE & outlier & xdist & ydist & zdist\\\\\n",
       "\\hline\n",
       "\t91 & 27                        &  8.741                    & -20.259                   & 4.580                     & 3                         & d99                       & T1                        & 1                         & 27                        & R indusium griseum origin & 2.011039                  & TRUE                      &  1.574082                 & 0.4405528                 & -1.1715189               \\\\\n",
       "\t92 & 28                        & -8.469                    & -20.337                   & 4.826                     & 3                         & d99                       & T1                        & 1                         & 28                        & L indusium griseum origin & 1.707772                  & TRUE                      & -1.285940                 & 0.4237015                 & -1.0408274               \\\\\n",
       "\t251 & 27                        &  8.938                    & -19.822                   & 1.616                     & 3                         & inia19                    & T1                        & 1                         & 27                        & R indusium griseum origin & 2.050410                  & TRUE                      &  1.520437                 & 0.7905575                 & -1.1258211               \\\\\n",
       "\t252 & 28                        & -9.636                    & -19.846                   & 1.603                     & 3                         & inia19                    & T1                        & 1                         & 28                        & L indusium griseum origin & 2.305910                  & TRUE                      & -1.785837                 & 0.8266739                 & -1.2019209               \\\\\n",
       "\t411 & 27                        &  7.550                    & -18.141                   & 2.956                     & 3                         & macaqueMNI                & T1                        & 1                         & 27                        & R indusium griseum origin & 1.600263                  & TRUE                      &  1.393565                 & 0.2679450                 & -0.7396101               \\\\\n",
       "\t571 & 27                        &  9.318                    & -19.346                   & 4.839                     & 3                         & nmtv1.3                   & T1                        & 1                         & 27                        & R indusium griseum origin & 1.897667                  & TRUE                      &  1.705533                 & 0.5170334                 & -0.6518984               \\\\\n",
       "\\end{tabular}\n"
      ],
      "text/markdown": [
       "\n",
       "| <!--/--> | fid | X | Y | Z | rater | template | mri_type | session | name | description | mean_AFLE | outlier | xdist | ydist | zdist |\n",
       "|---|---|---|---|---|---|---|---|---|---|---|---|---|---|---|---|\n",
       "| 91 | 27                        |  8.741                    | -20.259                   | 4.580                     | 3                         | d99                       | T1                        | 1                         | 27                        | R indusium griseum origin | 2.011039                  | TRUE                      |  1.574082                 | 0.4405528                 | -1.1715189                |\n",
       "| 92 | 28                        | -8.469                    | -20.337                   | 4.826                     | 3                         | d99                       | T1                        | 1                         | 28                        | L indusium griseum origin | 1.707772                  | TRUE                      | -1.285940                 | 0.4237015                 | -1.0408274                |\n",
       "| 251 | 27                        |  8.938                    | -19.822                   | 1.616                     | 3                         | inia19                    | T1                        | 1                         | 27                        | R indusium griseum origin | 2.050410                  | TRUE                      |  1.520437                 | 0.7905575                 | -1.1258211                |\n",
       "| 252 | 28                        | -9.636                    | -19.846                   | 1.603                     | 3                         | inia19                    | T1                        | 1                         | 28                        | L indusium griseum origin | 2.305910                  | TRUE                      | -1.785837                 | 0.8266739                 | -1.2019209                |\n",
       "| 411 | 27                        |  7.550                    | -18.141                   | 2.956                     | 3                         | macaqueMNI                | T1                        | 1                         | 27                        | R indusium griseum origin | 1.600263                  | TRUE                      |  1.393565                 | 0.2679450                 | -0.7396101                |\n",
       "| 571 | 27                        |  9.318                    | -19.346                   | 4.839                     | 3                         | nmtv1.3                   | T1                        | 1                         | 27                        | R indusium griseum origin | 1.897667                  | TRUE                      |  1.705533                 | 0.5170334                 | -0.6518984                |\n",
       "\n"
      ],
      "text/plain": [
       "    fid X      Y       Z     rater template   mri_type session name\n",
       "91  27   8.741 -20.259 4.580 3     d99        T1       1       27  \n",
       "92  28  -8.469 -20.337 4.826 3     d99        T1       1       28  \n",
       "251 27   8.938 -19.822 1.616 3     inia19     T1       1       27  \n",
       "252 28  -9.636 -19.846 1.603 3     inia19     T1       1       28  \n",
       "411 27   7.550 -18.141 2.956 3     macaqueMNI T1       1       27  \n",
       "571 27   9.318 -19.346 4.839 3     nmtv1.3    T1       1       27  \n",
       "    description               mean_AFLE outlier xdist     ydist     zdist     \n",
       "91  R indusium griseum origin 2.011039  TRUE     1.574082 0.4405528 -1.1715189\n",
       "92  L indusium griseum origin 1.707772  TRUE    -1.285940 0.4237015 -1.0408274\n",
       "251 R indusium griseum origin 2.050410  TRUE     1.520437 0.7905575 -1.1258211\n",
       "252 L indusium griseum origin 2.305910  TRUE    -1.785837 0.8266739 -1.2019209\n",
       "411 R indusium griseum origin 1.600263  TRUE     1.393565 0.2679450 -0.7396101\n",
       "571 R indusium griseum origin 1.897667  TRUE     1.705533 0.5170334 -0.6518984"
      ]
     },
     "metadata": {},
     "output_type": "display_data"
    }
   ],
   "source": [
    "subset(df_raters, mean_AFLE > 1.5 & rater == 3)"
   ]
  },
  {
   "cell_type": "code",
   "execution_count": 15,
   "metadata": {},
   "outputs": [
    {
     "data": {
      "text/html": [
       "<table>\n",
       "<thead><tr><th></th><th scope=col>fid</th><th scope=col>X</th><th scope=col>Y</th><th scope=col>Z</th><th scope=col>rater</th><th scope=col>template</th><th scope=col>mri_type</th><th scope=col>session</th><th scope=col>name</th><th scope=col>description</th><th scope=col>mean_AFLE</th><th scope=col>outlier</th><th scope=col>xdist</th><th scope=col>ydist</th><th scope=col>zdist</th></tr></thead>\n",
       "<tbody>\n",
       "\t<tr><th scope=row>102</th><td> 6                       </td><td>  7.051                  </td><td>-15.236                  </td><td>-1.839                   </td><td>4                        </td><td>d99                      </td><td>T1                       </td><td>1                        </td><td> 6                       </td><td>R superior LMS           </td><td>1.561850                 </td><td>TRUE                     </td><td> 0.395336602             </td><td>-0.1797033               </td><td> 1.5002641               </td></tr>\n",
       "\t<tr><th scope=row>103</th><td> 7                       </td><td> -7.364                  </td><td>-15.300                  </td><td>-1.440                   </td><td>4                        </td><td>d99                      </td><td>T1                       </td><td>1                        </td><td> 7                       </td><td>L superior LMS           </td><td>1.899020                 </td><td>TRUE                     </td><td>-0.421939379             </td><td>-0.1871972               </td><td> 1.8420641               </td></tr>\n",
       "\t<tr><th scope=row>123</th><td>27                       </td><td>  8.938                  </td><td>-20.972                  </td><td> 4.711                   </td><td>4                        </td><td>d99                      </td><td>T1                       </td><td>1                        </td><td>27                       </td><td>R indusium griseum origin</td><td>2.072110                 </td><td>TRUE                     </td><td> 1.771081813             </td><td>-0.2724472               </td><td>-1.0405189               </td></tr>\n",
       "\t<tr><th scope=row>124</th><td>28                       </td><td> -8.843                  </td><td>-20.979                  </td><td> 4.927                   </td><td>4                        </td><td>d99                      </td><td>T1                       </td><td>1                        </td><td>28                       </td><td>L indusium griseum origin</td><td>1.919982                 </td><td>TRUE                     </td><td>-1.659939650             </td><td>-0.2182985               </td><td>-0.9398274               </td></tr>\n",
       "\t<tr><th scope=row>128</th><td>32                       </td><td> -5.202                  </td><td> 13.484                  </td><td> 3.419                   </td><td>4                        </td><td>d99                      </td><td>T1                       </td><td>1                        </td><td>32                       </td><td>L olfactory sulcal fundus</td><td>1.568520                 </td><td>TRUE                     </td><td> 0.013447347             </td><td> 1.2635298               </td><td> 0.9292826               </td></tr>\n",
       "\t<tr><th scope=row>283</th><td>27                       </td><td>  9.337                  </td><td>-20.052                  </td><td> 1.556                   </td><td>4                        </td><td>inia19                   </td><td>T1                       </td><td>1                        </td><td>27                       </td><td>R indusium griseum origin</td><td>2.324787                 </td><td>TRUE                     </td><td> 1.919437045             </td><td> 0.5605575               </td><td>-1.1858211               </td></tr>\n",
       "\t<tr><th scope=row>284</th><td>28                       </td><td> -9.202                  </td><td>-20.250                  </td><td> 2.052                   </td><td>4                        </td><td>inia19                   </td><td>T1                       </td><td>1                        </td><td>28                       </td><td>L indusium griseum origin</td><td>1.604060                 </td><td>TRUE                     </td><td>-1.351837491             </td><td> 0.4226739               </td><td>-0.7529209               </td></tr>\n",
       "\t<tr><th scope=row>444</th><td>28                       </td><td> -7.639                  </td><td>-17.616                  </td><td> 2.615                   </td><td>4                        </td><td>macaqueMNI               </td><td>T1                       </td><td>1                        </td><td>28                       </td><td>L indusium griseum origin</td><td>1.683754                 </td><td>TRUE                     </td><td>-1.175475464             </td><td> 0.7781613               </td><td>-0.9207335               </td></tr>\n",
       "\t<tr><th scope=row>445</th><td>29                       </td><td> 14.300                  </td><td>-22.781                  </td><td> 1.325                   </td><td>4                        </td><td>macaqueMNI               </td><td>T1                       </td><td>1                        </td><td>29                       </td><td>R ventral occipital horn </td><td>1.544868                 </td><td>TRUE                     </td><td> 0.530608667             </td><td>-1.1337491               </td><td> 0.9053647               </td></tr>\n",
       "\t<tr><th scope=row>605</th><td>29                       </td><td> 15.323                  </td><td>-25.782                  </td><td> 3.528                   </td><td>4                        </td><td>nmtv1.3                  </td><td>T1                       </td><td>1                        </td><td>29                       </td><td>R ventral occipital horn </td><td>2.548133                 </td><td>TRUE                     </td><td>-0.002768165             </td><td>-2.2788753               </td><td> 1.1400439               </td></tr>\n",
       "\t<tr><th scope=row>606</th><td>30                       </td><td>-15.973                  </td><td>-25.764                  </td><td> 2.951                   </td><td>4                        </td><td>nmtv1.3                  </td><td>T1                       </td><td>1                        </td><td>30                       </td><td>L ventral occipital horn </td><td>2.305469                 </td><td>TRUE                     </td><td>-0.193418841             </td><td>-2.0579176               </td><td> 1.0211525               </td></tr>\n",
       "\t<tr><th scope=row>742</th><td> 6                       </td><td>  6.360                  </td><td>-15.693                  </td><td>-2.215                   </td><td>4                        </td><td>yerkes19                 </td><td>T1                       </td><td>1                        </td><td> 6                       </td><td>R superior LMS           </td><td>2.421939                 </td><td>TRUE                     </td><td>-0.218487544             </td><td>-1.0684384               </td><td> 2.1625194               </td></tr>\n",
       "\t<tr><th scope=row>743</th><td> 7                       </td><td> -7.354                  </td><td>-15.643                  </td><td>-2.019                   </td><td>4                        </td><td>yerkes19                 </td><td>T1                       </td><td>1                        </td><td> 7                       </td><td>L superior LMS           </td><td>2.645001                 </td><td>TRUE                     </td><td> 0.162387655             </td><td>-1.0327384               </td><td> 2.4296318               </td></tr>\n",
       "\t<tr><th scope=row>763</th><td>27                       </td><td>  8.339                  </td><td>-20.147                  </td><td> 1.500                   </td><td>4                        </td><td>yerkes19                 </td><td>T1                       </td><td>1                        </td><td>27                       </td><td>R indusium griseum origin</td><td>2.138868                 </td><td>TRUE                     </td><td> 1.870803782             </td><td> 0.5304526               </td><td>-0.8907687               </td></tr>\n",
       "\t<tr><th scope=row>764</th><td>28                       </td><td> -8.704                  </td><td>-19.976                  </td><td> 1.759                   </td><td>4                        </td><td>yerkes19                 </td><td>T1                       </td><td>1                        </td><td>28                       </td><td>L indusium griseum origin</td><td>1.799539                 </td><td>TRUE                     </td><td>-1.575903170             </td><td> 0.5104937               </td><td>-0.7030403               </td></tr>\n",
       "</tbody>\n",
       "</table>\n"
      ],
      "text/latex": [
       "\\begin{tabular}{r|lllllllllllllll}\n",
       "  & fid & X & Y & Z & rater & template & mri\\_type & session & name & description & mean\\_AFLE & outlier & xdist & ydist & zdist\\\\\n",
       "\\hline\n",
       "\t102 &  6                        &   7.051                   & -15.236                   & -1.839                    & 4                         & d99                       & T1                        & 1                         &  6                        & R superior LMS            & 1.561850                  & TRUE                      &  0.395336602              & -0.1797033                &  1.5002641               \\\\\n",
       "\t103 &  7                        &  -7.364                   & -15.300                   & -1.440                    & 4                         & d99                       & T1                        & 1                         &  7                        & L superior LMS            & 1.899020                  & TRUE                      & -0.421939379              & -0.1871972                &  1.8420641               \\\\\n",
       "\t123 & 27                        &   8.938                   & -20.972                   &  4.711                    & 4                         & d99                       & T1                        & 1                         & 27                        & R indusium griseum origin & 2.072110                  & TRUE                      &  1.771081813              & -0.2724472                & -1.0405189               \\\\\n",
       "\t124 & 28                        &  -8.843                   & -20.979                   &  4.927                    & 4                         & d99                       & T1                        & 1                         & 28                        & L indusium griseum origin & 1.919982                  & TRUE                      & -1.659939650              & -0.2182985                & -0.9398274               \\\\\n",
       "\t128 & 32                        &  -5.202                   &  13.484                   &  3.419                    & 4                         & d99                       & T1                        & 1                         & 32                        & L olfactory sulcal fundus & 1.568520                  & TRUE                      &  0.013447347              &  1.2635298                &  0.9292826               \\\\\n",
       "\t283 & 27                        &   9.337                   & -20.052                   &  1.556                    & 4                         & inia19                    & T1                        & 1                         & 27                        & R indusium griseum origin & 2.324787                  & TRUE                      &  1.919437045              &  0.5605575                & -1.1858211               \\\\\n",
       "\t284 & 28                        &  -9.202                   & -20.250                   &  2.052                    & 4                         & inia19                    & T1                        & 1                         & 28                        & L indusium griseum origin & 1.604060                  & TRUE                      & -1.351837491              &  0.4226739                & -0.7529209               \\\\\n",
       "\t444 & 28                        &  -7.639                   & -17.616                   &  2.615                    & 4                         & macaqueMNI                & T1                        & 1                         & 28                        & L indusium griseum origin & 1.683754                  & TRUE                      & -1.175475464              &  0.7781613                & -0.9207335               \\\\\n",
       "\t445 & 29                        &  14.300                   & -22.781                   &  1.325                    & 4                         & macaqueMNI                & T1                        & 1                         & 29                        & R ventral occipital horn  & 1.544868                  & TRUE                      &  0.530608667              & -1.1337491                &  0.9053647               \\\\\n",
       "\t605 & 29                        &  15.323                   & -25.782                   &  3.528                    & 4                         & nmtv1.3                   & T1                        & 1                         & 29                        & R ventral occipital horn  & 2.548133                  & TRUE                      & -0.002768165              & -2.2788753                &  1.1400439               \\\\\n",
       "\t606 & 30                        & -15.973                   & -25.764                   &  2.951                    & 4                         & nmtv1.3                   & T1                        & 1                         & 30                        & L ventral occipital horn  & 2.305469                  & TRUE                      & -0.193418841              & -2.0579176                &  1.0211525               \\\\\n",
       "\t742 &  6                        &   6.360                   & -15.693                   & -2.215                    & 4                         & yerkes19                  & T1                        & 1                         &  6                        & R superior LMS            & 2.421939                  & TRUE                      & -0.218487544              & -1.0684384                &  2.1625194               \\\\\n",
       "\t743 &  7                        &  -7.354                   & -15.643                   & -2.019                    & 4                         & yerkes19                  & T1                        & 1                         &  7                        & L superior LMS            & 2.645001                  & TRUE                      &  0.162387655              & -1.0327384                &  2.4296318               \\\\\n",
       "\t763 & 27                        &   8.339                   & -20.147                   &  1.500                    & 4                         & yerkes19                  & T1                        & 1                         & 27                        & R indusium griseum origin & 2.138868                  & TRUE                      &  1.870803782              &  0.5304526                & -0.8907687               \\\\\n",
       "\t764 & 28                        &  -8.704                   & -19.976                   &  1.759                    & 4                         & yerkes19                  & T1                        & 1                         & 28                        & L indusium griseum origin & 1.799539                  & TRUE                      & -1.575903170              &  0.5104937                & -0.7030403               \\\\\n",
       "\\end{tabular}\n"
      ],
      "text/markdown": [
       "\n",
       "| <!--/--> | fid | X | Y | Z | rater | template | mri_type | session | name | description | mean_AFLE | outlier | xdist | ydist | zdist |\n",
       "|---|---|---|---|---|---|---|---|---|---|---|---|---|---|---|---|\n",
       "| 102 |  6                        |   7.051                   | -15.236                   | -1.839                    | 4                         | d99                       | T1                        | 1                         |  6                        | R superior LMS            | 1.561850                  | TRUE                      |  0.395336602              | -0.1797033                |  1.5002641                |\n",
       "| 103 |  7                        |  -7.364                   | -15.300                   | -1.440                    | 4                         | d99                       | T1                        | 1                         |  7                        | L superior LMS            | 1.899020                  | TRUE                      | -0.421939379              | -0.1871972                |  1.8420641                |\n",
       "| 123 | 27                        |   8.938                   | -20.972                   |  4.711                    | 4                         | d99                       | T1                        | 1                         | 27                        | R indusium griseum origin | 2.072110                  | TRUE                      |  1.771081813              | -0.2724472                | -1.0405189                |\n",
       "| 124 | 28                        |  -8.843                   | -20.979                   |  4.927                    | 4                         | d99                       | T1                        | 1                         | 28                        | L indusium griseum origin | 1.919982                  | TRUE                      | -1.659939650              | -0.2182985                | -0.9398274                |\n",
       "| 128 | 32                        |  -5.202                   |  13.484                   |  3.419                    | 4                         | d99                       | T1                        | 1                         | 32                        | L olfactory sulcal fundus | 1.568520                  | TRUE                      |  0.013447347              |  1.2635298                |  0.9292826                |\n",
       "| 283 | 27                        |   9.337                   | -20.052                   |  1.556                    | 4                         | inia19                    | T1                        | 1                         | 27                        | R indusium griseum origin | 2.324787                  | TRUE                      |  1.919437045              |  0.5605575                | -1.1858211                |\n",
       "| 284 | 28                        |  -9.202                   | -20.250                   |  2.052                    | 4                         | inia19                    | T1                        | 1                         | 28                        | L indusium griseum origin | 1.604060                  | TRUE                      | -1.351837491              |  0.4226739                | -0.7529209                |\n",
       "| 444 | 28                        |  -7.639                   | -17.616                   |  2.615                    | 4                         | macaqueMNI                | T1                        | 1                         | 28                        | L indusium griseum origin | 1.683754                  | TRUE                      | -1.175475464              |  0.7781613                | -0.9207335                |\n",
       "| 445 | 29                        |  14.300                   | -22.781                   |  1.325                    | 4                         | macaqueMNI                | T1                        | 1                         | 29                        | R ventral occipital horn  | 1.544868                  | TRUE                      |  0.530608667              | -1.1337491                |  0.9053647                |\n",
       "| 605 | 29                        |  15.323                   | -25.782                   |  3.528                    | 4                         | nmtv1.3                   | T1                        | 1                         | 29                        | R ventral occipital horn  | 2.548133                  | TRUE                      | -0.002768165              | -2.2788753                |  1.1400439                |\n",
       "| 606 | 30                        | -15.973                   | -25.764                   |  2.951                    | 4                         | nmtv1.3                   | T1                        | 1                         | 30                        | L ventral occipital horn  | 2.305469                  | TRUE                      | -0.193418841              | -2.0579176                |  1.0211525                |\n",
       "| 742 |  6                        |   6.360                   | -15.693                   | -2.215                    | 4                         | yerkes19                  | T1                        | 1                         |  6                        | R superior LMS            | 2.421939                  | TRUE                      | -0.218487544              | -1.0684384                |  2.1625194                |\n",
       "| 743 |  7                        |  -7.354                   | -15.643                   | -2.019                    | 4                         | yerkes19                  | T1                        | 1                         |  7                        | L superior LMS            | 2.645001                  | TRUE                      |  0.162387655              | -1.0327384                |  2.4296318                |\n",
       "| 763 | 27                        |   8.339                   | -20.147                   |  1.500                    | 4                         | yerkes19                  | T1                        | 1                         | 27                        | R indusium griseum origin | 2.138868                  | TRUE                      |  1.870803782              |  0.5304526                | -0.8907687                |\n",
       "| 764 | 28                        |  -8.704                   | -19.976                   |  1.759                    | 4                         | yerkes19                  | T1                        | 1                         | 28                        | L indusium griseum origin | 1.799539                  | TRUE                      | -1.575903170              |  0.5104937                | -0.7030403                |\n",
       "\n"
      ],
      "text/plain": [
       "    fid X       Y       Z      rater template   mri_type session name\n",
       "102  6    7.051 -15.236 -1.839 4     d99        T1       1        6  \n",
       "103  7   -7.364 -15.300 -1.440 4     d99        T1       1        7  \n",
       "123 27    8.938 -20.972  4.711 4     d99        T1       1       27  \n",
       "124 28   -8.843 -20.979  4.927 4     d99        T1       1       28  \n",
       "128 32   -5.202  13.484  3.419 4     d99        T1       1       32  \n",
       "283 27    9.337 -20.052  1.556 4     inia19     T1       1       27  \n",
       "284 28   -9.202 -20.250  2.052 4     inia19     T1       1       28  \n",
       "444 28   -7.639 -17.616  2.615 4     macaqueMNI T1       1       28  \n",
       "445 29   14.300 -22.781  1.325 4     macaqueMNI T1       1       29  \n",
       "605 29   15.323 -25.782  3.528 4     nmtv1.3    T1       1       29  \n",
       "606 30  -15.973 -25.764  2.951 4     nmtv1.3    T1       1       30  \n",
       "742  6    6.360 -15.693 -2.215 4     yerkes19   T1       1        6  \n",
       "743  7   -7.354 -15.643 -2.019 4     yerkes19   T1       1        7  \n",
       "763 27    8.339 -20.147  1.500 4     yerkes19   T1       1       27  \n",
       "764 28   -8.704 -19.976  1.759 4     yerkes19   T1       1       28  \n",
       "    description               mean_AFLE outlier xdist        ydist     \n",
       "102 R superior LMS            1.561850  TRUE     0.395336602 -0.1797033\n",
       "103 L superior LMS            1.899020  TRUE    -0.421939379 -0.1871972\n",
       "123 R indusium griseum origin 2.072110  TRUE     1.771081813 -0.2724472\n",
       "124 L indusium griseum origin 1.919982  TRUE    -1.659939650 -0.2182985\n",
       "128 L olfactory sulcal fundus 1.568520  TRUE     0.013447347  1.2635298\n",
       "283 R indusium griseum origin 2.324787  TRUE     1.919437045  0.5605575\n",
       "284 L indusium griseum origin 1.604060  TRUE    -1.351837491  0.4226739\n",
       "444 L indusium griseum origin 1.683754  TRUE    -1.175475464  0.7781613\n",
       "445 R ventral occipital horn  1.544868  TRUE     0.530608667 -1.1337491\n",
       "605 R ventral occipital horn  2.548133  TRUE    -0.002768165 -2.2788753\n",
       "606 L ventral occipital horn  2.305469  TRUE    -0.193418841 -2.0579176\n",
       "742 R superior LMS            2.421939  TRUE    -0.218487544 -1.0684384\n",
       "743 L superior LMS            2.645001  TRUE     0.162387655 -1.0327384\n",
       "763 R indusium griseum origin 2.138868  TRUE     1.870803782  0.5304526\n",
       "764 L indusium griseum origin 1.799539  TRUE    -1.575903170  0.5104937\n",
       "    zdist     \n",
       "102  1.5002641\n",
       "103  1.8420641\n",
       "123 -1.0405189\n",
       "124 -0.9398274\n",
       "128  0.9292826\n",
       "283 -1.1858211\n",
       "284 -0.7529209\n",
       "444 -0.9207335\n",
       "445  0.9053647\n",
       "605  1.1400439\n",
       "606  1.0211525\n",
       "742  2.1625194\n",
       "743  2.4296318\n",
       "763 -0.8907687\n",
       "764 -0.7030403"
      ]
     },
     "metadata": {},
     "output_type": "display_data"
    }
   ],
   "source": [
    "subset(df_raters, mean_AFLE > 1.5 & rater == 4)"
   ]
  },
  {
   "cell_type": "code",
   "execution_count": 16,
   "metadata": {},
   "outputs": [
    {
     "data": {
      "text/html": [
       "<table>\n",
       "<thead><tr><th></th><th scope=col>fid</th><th scope=col>X</th><th scope=col>Y</th><th scope=col>Z</th><th scope=col>rater</th><th scope=col>template</th><th scope=col>mri_type</th><th scope=col>session</th><th scope=col>name</th><th scope=col>description</th><th scope=col>mean_AFLE</th><th scope=col>outlier</th><th scope=col>xdist</th><th scope=col>ydist</th><th scope=col>zdist</th></tr></thead>\n",
       "<tbody>\n",
       "\t<tr><th scope=row>155</th><td>27                       </td><td> 5.348                   </td><td>-20.655                  </td><td>6.862                    </td><td>5                        </td><td>d99                      </td><td>T1                       </td><td>1                        </td><td>27                       </td><td>R indusium griseum origin</td><td>2.131576                 </td><td>TRUE                     </td><td>-1.8189182               </td><td> 0.04455281              </td><td>1.1104811                </td></tr>\n",
       "\t<tr><th scope=row>315</th><td>27                       </td><td> 5.348                   </td><td>-21.404                  </td><td>4.101                    </td><td>5                        </td><td>inia19                   </td><td>T1                       </td><td>1                        </td><td>27                       </td><td>R indusium griseum origin</td><td>2.599392                 </td><td>TRUE                     </td><td>-2.0695630               </td><td>-0.79144248              </td><td>1.3591789                </td></tr>\n",
       "\t<tr><th scope=row>316</th><td>28                       </td><td>-5.935                   </td><td>-21.370                  </td><td>4.044                    </td><td>5                        </td><td>inia19                   </td><td>T1                       </td><td>1                        </td><td>28                       </td><td>L indusium griseum origin</td><td>2.385252                 </td><td>TRUE                     </td><td> 1.9151625               </td><td>-0.69732606              </td><td>1.2390791                </td></tr>\n",
       "\t<tr><th scope=row>635</th><td>27                       </td><td> 4.961                   </td><td>-20.165                  </td><td>6.487                    </td><td>5                        </td><td>nmtv1.3                  </td><td>T1                       </td><td>1                        </td><td>27                       </td><td>R indusium griseum origin</td><td>2.848452                 </td><td>TRUE                     </td><td>-2.6514668               </td><td>-0.30196660              </td><td>0.9961016                </td></tr>\n",
       "\t<tr><th scope=row>636</th><td>28                       </td><td>-4.836                   </td><td>-20.175                  </td><td>6.425                    </td><td>5                        </td><td>nmtv1.3                  </td><td>T1                       </td><td>1                        </td><td>28                       </td><td>L indusium griseum origin</td><td>3.149624                 </td><td>TRUE                     </td><td> 2.9730904               </td><td>-0.25767185              </td><td>1.0072083                </td></tr>\n",
       "\t<tr><th scope=row>782</th><td>14                       </td><td>-0.230                   </td><td>-15.002                  </td><td>2.558                    </td><td>5                        </td><td>yerkes19                 </td><td>T1                       </td><td>1                        </td><td>14                       </td><td>pineal gland             </td><td>2.858437                 </td><td>TRUE                     </td><td> 0.1339099               </td><td> 2.75205918              </td><td>0.7608563                </td></tr>\n",
       "</tbody>\n",
       "</table>\n"
      ],
      "text/latex": [
       "\\begin{tabular}{r|lllllllllllllll}\n",
       "  & fid & X & Y & Z & rater & template & mri\\_type & session & name & description & mean\\_AFLE & outlier & xdist & ydist & zdist\\\\\n",
       "\\hline\n",
       "\t155 & 27                        &  5.348                    & -20.655                   & 6.862                     & 5                         & d99                       & T1                        & 1                         & 27                        & R indusium griseum origin & 2.131576                  & TRUE                      & -1.8189182                &  0.04455281               & 1.1104811                \\\\\n",
       "\t315 & 27                        &  5.348                    & -21.404                   & 4.101                     & 5                         & inia19                    & T1                        & 1                         & 27                        & R indusium griseum origin & 2.599392                  & TRUE                      & -2.0695630                & -0.79144248               & 1.3591789                \\\\\n",
       "\t316 & 28                        & -5.935                    & -21.370                   & 4.044                     & 5                         & inia19                    & T1                        & 1                         & 28                        & L indusium griseum origin & 2.385252                  & TRUE                      &  1.9151625                & -0.69732606               & 1.2390791                \\\\\n",
       "\t635 & 27                        &  4.961                    & -20.165                   & 6.487                     & 5                         & nmtv1.3                   & T1                        & 1                         & 27                        & R indusium griseum origin & 2.848452                  & TRUE                      & -2.6514668                & -0.30196660               & 0.9961016                \\\\\n",
       "\t636 & 28                        & -4.836                    & -20.175                   & 6.425                     & 5                         & nmtv1.3                   & T1                        & 1                         & 28                        & L indusium griseum origin & 3.149624                  & TRUE                      &  2.9730904                & -0.25767185               & 1.0072083                \\\\\n",
       "\t782 & 14                        & -0.230                    & -15.002                   & 2.558                     & 5                         & yerkes19                  & T1                        & 1                         & 14                        & pineal gland              & 2.858437                  & TRUE                      &  0.1339099                &  2.75205918               & 0.7608563                \\\\\n",
       "\\end{tabular}\n"
      ],
      "text/markdown": [
       "\n",
       "| <!--/--> | fid | X | Y | Z | rater | template | mri_type | session | name | description | mean_AFLE | outlier | xdist | ydist | zdist |\n",
       "|---|---|---|---|---|---|---|---|---|---|---|---|---|---|---|---|\n",
       "| 155 | 27                        |  5.348                    | -20.655                   | 6.862                     | 5                         | d99                       | T1                        | 1                         | 27                        | R indusium griseum origin | 2.131576                  | TRUE                      | -1.8189182                |  0.04455281               | 1.1104811                 |\n",
       "| 315 | 27                        |  5.348                    | -21.404                   | 4.101                     | 5                         | inia19                    | T1                        | 1                         | 27                        | R indusium griseum origin | 2.599392                  | TRUE                      | -2.0695630                | -0.79144248               | 1.3591789                 |\n",
       "| 316 | 28                        | -5.935                    | -21.370                   | 4.044                     | 5                         | inia19                    | T1                        | 1                         | 28                        | L indusium griseum origin | 2.385252                  | TRUE                      |  1.9151625                | -0.69732606               | 1.2390791                 |\n",
       "| 635 | 27                        |  4.961                    | -20.165                   | 6.487                     | 5                         | nmtv1.3                   | T1                        | 1                         | 27                        | R indusium griseum origin | 2.848452                  | TRUE                      | -2.6514668                | -0.30196660               | 0.9961016                 |\n",
       "| 636 | 28                        | -4.836                    | -20.175                   | 6.425                     | 5                         | nmtv1.3                   | T1                        | 1                         | 28                        | L indusium griseum origin | 3.149624                  | TRUE                      |  2.9730904                | -0.25767185               | 1.0072083                 |\n",
       "| 782 | 14                        | -0.230                    | -15.002                   | 2.558                     | 5                         | yerkes19                  | T1                        | 1                         | 14                        | pineal gland              | 2.858437                  | TRUE                      |  0.1339099                |  2.75205918               | 0.7608563                 |\n",
       "\n"
      ],
      "text/plain": [
       "    fid X      Y       Z     rater template mri_type session name\n",
       "155 27   5.348 -20.655 6.862 5     d99      T1       1       27  \n",
       "315 27   5.348 -21.404 4.101 5     inia19   T1       1       27  \n",
       "316 28  -5.935 -21.370 4.044 5     inia19   T1       1       28  \n",
       "635 27   4.961 -20.165 6.487 5     nmtv1.3  T1       1       27  \n",
       "636 28  -4.836 -20.175 6.425 5     nmtv1.3  T1       1       28  \n",
       "782 14  -0.230 -15.002 2.558 5     yerkes19 T1       1       14  \n",
       "    description               mean_AFLE outlier xdist      ydist      \n",
       "155 R indusium griseum origin 2.131576  TRUE    -1.8189182  0.04455281\n",
       "315 R indusium griseum origin 2.599392  TRUE    -2.0695630 -0.79144248\n",
       "316 L indusium griseum origin 2.385252  TRUE     1.9151625 -0.69732606\n",
       "635 R indusium griseum origin 2.848452  TRUE    -2.6514668 -0.30196660\n",
       "636 L indusium griseum origin 3.149624  TRUE     2.9730904 -0.25767185\n",
       "782 pineal gland              2.858437  TRUE     0.1339099  2.75205918\n",
       "    zdist    \n",
       "155 1.1104811\n",
       "315 1.3591789\n",
       "316 1.2390791\n",
       "635 0.9961016\n",
       "636 1.0072083\n",
       "782 0.7608563"
      ]
     },
     "metadata": {},
     "output_type": "display_data"
    }
   ],
   "source": [
    "subset(df_raters, mean_AFLE > 1.5 & rater == 5)"
   ]
  },
  {
   "cell_type": "markdown",
   "metadata": {},
   "source": [
    "# Post-QC analysis TODO"
   ]
  }
 ],
 "metadata": {
  "colab": {
   "name": "PHASE1_template_validation.ipynb",
   "provenance": []
  },
  "kernelspec": {
   "display_name": "R",
   "language": "R",
   "name": "ir"
  },
  "language_info": {
   "codemirror_mode": "r",
   "file_extension": ".r",
   "mimetype": "text/x-r-source",
   "name": "R",
   "pygments_lexer": "r",
   "version": "3.6.1"
  }
 },
 "nbformat": 4,
 "nbformat_minor": 1
}
