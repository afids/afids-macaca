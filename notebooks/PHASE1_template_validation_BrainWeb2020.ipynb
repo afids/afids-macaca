{
 "cells": [
  {
   "cell_type": "markdown",
   "metadata": {
    "colab_type": "text",
    "id": "I_iwzgReK95V"
   },
   "source": [
    "# Phase 1: Protocol Validation for Brain Templates¶\n",
    "\n",
    "This notebook contains results validating the AFID protocol on five openly available macaque templates (D99, INIA19, MNI, NMTv1.3, and Yerkes19). The protocol and specific instructions for placing the templates were finalized on a consensus basis among raters and participants of the afids-macaca project on BrainWeb (thus Phase 1).\n",
    "\n",
    "At this point, we'd like to be more sensitive to discrepancies in rater placements so an outlier is defined as a value of > 1.5 mm (3 voxels) from the mean.\n",
    "\n",
    "The first step is to initialize the variables, define useful functions, and load all the raw fcsv data into df_raters.\n"
   ]
  },
  {
   "cell_type": "code",
   "execution_count": 1,
   "metadata": {
    "colab": {},
    "colab_type": "code",
    "id": "3kYMkDZcK7lN"
   },
   "outputs": [
    {
     "name": "stderr",
     "output_type": "stream",
     "text": [
      "Registered S3 methods overwritten by 'ggplot2':\n",
      "  method         from \n",
      "  [.quosures     rlang\n",
      "  c.quosures     rlang\n",
      "  print.quosures rlang\n"
     ]
    }
   ],
   "source": [
    "# initialize libraries\n",
    "library(plyr)\n",
    "library(digest)\n",
    "library(reshape2)\n",
    "library(ggplot2)\n",
    "#library(\"plot3D\")"
   ]
  },
  {
   "cell_type": "code",
   "execution_count": 2,
   "metadata": {
    "colab": {},
    "colab_type": "code",
    "id": "xSZ17vISMDIj"
   },
   "outputs": [],
   "source": [
    "# useful functions\n",
    "\n",
    "# calculate the distance between two sets of coordinates\n",
    "dist3D <- function(coord1, coord2) { # vector X,Y,Z\n",
    "        xdist <- coord1[1] - coord2[1] # could also write as coord1$X, etc.\n",
    "        ydist <- coord1[2] - coord2[2]\n",
    "        zdist <- coord1[3] - coord2[3]\n",
    "        return(as.numeric(sqrt(xdist^2+ydist^2+zdist^2)))\n",
    "}\n",
    "\n",
    "# calculate the pairwise distance between an array of 3D coordinates\n",
    "pairwise_dist3D <- function(temp_coords) { # labeled X,Y,Z\n",
    "        N <- length(temp_coords$X)\n",
    "        dist_vec <- rep(0,N) # create vector\n",
    "        sum_dist <- 0 # initialize to zero\n",
    "        count <- 0\n",
    "        for (i in 1:(N-1)) {\n",
    "                for (j in (i+1):N) {\n",
    "                        if (i != j) {\n",
    "                                count <- count + 1\n",
    "                                first_coord <- temp_coords[i,]\n",
    "                                second_coord <- temp_coords[j,]\n",
    "                                curr_dist <- dist3D(first_coord, second_coord)\n",
    "                                sum_dist <- sum_dist + curr_dist\n",
    "                                dist_vec[count] <- curr_dist\n",
    "                        }\n",
    "                }\n",
    "        }\n",
    "        return(c(as.numeric(mean(dist_vec)),as.numeric(sd(dist_vec))))\n",
    "}"
   ]
  },
  {
   "cell_type": "code",
   "execution_count": 3,
   "metadata": {
    "colab": {
     "base_uri": "https://localhost:8080/",
     "height": 198
    },
    "colab_type": "code",
    "id": "ti5T7Qq8MLM8",
    "outputId": "4565bcf8-02e3-4f9f-bc6e-e5af3c7b6109"
   },
   "outputs": [],
   "source": [
    "# initialize variables and load in raw fcsv data into df_raters\n",
    "setwd('~/Documents/GitHub/afids-macaca/data/PHASE1_input_afid/')\n",
    "\n",
    "df_afids <- read.table('~/Documents/GitHub/afids-macaca/etc/afids.csv', sep=\",\", header=TRUE)\n",
    "\n",
    "df_raters <- data.frame(fid=integer(),X=double(),Y=double(),Z=double(),rater=factor(),\n",
    "                        template=factor(),mri_type=factor(),session=integer(),\n",
    "                        name=character(),description=character(),stringsAsFactors = FALSE)\n",
    "csv_files <- list.files('.', \"*.fcsv\")\n",
    "\n",
    "for (i in 1:length(csv_files)) {\n",
    "    curr_split <- unlist(strsplit(csv_files[i],\"_\"))\n",
    "    if (length(curr_split)>1) { # extract name and session data\n",
    "        rater_template <- curr_split[2]\n",
    "        rater_mri_type <- curr_split[3]\n",
    "        rater_name <- curr_split[4]\n",
    "        rater_session <- as.numeric(unlist(strsplit(curr_split[5],\"[.]\"))[1])\n",
    "    }\n",
    "    curr_rater <- read.table(csv_files[i], header=FALSE, sep=\",\")\n",
    "    df_rater <- data.frame(fid = 1:length(curr_rater$V1))\n",
    "\n",
    "    df_rater <- cbind(df_rater,X=curr_rater[2],Y=curr_rater[3],Z=curr_rater[4],rater=rater_name,\n",
    "                    template=rater_template,mri_type=rater_mri_type,\n",
    "                    session=rater_session,name=curr_rater[12],\n",
    "                    description=curr_rater[13])\n",
    "  \n",
    "    df_rater <- rename(df_rater, c(\"V2\"=\"X\",\"V3\"=\"Y\",\"V4\"=\"Z\",\"V12\"=\"name\",\"V13\"=\"description\"))\n",
    "    df_raters <- rbind(df_raters,df_rater)\n",
    "}\n",
    "\n",
    "levels(df_raters$rater) <- 1:8"
   ]
  },
  {
   "cell_type": "markdown",
   "metadata": {},
   "source": [
    "# Template Averages\n",
    "\n",
    "For each template, we calculate the mean value for each afid point and store it in a separate .fcsv file so that it can be loaded back into 3D Slicer.\n",
    "\n",
    "Deviation of the values by > 1.5 mm will be classified as an outlier."
   ]
  },
  {
   "cell_type": "code",
   "execution_count": 4,
   "metadata": {},
   "outputs": [],
   "source": [
    "# start by calculating mean coordinates\n",
    "df_template_mean <- data.frame(fid=integer(),X=double(),Y=double(),Z=double(),\n",
    "                        template=factor(), name=factor(),description=character(),stringsAsFactors = FALSE)\n",
    "df_template_sd <- data.frame(fid=integer(),X=double(),Y=double(),Z=double(),\n",
    "                        template=factor(), name=factor(),description=character(),stringsAsFactors = FALSE)\n",
    "\n",
    "# iterate over each template and compute the mean and standard deviation\n",
    "for (curr_template in levels(df_raters$template)) {\n",
    "    for (i in 1:32) { # for each AFID32 point, calculate the mean\n",
    "        df_subset <- subset(df_raters, fid == i & template == curr_template)\n",
    "        curr_fid_name <- df_afids$name[i]\n",
    "        curr_fid_desc <- df_afids$description[i]\n",
    "        df_curr_fid <- data.frame(fid = i, X = mean(df_subset$X), Y = mean(df_subset$Y), Z = mean(df_subset$Z),\n",
    "                        template=curr_template, name=curr_fid_name, description=curr_fid_desc)\n",
    "        df_template_mean <- rbind(df_template_mean, df_curr_fid)\n",
    "        df_curr_fid_sd <- data.frame(fid = i, X = sd(df_subset$X), Y = sd(df_subset$Y), Z = sd(df_subset$Z),\n",
    "                        template=curr_template, name=curr_fid_name, description=curr_fid_desc)\n",
    "        df_template_sd <- rbind(df_template_sd, df_curr_fid_sd)\n",
    "    }\n",
    "}"
   ]
  },
  {
   "cell_type": "code",
   "execution_count": 5,
   "metadata": {},
   "outputs": [],
   "source": [
    "# Create output fcsv file for each included template\n",
    "\n",
    "##########################################################################################\n",
    "# d99\n",
    "##########################################################################################\n",
    "df_d99_mean <- subset(df_template_mean, template == 'd99')\n",
    "df_d99_fcsv <- data.frame(id=paste('vtkMRMLMarkupsFiducialNode',df_d99_mean$fid,sep=\"_\"),x=df_d99_mean$X,y=df_d99_mean$Y,z=df_d99_mean$Z,\n",
    "                                ow=0,ox=0,oy=0,oz=1,\n",
    "                                vis=1,sel=1,lock=0,label=df_d99_mean$fid,desc=df_d99_mean$description,\n",
    "                                associatedNodeID='vtkMRMLScalarVolumeNode1',stringsAsFactors = FALSE)\n",
    "\n",
    "# write out table (need to use file connection approach because of multiple header lines required by Slicer)\n",
    "fio <- file('~/Documents/GitHub/afids-macaca/data/PHASE1_output_afid/d99_MEAN.fcsv', open=\"wt\")\n",
    "writeLines(paste('# Markups fiducial file version = 4.6'),fio)\n",
    "writeLines(paste('# CoordinateSystem = 0'),fio)\n",
    "writeLines(paste('# columns = id,x,y,z,ow,ox,oy,oz,vis,sel,lock,label,desc,associatedNodeID'),fio)\n",
    "write.table(df_d99_fcsv,fio,sep=',',quote=FALSE,col.names=FALSE,row.names=FALSE)\n",
    "close(fio)\n",
    "\n",
    "##########################################################################################\n",
    "# INIA19\n",
    "##########################################################################################\n",
    "df_inia19_mean <- subset(df_template_mean, template == 'inia19')\n",
    "df_inia19_fcsv <- data.frame(id=paste('vtkMRMLMarkupsFiducialNode',df_inia19_mean$fid,sep=\"_\"),x=df_inia19_mean$X,y=df_inia19_mean$Y,z=df_inia19_mean$Z,\n",
    "                                ow=0,ox=0,oy=0,oz=1,\n",
    "                                vis=1,sel=1,lock=0,label=df_inia19_mean$fid,desc=df_inia19_mean$description,\n",
    "                                associatedNodeID='vtkMRMLScalarVolumeNode1',stringsAsFactors = FALSE)\n",
    "\n",
    "# write out table (need to use file connection approach because of multiple header lines required by Slicer)\n",
    "fio <- file('~/Documents/GitHub/afids-macaca/data/PHASE1_output_afid/inia19_MEAN.fcsv', open=\"wt\")\n",
    "writeLines(paste('# Markups fiducial file version = 4.6'),fio)\n",
    "writeLines(paste('# CoordinateSystem = 0'),fio)\n",
    "writeLines(paste('# columns = id,x,y,z,ow,ox,oy,oz,vis,sel,lock,label,desc,associatedNodeID'),fio)\n",
    "write.table(df_inia19_fcsv,fio,sep=',',quote=FALSE,col.names=FALSE,row.names=FALSE)\n",
    "close(fio)\n",
    "\n",
    "##########################################################################################\n",
    "# macaqueMNI\n",
    "##########################################################################################\n",
    "df_macaqueMNI_mean <- subset(df_template_mean, template == 'macaqueMNI')\n",
    "df_macaqueMNI_fcsv <- data.frame(id=paste('vtkMRMLMarkupsFiducialNode',df_macaqueMNI_mean$fid,sep=\"_\"),x=df_macaqueMNI_mean$X,y=df_macaqueMNI_mean$Y,z=df_macaqueMNI_mean$Z,\n",
    "                                ow=0,ox=0,oy=0,oz=1,\n",
    "                                vis=1,sel=1,lock=0,label=df_macaqueMNI_mean$fid,desc=df_macaqueMNI_mean$description,\n",
    "                                associatedNodeID='vtkMRMLScalarVolumeNode1',stringsAsFactors = FALSE)\n",
    "\n",
    "# write out table (need to use file connection approach because of multiple header lines required by Slicer)\n",
    "fio <- file('~/Documents/GitHub/afids-macaca/data/PHASE1_output_afid/macaqueMNI_MEAN.fcsv', open=\"wt\")\n",
    "writeLines(paste('# Markups fiducial file version = 4.6'),fio)\n",
    "writeLines(paste('# CoordinateSystem = 0'),fio)\n",
    "writeLines(paste('# columns = id,x,y,z,ow,ox,oy,oz,vis,sel,lock,label,desc,associatedNodeID'),fio)\n",
    "write.table(df_macaqueMNI_fcsv,fio,sep=',',quote=FALSE,col.names=FALSE,row.names=FALSE)\n",
    "close(fio)\n",
    "\n",
    "##########################################################################################\n",
    "# nmtv1.3\n",
    "##########################################################################################\n",
    "df_nmtv1.3_mean <- subset(df_template_mean, template == 'nmtv1.3')\n",
    "df_nmtv1.3_fcsv <- data.frame(id=paste('vtkMRMLMarkupsFiducialNode',df_nmtv1.3_mean$fid,sep=\"_\"),x=df_nmtv1.3_mean$X,y=df_nmtv1.3_mean$Y,z=df_nmtv1.3_mean$Z,\n",
    "                                ow=0,ox=0,oy=0,oz=1,\n",
    "                                vis=1,sel=1,lock=0,label=df_nmtv1.3_mean$fid,desc=df_nmtv1.3_mean$description,\n",
    "                                associatedNodeID='vtkMRMLScalarVolumeNode1',stringsAsFactors = FALSE)\n",
    "\n",
    "# write out table (need to use file connection approach because of multiple header lines required by Slicer)\n",
    "fio <- file('~/Documents/GitHub/afids-macaca/data/PHASE1_output_afid/nmtv1.3_MEAN.fcsv', open=\"wt\")\n",
    "writeLines(paste('# Markups fiducial file version = 4.6'),fio)\n",
    "writeLines(paste('# CoordinateSystem = 0'),fio)\n",
    "writeLines(paste('# columns = id,x,y,z,ow,ox,oy,oz,vis,sel,lock,label,desc,associatedNodeID'),fio)\n",
    "write.table(df_nmtv1.3_fcsv,fio,sep=',',quote=FALSE,col.names=FALSE,row.names=FALSE)\n",
    "close(fio)\n",
    "\n",
    "##########################################################################################\n",
    "# yerkes19\n",
    "##########################################################################################\n",
    "df_yerkes19_mean <- subset(df_template_mean, template == 'yerkes19')\n",
    "df_yerkes19_fcsv <- data.frame(id=paste('vtkMRMLMarkupsFiducialNode',df_yerkes19_mean$fid,sep=\"_\"),x=df_yerkes19_mean$X,y=df_yerkes19_mean$Y,z=df_yerkes19_mean$Z,\n",
    "                                ow=0,ox=0,oy=0,oz=1,\n",
    "                                vis=1,sel=1,lock=0,label=df_yerkes19_mean$fid,desc=df_yerkes19_mean$description,\n",
    "                                associatedNodeID='vtkMRMLScalarVolumeNode1',stringsAsFactors = FALSE)\n",
    "\n",
    "# write out table (need to use file connection approach because of multiple header lines required by Slicer)\n",
    "fio <- file('~/Documents/GitHub/afids-macaca/data/PHASE1_output_afid/yerkes19_MEAN.fcsv', open=\"wt\")\n",
    "writeLines(paste('# Markups fiducial file version = 4.6'),fio)\n",
    "writeLines(paste('# CoordinateSystem = 0'),fio)\n",
    "writeLines(paste('# columns = id,x,y,z,ow,ox,oy,oz,vis,sel,lock,label,desc,associatedNodeID'),fio)\n",
    "write.table(df_yerkes19_fcsv,fio,sep=',',quote=FALSE,col.names=FALSE,row.names=FALSE)\n",
    "close(fio)"
   ]
  },
  {
   "cell_type": "markdown",
   "metadata": {},
   "source": [
    "# Phase 0: Raw Data Analysis\n",
    "\n",
    "Also classify extreme outliers, defined as >= 1.5 mm from the group mean"
   ]
  },
  {
   "cell_type": "code",
   "execution_count": 6,
   "metadata": {},
   "outputs": [],
   "source": [
    "df_raters$mean_AFLE <- NA # mean AFID localization error\n",
    "df_raters$outlier <- NA\n",
    "df_raters$xdist <- NA\n",
    "df_raters$ydist <- NA\n",
    "df_raters$zdist <- NA\n",
    "\n",
    "for (i in 1:dim(df_raters)[1]) {\n",
    "    curr_rater <- df_raters[i,]\n",
    "        \n",
    "    mean_raters <- df_d99_mean[curr_rater$fid,] # just so it's set to something for now\n",
    "    \n",
    "    #determine current template in order to assign the appropriate mean rater\n",
    "    if (curr_rater$template == 'd99') {\n",
    "        mean_raters <- df_d99_mean[curr_rater$fid,]\n",
    "    } else if (curr_rater$template == 'inia19') {\n",
    "        mean_raters <- df_inia19_mean[curr_rater$fid,]\n",
    "    } else if (curr_rater$template == 'macaqueMNI') {\n",
    "        mean_raters <- df_macaqueMNI_mean[curr_rater$fid,]\n",
    "    } else if (curr_rater$template == 'nmtv1.3') {\n",
    "        mean_raters <- df_nmtv1.3_mean[curr_rater$fid,]\n",
    "    } else if (curr_rater$template == 'yerkes19') {\n",
    "        mean_raters <- df_yerkes19_mean[curr_rater$fid,]        \n",
    "    } else {\n",
    "        # unidentified template, ...\n",
    "    }\n",
    "    df_raters[i,]$xdist <- curr_rater$X - mean_raters$X\n",
    "    df_raters[i,]$ydist <- curr_rater$Y - mean_raters$Y\n",
    "    df_raters[i,]$zdist <- curr_rater$Z - mean_raters$Z\n",
    "    curr_coords <- curr_rater[,2:4]\n",
    "    mean_coords <- mean_raters[,2:4]\n",
    "    df_raters[i,]$mean_AFLE <- dist3D(curr_coords, mean_coords)\n",
    "    df_raters[i,]$outlier <- (df_raters[i,]$mean_AFLE > 1.5) # outliers > 1.5mm\n",
    "}"
   ]
  },
  {
   "cell_type": "code",
   "execution_count": 7,
   "metadata": {},
   "outputs": [
    {
     "data": {
      "text/html": [
       "'Total: 0.41 +/- 0.31 mm; Outliers: 16/1440 (1.11%)'"
      ],
      "text/latex": [
       "'Total: 0.41 +/- 0.31 mm; Outliers: 16/1440 (1.11\\%)'"
      ],
      "text/markdown": [
       "'Total: 0.41 +/- 0.31 mm; Outliers: 16/1440 (1.11%)'"
      ],
      "text/plain": [
       "[1] \"Total: 0.41 +/- 0.31 mm; Outliers: 16/1440 (1.11%)\""
      ]
     },
     "metadata": {},
     "output_type": "display_data"
    },
    {
     "data": {
      "text/html": [
       "'d99: 0.44 +/- 0.34 mm; Outliers: 4/288 (1.39%)'"
      ],
      "text/latex": [
       "'d99: 0.44 +/- 0.34 mm; Outliers: 4/288 (1.39\\%)'"
      ],
      "text/markdown": [
       "'d99: 0.44 +/- 0.34 mm; Outliers: 4/288 (1.39%)'"
      ],
      "text/plain": [
       "[1] \"d99: 0.44 +/- 0.34 mm; Outliers: 4/288 (1.39%)\""
      ]
     },
     "metadata": {},
     "output_type": "display_data"
    },
    {
     "data": {
      "text/html": [
       "'inia19: 0.45 +/- 0.39 mm; Outliers: 5/288 (1.74%)'"
      ],
      "text/latex": [
       "'inia19: 0.45 +/- 0.39 mm; Outliers: 5/288 (1.74\\%)'"
      ],
      "text/markdown": [
       "'inia19: 0.45 +/- 0.39 mm; Outliers: 5/288 (1.74%)'"
      ],
      "text/plain": [
       "[1] \"inia19: 0.45 +/- 0.39 mm; Outliers: 5/288 (1.74%)\""
      ]
     },
     "metadata": {},
     "output_type": "display_data"
    },
    {
     "data": {
      "text/html": [
       "'macaqueMNI: 0.37 +/- 0.25 mm; Outliers: 0/288 (0.00%)'"
      ],
      "text/latex": [
       "'macaqueMNI: 0.37 +/- 0.25 mm; Outliers: 0/288 (0.00\\%)'"
      ],
      "text/markdown": [
       "'macaqueMNI: 0.37 +/- 0.25 mm; Outliers: 0/288 (0.00%)'"
      ],
      "text/plain": [
       "[1] \"macaqueMNI: 0.37 +/- 0.25 mm; Outliers: 0/288 (0.00%)\""
      ]
     },
     "metadata": {},
     "output_type": "display_data"
    },
    {
     "data": {
      "text/html": [
       "'nmtv1.3: 0.35 +/- 0.23 mm; Outliers: 2/288 (0.69%)'"
      ],
      "text/latex": [
       "'nmtv1.3: 0.35 +/- 0.23 mm; Outliers: 2/288 (0.69\\%)'"
      ],
      "text/markdown": [
       "'nmtv1.3: 0.35 +/- 0.23 mm; Outliers: 2/288 (0.69%)'"
      ],
      "text/plain": [
       "[1] \"nmtv1.3: 0.35 +/- 0.23 mm; Outliers: 2/288 (0.69%)\""
      ]
     },
     "metadata": {},
     "output_type": "display_data"
    },
    {
     "data": {
      "text/html": [
       "'yerkes19: 0.44 +/- 0.32 mm; Outliers: 5/288 (1.74%)'"
      ],
      "text/latex": [
       "'yerkes19: 0.44 +/- 0.32 mm; Outliers: 5/288 (1.74\\%)'"
      ],
      "text/markdown": [
       "'yerkes19: 0.44 +/- 0.32 mm; Outliers: 5/288 (1.74%)'"
      ],
      "text/plain": [
       "[1] \"yerkes19: 0.44 +/- 0.32 mm; Outliers: 5/288 (1.74%)\""
      ]
     },
     "metadata": {},
     "output_type": "display_data"
    }
   ],
   "source": [
    "# summary of findings\n",
    "\n",
    "# Total\n",
    "all_templates <- subset(df_raters, session > 0) # ignore session 0 which was from the group tutorial\n",
    "num_outliers <- sum(subset(all_templates, outlier == TRUE)$outlier)\n",
    "num_total <- length(all_templates$outlier)\n",
    "sprintf( \"Total: %.2f +/- %.2f mm; Outliers: %d/%d (%.2f%%)\",\n",
    "        mean(all_templates$mean_AFLE), sd(all_templates$mean_AFLE),\n",
    "        num_outliers, num_total, (num_outliers/num_total)*100 )\n",
    "\n",
    "# d99\n",
    "curr_template <- subset(df_raters, session > 0 & template == 'd99')\n",
    "num_outliers <- sum(subset(curr_template, outlier == TRUE)$outlier)\n",
    "num_total <- length(curr_template$outlier)\n",
    "sprintf( \"d99: %.2f +/- %.2f mm; Outliers: %d/%d (%.2f%%)\",\n",
    "         mean(curr_template$mean_AFLE), sd(curr_template$mean_AFLE),\n",
    "         num_outliers, num_total, (num_outliers/num_total)*100 )\n",
    "\n",
    "# inia19\n",
    "curr_template <- subset(df_raters, session > 0 & template == 'inia19')\n",
    "num_outliers <- sum(subset(curr_template, outlier == TRUE)$outlier)\n",
    "num_total <- length(curr_template$outlier)\n",
    "sprintf( \"inia19: %.2f +/- %.2f mm; Outliers: %d/%d (%.2f%%)\",\n",
    "         mean(curr_template$mean_AFLE), sd(curr_template$mean_AFLE),\n",
    "         num_outliers, num_total, (num_outliers/num_total)*100 )\n",
    "\n",
    "# macaqueMNI\n",
    "curr_template <- subset(df_raters, session > 0 & template == 'macaqueMNI')\n",
    "num_outliers <- sum(subset(curr_template, outlier == TRUE)$outlier)\n",
    "num_total <- length(curr_template$outlier)\n",
    "sprintf( \"macaqueMNI: %.2f +/- %.2f mm; Outliers: %d/%d (%.2f%%)\",\n",
    "         mean(curr_template$mean_AFLE), sd(curr_template$mean_AFLE),\n",
    "         num_outliers, num_total, (num_outliers/num_total)*100 )\n",
    "\n",
    "# nmtv1.3\n",
    "curr_template <- subset(df_raters, session > 0 & template == 'nmtv1.3')\n",
    "num_outliers <- sum(subset(curr_template, outlier == TRUE)$outlier)\n",
    "num_total <- length(curr_template$outlier)\n",
    "sprintf( \"nmtv1.3: %.2f +/- %.2f mm; Outliers: %d/%d (%.2f%%)\",\n",
    "         mean(curr_template$mean_AFLE), sd(curr_template$mean_AFLE),\n",
    "         num_outliers, num_total, (num_outliers/num_total)*100 )\n",
    "\n",
    "# yerkes19\n",
    "curr_template <- subset(df_raters, session > 0 & template == 'yerkes19')\n",
    "num_outliers <- sum(subset(curr_template, outlier == TRUE)$outlier)\n",
    "num_total <- length(curr_template$outlier)\n",
    "sprintf( \"yerkes19: %.2f +/- %.2f mm; Outliers: %d/%d (%.2f%%)\",\n",
    "         mean(curr_template$mean_AFLE), sd(curr_template$mean_AFLE),\n",
    "         num_outliers, num_total, (num_outliers/num_total)*100 )\n"
   ]
  },
  {
   "cell_type": "code",
   "execution_count": 8,
   "metadata": {},
   "outputs": [
    {
     "data": {
      "text/html": [
       "<table>\n",
       "<thead><tr><th scope=col>name</th><th scope=col>description</th><th scope=col>side</th><th scope=col>mean_total</th><th scope=col>sd_total</th><th scope=col>sum_outliers_total</th><th scope=col>mean_d99</th><th scope=col>sd_d99</th><th scope=col>sum_outliers_d99</th><th scope=col>mean_inia19</th><th scope=col>...</th><th scope=col>sum_outliers_inia19</th><th scope=col>mean_macaqueMNI</th><th scope=col>sd_macaqueMNI</th><th scope=col>sum_outliers_macaqueMNI</th><th scope=col>mean_nmtv1.3</th><th scope=col>sd_nmtv1.3</th><th scope=col>sum_outliers_nmtv1.3</th><th scope=col>mean_yerkes19</th><th scope=col>sd_yerkes19</th><th scope=col>sum_outliers_yerkes19</th></tr></thead>\n",
       "<tbody>\n",
       "\t<tr><td> 1                            </td><td>AC                            </td><td>midline                       </td><td>0.15                          </td><td>0.09                          </td><td>0                             </td><td>0.15                          </td><td>0.09                          </td><td>0                             </td><td>0.15                          </td><td>...                           </td><td>0                             </td><td>0.13                          </td><td>0.04                          </td><td>0                             </td><td>0.12                          </td><td>0.09                          </td><td>0                             </td><td>0.19                          </td><td>0.11                          </td><td>0                             </td></tr>\n",
       "\t<tr><td> 2                            </td><td>PC                            </td><td>midline                       </td><td>0.16                          </td><td>0.09                          </td><td>0                             </td><td>0.22                          </td><td>0.11                          </td><td>0                             </td><td>0.14                          </td><td>...                           </td><td>0                             </td><td>0.12                          </td><td>0.04                          </td><td>0                             </td><td>0.19                          </td><td>0.09                          </td><td>0                             </td><td>0.15                          </td><td>0.07                          </td><td>0                             </td></tr>\n",
       "\t<tr><td> 3                            </td><td>infracollicular sulcus        </td><td>midline                       </td><td>0.33                          </td><td>0.19                          </td><td>0                             </td><td>0.37                          </td><td>0.22                          </td><td>0                             </td><td>0.42                          </td><td>...                           </td><td>0                             </td><td>0.24                          </td><td>0.09                          </td><td>0                             </td><td>0.22                          </td><td>0.14                          </td><td>0                             </td><td>0.42                          </td><td>0.18                          </td><td>0                             </td></tr>\n",
       "\t<tr><td> 4                            </td><td>PMJ                           </td><td>midline                       </td><td>0.24                          </td><td>0.11                          </td><td>0                             </td><td>0.22                          </td><td>0.13                          </td><td>0                             </td><td>0.28                          </td><td>...                           </td><td>0                             </td><td>0.22                          </td><td>0.11                          </td><td>0                             </td><td>0.24                          </td><td>0.13                          </td><td>0                             </td><td>0.25                          </td><td>0.08                          </td><td>0                             </td></tr>\n",
       "\t<tr><td> 5                            </td><td>superior interpeduncular fossa</td><td>midline                       </td><td>0.24                          </td><td>0.14                          </td><td>0                             </td><td>0.19                          </td><td>0.11                          </td><td>0                             </td><td>0.24                          </td><td>...                           </td><td>0                             </td><td>0.27                          </td><td>0.14                          </td><td>0                             </td><td>0.14                          </td><td>0.06                          </td><td>0                             </td><td>0.33                          </td><td>0.15                          </td><td>0                             </td></tr>\n",
       "\t<tr><td> 6                            </td><td>R superior LMS                </td><td>right                         </td><td>0.37                          </td><td>0.24                          </td><td>0                             </td><td>0.33                          </td><td>0.25                          </td><td>0                             </td><td>0.52                          </td><td>...                           </td><td>0                             </td><td>0.45                          </td><td>0.23                          </td><td>0                             </td><td>0.27                          </td><td>0.14                          </td><td>0                             </td><td>0.28                          </td><td>0.16                          </td><td>0                             </td></tr>\n",
       "\t<tr><td> 7                            </td><td>L superior LMS                </td><td>left                          </td><td>0.40                          </td><td>0.24                          </td><td>0                             </td><td>0.33                          </td><td>0.22                          </td><td>0                             </td><td>0.58                          </td><td>...                           </td><td>0                             </td><td>0.50                          </td><td>0.21                          </td><td>0                             </td><td>0.31                          </td><td>0.12                          </td><td>0                             </td><td>0.29                          </td><td>0.16                          </td><td>0                             </td></tr>\n",
       "\t<tr><td> 8                            </td><td>R inferior LMS                </td><td>right                         </td><td>0.44                          </td><td>0.22                          </td><td>0                             </td><td>0.36                          </td><td>0.18                          </td><td>0                             </td><td>0.47                          </td><td>...                           </td><td>0                             </td><td>0.37                          </td><td>0.18                          </td><td>0                             </td><td>0.58                          </td><td>0.28                          </td><td>0                             </td><td>0.41                          </td><td>0.19                          </td><td>0                             </td></tr>\n",
       "\t<tr><td> 9                            </td><td>L inferior LMS                </td><td>left                          </td><td>0.43                          </td><td>0.21                          </td><td>0                             </td><td>0.40                          </td><td>0.18                          </td><td>0                             </td><td>0.48                          </td><td>...                           </td><td>0                             </td><td>0.41                          </td><td>0.20                          </td><td>0                             </td><td>0.53                          </td><td>0.23                          </td><td>0                             </td><td>0.34                          </td><td>0.21                          </td><td>0                             </td></tr>\n",
       "\t<tr><td>10                            </td><td>culmen                        </td><td>midline                       </td><td>0.43                          </td><td>0.35                          </td><td>2                             </td><td>0.81                          </td><td>0.55                          </td><td>2                             </td><td>0.48                          </td><td>...                           </td><td>0                             </td><td>0.29                          </td><td>0.14                          </td><td>0                             </td><td>0.22                          </td><td>0.15                          </td><td>0                             </td><td>0.34                          </td><td>0.16                          </td><td>0                             </td></tr>\n",
       "\t<tr><td>11                            </td><td>intermammillary sulcus        </td><td>midline                       </td><td>0.43                          </td><td>0.19                          </td><td>0                             </td><td>0.55                          </td><td>0.17                          </td><td>0                             </td><td>0.46                          </td><td>...                           </td><td>0                             </td><td>0.35                          </td><td>0.08                          </td><td>0                             </td><td>0.39                          </td><td>0.19                          </td><td>0                             </td><td>0.42                          </td><td>0.21                          </td><td>0                             </td></tr>\n",
       "\t<tr><td>12                            </td><td>R MB                          </td><td>right                         </td><td>0.46                          </td><td>0.23                          </td><td>0                             </td><td>0.60                          </td><td>0.32                          </td><td>0                             </td><td>0.56                          </td><td>...                           </td><td>0                             </td><td>0.35                          </td><td>0.15                          </td><td>0                             </td><td>0.37                          </td><td>0.08                          </td><td>0                             </td><td>0.42                          </td><td>0.12                          </td><td>0                             </td></tr>\n",
       "\t<tr><td>13                            </td><td>L MB                          </td><td>left                          </td><td>0.45                          </td><td>0.24                          </td><td>0                             </td><td>0.58                          </td><td>0.30                          </td><td>0                             </td><td>0.54                          </td><td>...                           </td><td>0                             </td><td>0.32                          </td><td>0.11                          </td><td>0                             </td><td>0.37                          </td><td>0.11                          </td><td>0                             </td><td>0.42                          </td><td>0.13                          </td><td>0                             </td></tr>\n",
       "\t<tr><td>14                            </td><td>pineal gland                  </td><td>midline                       </td><td>0.51                          </td><td>0.51                          </td><td>1                             </td><td>0.62                          </td><td>0.32                          </td><td>0                             </td><td>0.43                          </td><td>...                           </td><td>0                             </td><td>0.20                          </td><td>0.10                          </td><td>0                             </td><td>0.34                          </td><td>0.15                          </td><td>0                             </td><td>0.93                          </td><td>0.95                          </td><td>1                             </td></tr>\n",
       "\t<tr><td>15                            </td><td>R LV at AC                    </td><td>right                         </td><td>0.39                          </td><td>0.24                          </td><td>0                             </td><td>0.31                          </td><td>0.27                          </td><td>0                             </td><td>0.29                          </td><td>...                           </td><td>0                             </td><td>0.43                          </td><td>0.22                          </td><td>0                             </td><td>0.36                          </td><td>0.24                          </td><td>0                             </td><td>0.58                          </td><td>0.22                          </td><td>0                             </td></tr>\n",
       "\t<tr><td>16                            </td><td>L LV at AC                    </td><td>left                          </td><td>0.40                          </td><td>0.23                          </td><td>0                             </td><td>0.34                          </td><td>0.25                          </td><td>0                             </td><td>0.34                          </td><td>...                           </td><td>0                             </td><td>0.41                          </td><td>0.25                          </td><td>0                             </td><td>0.44                          </td><td>0.26                          </td><td>0                             </td><td>0.49                          </td><td>0.21                          </td><td>0                             </td></tr>\n",
       "\t<tr><td>17                            </td><td>R LV at PC                    </td><td>right                         </td><td>0.42                          </td><td>0.20                          </td><td>0                             </td><td>0.46                          </td><td>0.25                          </td><td>0                             </td><td>0.40                          </td><td>...                           </td><td>0                             </td><td>0.40                          </td><td>0.20                          </td><td>0                             </td><td>0.47                          </td><td>0.14                          </td><td>0                             </td><td>0.37                          </td><td>0.16                          </td><td>0                             </td></tr>\n",
       "\t<tr><td>18                            </td><td>L LV at PC                    </td><td>left                          </td><td>0.49                          </td><td>0.26                          </td><td>0                             </td><td>0.46                          </td><td>0.21                          </td><td>0                             </td><td>0.62                          </td><td>...                           </td><td>0                             </td><td>0.46                          </td><td>0.14                          </td><td>0                             </td><td>0.53                          </td><td>0.22                          </td><td>0                             </td><td>0.40                          </td><td>0.25                          </td><td>0                             </td></tr>\n",
       "\t<tr><td>19                            </td><td>genu of CC                    </td><td>midline                       </td><td>0.26                          </td><td>0.19                          </td><td>0                             </td><td>0.36                          </td><td>0.33                          </td><td>0                             </td><td>0.21                          </td><td>...                           </td><td>0                             </td><td>0.25                          </td><td>0.12                          </td><td>0                             </td><td>0.17                          </td><td>0.11                          </td><td>0                             </td><td>0.28                          </td><td>0.14                          </td><td>0                             </td></tr>\n",
       "\t<tr><td>20                            </td><td>splenium of CC                </td><td>midline                       </td><td>0.19                          </td><td>0.11                          </td><td>0                             </td><td>0.22                          </td><td>0.13                          </td><td>0                             </td><td>0.14                          </td><td>...                           </td><td>0                             </td><td>0.24                          </td><td>0.14                          </td><td>0                             </td><td>0.14                          </td><td>0.10                          </td><td>0                             </td><td>0.22                          </td><td>0.11                          </td><td>0                             </td></tr>\n",
       "\t<tr><td>21                            </td><td>R AL temporal horn            </td><td>right                         </td><td>0.38                          </td><td>0.19                          </td><td>0                             </td><td>0.40                          </td><td>0.20                          </td><td>0                             </td><td>0.35                          </td><td>...                           </td><td>0                             </td><td>0.49                          </td><td>0.25                          </td><td>0                             </td><td>0.26                          </td><td>0.11                          </td><td>0                             </td><td>0.38                          </td><td>0.15                          </td><td>0                             </td></tr>\n",
       "\t<tr><td>22                            </td><td>L AL temporal horn            </td><td>left                          </td><td>0.48                          </td><td>0.25                          </td><td>0                             </td><td>0.41                          </td><td>0.18                          </td><td>0                             </td><td>0.45                          </td><td>...                           </td><td>0                             </td><td>0.68                          </td><td>0.39                          </td><td>0                             </td><td>0.47                          </td><td>0.14                          </td><td>0                             </td><td>0.38                          </td><td>0.21                          </td><td>0                             </td></tr>\n",
       "\t<tr><td>23                            </td><td>R superior AM temporal horn   </td><td>right                         </td><td>0.40                          </td><td>0.27                          </td><td>0                             </td><td>0.59                          </td><td>0.34                          </td><td>0                             </td><td>0.45                          </td><td>...                           </td><td>0                             </td><td>0.25                          </td><td>0.11                          </td><td>0                             </td><td>0.26                          </td><td>0.11                          </td><td>0                             </td><td>0.45                          </td><td>0.25                          </td><td>0                             </td></tr>\n",
       "\t<tr><td>24                            </td><td>L superior AM temporal horn   </td><td>left                          </td><td>0.37                          </td><td>0.23                          </td><td>0                             </td><td>0.54                          </td><td>0.38                          </td><td>0                             </td><td>0.28                          </td><td>...                           </td><td>0                             </td><td>0.40                          </td><td>0.15                          </td><td>0                             </td><td>0.25                          </td><td>0.07                          </td><td>0                             </td><td>0.35                          </td><td>0.20                          </td><td>0                             </td></tr>\n",
       "\t<tr><td>25                            </td><td>R inferior AM temporal horn   </td><td>right                         </td><td>0.45                          </td><td>0.27                          </td><td>0                             </td><td>0.28                          </td><td>0.17                          </td><td>0                             </td><td>0.53                          </td><td>...                           </td><td>0                             </td><td>0.46                          </td><td>0.37                          </td><td>0                             </td><td>0.36                          </td><td>0.15                          </td><td>0                             </td><td>0.62                          </td><td>0.27                          </td><td>0                             </td></tr>\n",
       "\t<tr><td>26                            </td><td>L inferior AM temporal horn   </td><td>left                          </td><td>0.38                          </td><td>0.27                          </td><td>1                             </td><td>0.27                          </td><td>0.18                          </td><td>0                             </td><td>0.28                          </td><td>...                           </td><td>0                             </td><td>0.33                          </td><td>0.14                          </td><td>0                             </td><td>0.32                          </td><td>0.16                          </td><td>0                             </td><td>0.72                          </td><td>0.38                          </td><td>1                             </td></tr>\n",
       "\t<tr><td>27                            </td><td>R indusium griseum origin     </td><td>right                         </td><td>0.88                          </td><td>0.58                          </td><td>4                             </td><td>1.07                          </td><td>0.59                          </td><td>1                             </td><td>1.20                          </td><td>...                           </td><td>2                             </td><td>0.67                          </td><td>0.46                          </td><td>0                             </td><td>0.67                          </td><td>0.36                          </td><td>0                             </td><td>0.79                          </td><td>0.43                          </td><td>1                             </td></tr>\n",
       "\t<tr><td>28                            </td><td>L indusium griseum origin     </td><td>left                          </td><td>0.88                          </td><td>0.58                          </td><td>7                             </td><td>0.98                          </td><td>0.53                          </td><td>1                             </td><td>1.12                          </td><td>...                           </td><td>2                             </td><td>0.63                          </td><td>0.45                          </td><td>0                             </td><td>0.76                          </td><td>0.51                          </td><td>2                             </td><td>0.92                          </td><td>0.55                          </td><td>2                             </td></tr>\n",
       "\t<tr><td>29                            </td><td>R ventral occipital horn      </td><td>right                         </td><td>0.42                          </td><td>0.22                          </td><td>0                             </td><td>0.31                          </td><td>0.14                          </td><td>0                             </td><td>0.44                          </td><td>...                           </td><td>0                             </td><td>0.54                          </td><td>0.22                          </td><td>0                             </td><td>0.32                          </td><td>0.14                          </td><td>0                             </td><td>0.51                          </td><td>0.28                          </td><td>0                             </td></tr>\n",
       "\t<tr><td>30                            </td><td>L ventral occipital horn      </td><td>left                          </td><td>0.43                          </td><td>0.43                          </td><td>1                             </td><td>0.37                          </td><td>0.14                          </td><td>0                             </td><td>0.72                          </td><td>...                           </td><td>1                             </td><td>0.35                          </td><td>0.22                          </td><td>0                             </td><td>0.31                          </td><td>0.09                          </td><td>0                             </td><td>0.42                          </td><td>0.24                          </td><td>0                             </td></tr>\n",
       "\t<tr><td>31                            </td><td>R olfactory sulcal fundus     </td><td>right                         </td><td>0.42                          </td><td>0.22                          </td><td>0                             </td><td>0.44                          </td><td>0.24                          </td><td>0                             </td><td>0.46                          </td><td>...                           </td><td>0                             </td><td>0.38                          </td><td>0.18                          </td><td>0                             </td><td>0.41                          </td><td>0.15                          </td><td>0                             </td><td>0.41                          </td><td>0.21                          </td><td>0                             </td></tr>\n",
       "\t<tr><td>32                            </td><td>L olfactory sulcal fundus     </td><td>left                          </td><td>0.46                          </td><td>0.25                          </td><td>0                             </td><td>0.50                          </td><td>0.28                          </td><td>0                             </td><td>0.51                          </td><td>...                           </td><td>0                             </td><td>0.37                          </td><td>0.24                          </td><td>0                             </td><td>0.44                          </td><td>0.17                          </td><td>0                             </td><td>0.46                          </td><td>0.24                          </td><td>0                             </td></tr>\n",
       "</tbody>\n",
       "</table>\n"
      ],
      "text/latex": [
       "\\begin{tabular}{r|lllllllllllllllllllll}\n",
       " name & description & side & mean\\_total & sd\\_total & sum\\_outliers\\_total & mean\\_d99 & sd\\_d99 & sum\\_outliers\\_d99 & mean\\_inia19 & ... & sum\\_outliers\\_inia19 & mean\\_macaqueMNI & sd\\_macaqueMNI & sum\\_outliers\\_macaqueMNI & mean\\_nmtv1.3 & sd\\_nmtv1.3 & sum\\_outliers\\_nmtv1.3 & mean\\_yerkes19 & sd\\_yerkes19 & sum\\_outliers\\_yerkes19\\\\\n",
       "\\hline\n",
       "\t  1                             & AC                             & midline                        & 0.15                           & 0.09                           & 0                              & 0.15                           & 0.09                           & 0                              & 0.15                           & ...                            & 0                              & 0.13                           & 0.04                           & 0                              & 0.12                           & 0.09                           & 0                              & 0.19                           & 0.11                           & 0                             \\\\\n",
       "\t  2                             & PC                             & midline                        & 0.16                           & 0.09                           & 0                              & 0.22                           & 0.11                           & 0                              & 0.14                           & ...                            & 0                              & 0.12                           & 0.04                           & 0                              & 0.19                           & 0.09                           & 0                              & 0.15                           & 0.07                           & 0                             \\\\\n",
       "\t  3                             & infracollicular sulcus         & midline                        & 0.33                           & 0.19                           & 0                              & 0.37                           & 0.22                           & 0                              & 0.42                           & ...                            & 0                              & 0.24                           & 0.09                           & 0                              & 0.22                           & 0.14                           & 0                              & 0.42                           & 0.18                           & 0                             \\\\\n",
       "\t  4                             & PMJ                            & midline                        & 0.24                           & 0.11                           & 0                              & 0.22                           & 0.13                           & 0                              & 0.28                           & ...                            & 0                              & 0.22                           & 0.11                           & 0                              & 0.24                           & 0.13                           & 0                              & 0.25                           & 0.08                           & 0                             \\\\\n",
       "\t  5                             & superior interpeduncular fossa & midline                        & 0.24                           & 0.14                           & 0                              & 0.19                           & 0.11                           & 0                              & 0.24                           & ...                            & 0                              & 0.27                           & 0.14                           & 0                              & 0.14                           & 0.06                           & 0                              & 0.33                           & 0.15                           & 0                             \\\\\n",
       "\t  6                             & R superior LMS                 & right                          & 0.37                           & 0.24                           & 0                              & 0.33                           & 0.25                           & 0                              & 0.52                           & ...                            & 0                              & 0.45                           & 0.23                           & 0                              & 0.27                           & 0.14                           & 0                              & 0.28                           & 0.16                           & 0                             \\\\\n",
       "\t  7                             & L superior LMS                 & left                           & 0.40                           & 0.24                           & 0                              & 0.33                           & 0.22                           & 0                              & 0.58                           & ...                            & 0                              & 0.50                           & 0.21                           & 0                              & 0.31                           & 0.12                           & 0                              & 0.29                           & 0.16                           & 0                             \\\\\n",
       "\t  8                             & R inferior LMS                 & right                          & 0.44                           & 0.22                           & 0                              & 0.36                           & 0.18                           & 0                              & 0.47                           & ...                            & 0                              & 0.37                           & 0.18                           & 0                              & 0.58                           & 0.28                           & 0                              & 0.41                           & 0.19                           & 0                             \\\\\n",
       "\t  9                             & L inferior LMS                 & left                           & 0.43                           & 0.21                           & 0                              & 0.40                           & 0.18                           & 0                              & 0.48                           & ...                            & 0                              & 0.41                           & 0.20                           & 0                              & 0.53                           & 0.23                           & 0                              & 0.34                           & 0.21                           & 0                             \\\\\n",
       "\t 10                             & culmen                         & midline                        & 0.43                           & 0.35                           & 2                              & 0.81                           & 0.55                           & 2                              & 0.48                           & ...                            & 0                              & 0.29                           & 0.14                           & 0                              & 0.22                           & 0.15                           & 0                              & 0.34                           & 0.16                           & 0                             \\\\\n",
       "\t 11                             & intermammillary sulcus         & midline                        & 0.43                           & 0.19                           & 0                              & 0.55                           & 0.17                           & 0                              & 0.46                           & ...                            & 0                              & 0.35                           & 0.08                           & 0                              & 0.39                           & 0.19                           & 0                              & 0.42                           & 0.21                           & 0                             \\\\\n",
       "\t 12                             & R MB                           & right                          & 0.46                           & 0.23                           & 0                              & 0.60                           & 0.32                           & 0                              & 0.56                           & ...                            & 0                              & 0.35                           & 0.15                           & 0                              & 0.37                           & 0.08                           & 0                              & 0.42                           & 0.12                           & 0                             \\\\\n",
       "\t 13                             & L MB                           & left                           & 0.45                           & 0.24                           & 0                              & 0.58                           & 0.30                           & 0                              & 0.54                           & ...                            & 0                              & 0.32                           & 0.11                           & 0                              & 0.37                           & 0.11                           & 0                              & 0.42                           & 0.13                           & 0                             \\\\\n",
       "\t 14                             & pineal gland                   & midline                        & 0.51                           & 0.51                           & 1                              & 0.62                           & 0.32                           & 0                              & 0.43                           & ...                            & 0                              & 0.20                           & 0.10                           & 0                              & 0.34                           & 0.15                           & 0                              & 0.93                           & 0.95                           & 1                             \\\\\n",
       "\t 15                             & R LV at AC                     & right                          & 0.39                           & 0.24                           & 0                              & 0.31                           & 0.27                           & 0                              & 0.29                           & ...                            & 0                              & 0.43                           & 0.22                           & 0                              & 0.36                           & 0.24                           & 0                              & 0.58                           & 0.22                           & 0                             \\\\\n",
       "\t 16                             & L LV at AC                     & left                           & 0.40                           & 0.23                           & 0                              & 0.34                           & 0.25                           & 0                              & 0.34                           & ...                            & 0                              & 0.41                           & 0.25                           & 0                              & 0.44                           & 0.26                           & 0                              & 0.49                           & 0.21                           & 0                             \\\\\n",
       "\t 17                             & R LV at PC                     & right                          & 0.42                           & 0.20                           & 0                              & 0.46                           & 0.25                           & 0                              & 0.40                           & ...                            & 0                              & 0.40                           & 0.20                           & 0                              & 0.47                           & 0.14                           & 0                              & 0.37                           & 0.16                           & 0                             \\\\\n",
       "\t 18                             & L LV at PC                     & left                           & 0.49                           & 0.26                           & 0                              & 0.46                           & 0.21                           & 0                              & 0.62                           & ...                            & 0                              & 0.46                           & 0.14                           & 0                              & 0.53                           & 0.22                           & 0                              & 0.40                           & 0.25                           & 0                             \\\\\n",
       "\t 19                             & genu of CC                     & midline                        & 0.26                           & 0.19                           & 0                              & 0.36                           & 0.33                           & 0                              & 0.21                           & ...                            & 0                              & 0.25                           & 0.12                           & 0                              & 0.17                           & 0.11                           & 0                              & 0.28                           & 0.14                           & 0                             \\\\\n",
       "\t 20                             & splenium of CC                 & midline                        & 0.19                           & 0.11                           & 0                              & 0.22                           & 0.13                           & 0                              & 0.14                           & ...                            & 0                              & 0.24                           & 0.14                           & 0                              & 0.14                           & 0.10                           & 0                              & 0.22                           & 0.11                           & 0                             \\\\\n",
       "\t 21                             & R AL temporal horn             & right                          & 0.38                           & 0.19                           & 0                              & 0.40                           & 0.20                           & 0                              & 0.35                           & ...                            & 0                              & 0.49                           & 0.25                           & 0                              & 0.26                           & 0.11                           & 0                              & 0.38                           & 0.15                           & 0                             \\\\\n",
       "\t 22                             & L AL temporal horn             & left                           & 0.48                           & 0.25                           & 0                              & 0.41                           & 0.18                           & 0                              & 0.45                           & ...                            & 0                              & 0.68                           & 0.39                           & 0                              & 0.47                           & 0.14                           & 0                              & 0.38                           & 0.21                           & 0                             \\\\\n",
       "\t 23                             & R superior AM temporal horn    & right                          & 0.40                           & 0.27                           & 0                              & 0.59                           & 0.34                           & 0                              & 0.45                           & ...                            & 0                              & 0.25                           & 0.11                           & 0                              & 0.26                           & 0.11                           & 0                              & 0.45                           & 0.25                           & 0                             \\\\\n",
       "\t 24                             & L superior AM temporal horn    & left                           & 0.37                           & 0.23                           & 0                              & 0.54                           & 0.38                           & 0                              & 0.28                           & ...                            & 0                              & 0.40                           & 0.15                           & 0                              & 0.25                           & 0.07                           & 0                              & 0.35                           & 0.20                           & 0                             \\\\\n",
       "\t 25                             & R inferior AM temporal horn    & right                          & 0.45                           & 0.27                           & 0                              & 0.28                           & 0.17                           & 0                              & 0.53                           & ...                            & 0                              & 0.46                           & 0.37                           & 0                              & 0.36                           & 0.15                           & 0                              & 0.62                           & 0.27                           & 0                             \\\\\n",
       "\t 26                             & L inferior AM temporal horn    & left                           & 0.38                           & 0.27                           & 1                              & 0.27                           & 0.18                           & 0                              & 0.28                           & ...                            & 0                              & 0.33                           & 0.14                           & 0                              & 0.32                           & 0.16                           & 0                              & 0.72                           & 0.38                           & 1                             \\\\\n",
       "\t 27                             & R indusium griseum origin      & right                          & 0.88                           & 0.58                           & 4                              & 1.07                           & 0.59                           & 1                              & 1.20                           & ...                            & 2                              & 0.67                           & 0.46                           & 0                              & 0.67                           & 0.36                           & 0                              & 0.79                           & 0.43                           & 1                             \\\\\n",
       "\t 28                             & L indusium griseum origin      & left                           & 0.88                           & 0.58                           & 7                              & 0.98                           & 0.53                           & 1                              & 1.12                           & ...                            & 2                              & 0.63                           & 0.45                           & 0                              & 0.76                           & 0.51                           & 2                              & 0.92                           & 0.55                           & 2                             \\\\\n",
       "\t 29                             & R ventral occipital horn       & right                          & 0.42                           & 0.22                           & 0                              & 0.31                           & 0.14                           & 0                              & 0.44                           & ...                            & 0                              & 0.54                           & 0.22                           & 0                              & 0.32                           & 0.14                           & 0                              & 0.51                           & 0.28                           & 0                             \\\\\n",
       "\t 30                             & L ventral occipital horn       & left                           & 0.43                           & 0.43                           & 1                              & 0.37                           & 0.14                           & 0                              & 0.72                           & ...                            & 1                              & 0.35                           & 0.22                           & 0                              & 0.31                           & 0.09                           & 0                              & 0.42                           & 0.24                           & 0                             \\\\\n",
       "\t 31                             & R olfactory sulcal fundus      & right                          & 0.42                           & 0.22                           & 0                              & 0.44                           & 0.24                           & 0                              & 0.46                           & ...                            & 0                              & 0.38                           & 0.18                           & 0                              & 0.41                           & 0.15                           & 0                              & 0.41                           & 0.21                           & 0                             \\\\\n",
       "\t 32                             & L olfactory sulcal fundus      & left                           & 0.46                           & 0.25                           & 0                              & 0.50                           & 0.28                           & 0                              & 0.51                           & ...                            & 0                              & 0.37                           & 0.24                           & 0                              & 0.44                           & 0.17                           & 0                              & 0.46                           & 0.24                           & 0                             \\\\\n",
       "\\end{tabular}\n"
      ],
      "text/markdown": [
       "\n",
       "| name | description | side | mean_total | sd_total | sum_outliers_total | mean_d99 | sd_d99 | sum_outliers_d99 | mean_inia19 | ... | sum_outliers_inia19 | mean_macaqueMNI | sd_macaqueMNI | sum_outliers_macaqueMNI | mean_nmtv1.3 | sd_nmtv1.3 | sum_outliers_nmtv1.3 | mean_yerkes19 | sd_yerkes19 | sum_outliers_yerkes19 |\n",
       "|---|---|---|---|---|---|---|---|---|---|---|---|---|---|---|---|---|---|---|---|---|\n",
       "|  1                             | AC                             | midline                        | 0.15                           | 0.09                           | 0                              | 0.15                           | 0.09                           | 0                              | 0.15                           | ...                            | 0                              | 0.13                           | 0.04                           | 0                              | 0.12                           | 0.09                           | 0                              | 0.19                           | 0.11                           | 0                              |\n",
       "|  2                             | PC                             | midline                        | 0.16                           | 0.09                           | 0                              | 0.22                           | 0.11                           | 0                              | 0.14                           | ...                            | 0                              | 0.12                           | 0.04                           | 0                              | 0.19                           | 0.09                           | 0                              | 0.15                           | 0.07                           | 0                              |\n",
       "|  3                             | infracollicular sulcus         | midline                        | 0.33                           | 0.19                           | 0                              | 0.37                           | 0.22                           | 0                              | 0.42                           | ...                            | 0                              | 0.24                           | 0.09                           | 0                              | 0.22                           | 0.14                           | 0                              | 0.42                           | 0.18                           | 0                              |\n",
       "|  4                             | PMJ                            | midline                        | 0.24                           | 0.11                           | 0                              | 0.22                           | 0.13                           | 0                              | 0.28                           | ...                            | 0                              | 0.22                           | 0.11                           | 0                              | 0.24                           | 0.13                           | 0                              | 0.25                           | 0.08                           | 0                              |\n",
       "|  5                             | superior interpeduncular fossa | midline                        | 0.24                           | 0.14                           | 0                              | 0.19                           | 0.11                           | 0                              | 0.24                           | ...                            | 0                              | 0.27                           | 0.14                           | 0                              | 0.14                           | 0.06                           | 0                              | 0.33                           | 0.15                           | 0                              |\n",
       "|  6                             | R superior LMS                 | right                          | 0.37                           | 0.24                           | 0                              | 0.33                           | 0.25                           | 0                              | 0.52                           | ...                            | 0                              | 0.45                           | 0.23                           | 0                              | 0.27                           | 0.14                           | 0                              | 0.28                           | 0.16                           | 0                              |\n",
       "|  7                             | L superior LMS                 | left                           | 0.40                           | 0.24                           | 0                              | 0.33                           | 0.22                           | 0                              | 0.58                           | ...                            | 0                              | 0.50                           | 0.21                           | 0                              | 0.31                           | 0.12                           | 0                              | 0.29                           | 0.16                           | 0                              |\n",
       "|  8                             | R inferior LMS                 | right                          | 0.44                           | 0.22                           | 0                              | 0.36                           | 0.18                           | 0                              | 0.47                           | ...                            | 0                              | 0.37                           | 0.18                           | 0                              | 0.58                           | 0.28                           | 0                              | 0.41                           | 0.19                           | 0                              |\n",
       "|  9                             | L inferior LMS                 | left                           | 0.43                           | 0.21                           | 0                              | 0.40                           | 0.18                           | 0                              | 0.48                           | ...                            | 0                              | 0.41                           | 0.20                           | 0                              | 0.53                           | 0.23                           | 0                              | 0.34                           | 0.21                           | 0                              |\n",
       "| 10                             | culmen                         | midline                        | 0.43                           | 0.35                           | 2                              | 0.81                           | 0.55                           | 2                              | 0.48                           | ...                            | 0                              | 0.29                           | 0.14                           | 0                              | 0.22                           | 0.15                           | 0                              | 0.34                           | 0.16                           | 0                              |\n",
       "| 11                             | intermammillary sulcus         | midline                        | 0.43                           | 0.19                           | 0                              | 0.55                           | 0.17                           | 0                              | 0.46                           | ...                            | 0                              | 0.35                           | 0.08                           | 0                              | 0.39                           | 0.19                           | 0                              | 0.42                           | 0.21                           | 0                              |\n",
       "| 12                             | R MB                           | right                          | 0.46                           | 0.23                           | 0                              | 0.60                           | 0.32                           | 0                              | 0.56                           | ...                            | 0                              | 0.35                           | 0.15                           | 0                              | 0.37                           | 0.08                           | 0                              | 0.42                           | 0.12                           | 0                              |\n",
       "| 13                             | L MB                           | left                           | 0.45                           | 0.24                           | 0                              | 0.58                           | 0.30                           | 0                              | 0.54                           | ...                            | 0                              | 0.32                           | 0.11                           | 0                              | 0.37                           | 0.11                           | 0                              | 0.42                           | 0.13                           | 0                              |\n",
       "| 14                             | pineal gland                   | midline                        | 0.51                           | 0.51                           | 1                              | 0.62                           | 0.32                           | 0                              | 0.43                           | ...                            | 0                              | 0.20                           | 0.10                           | 0                              | 0.34                           | 0.15                           | 0                              | 0.93                           | 0.95                           | 1                              |\n",
       "| 15                             | R LV at AC                     | right                          | 0.39                           | 0.24                           | 0                              | 0.31                           | 0.27                           | 0                              | 0.29                           | ...                            | 0                              | 0.43                           | 0.22                           | 0                              | 0.36                           | 0.24                           | 0                              | 0.58                           | 0.22                           | 0                              |\n",
       "| 16                             | L LV at AC                     | left                           | 0.40                           | 0.23                           | 0                              | 0.34                           | 0.25                           | 0                              | 0.34                           | ...                            | 0                              | 0.41                           | 0.25                           | 0                              | 0.44                           | 0.26                           | 0                              | 0.49                           | 0.21                           | 0                              |\n",
       "| 17                             | R LV at PC                     | right                          | 0.42                           | 0.20                           | 0                              | 0.46                           | 0.25                           | 0                              | 0.40                           | ...                            | 0                              | 0.40                           | 0.20                           | 0                              | 0.47                           | 0.14                           | 0                              | 0.37                           | 0.16                           | 0                              |\n",
       "| 18                             | L LV at PC                     | left                           | 0.49                           | 0.26                           | 0                              | 0.46                           | 0.21                           | 0                              | 0.62                           | ...                            | 0                              | 0.46                           | 0.14                           | 0                              | 0.53                           | 0.22                           | 0                              | 0.40                           | 0.25                           | 0                              |\n",
       "| 19                             | genu of CC                     | midline                        | 0.26                           | 0.19                           | 0                              | 0.36                           | 0.33                           | 0                              | 0.21                           | ...                            | 0                              | 0.25                           | 0.12                           | 0                              | 0.17                           | 0.11                           | 0                              | 0.28                           | 0.14                           | 0                              |\n",
       "| 20                             | splenium of CC                 | midline                        | 0.19                           | 0.11                           | 0                              | 0.22                           | 0.13                           | 0                              | 0.14                           | ...                            | 0                              | 0.24                           | 0.14                           | 0                              | 0.14                           | 0.10                           | 0                              | 0.22                           | 0.11                           | 0                              |\n",
       "| 21                             | R AL temporal horn             | right                          | 0.38                           | 0.19                           | 0                              | 0.40                           | 0.20                           | 0                              | 0.35                           | ...                            | 0                              | 0.49                           | 0.25                           | 0                              | 0.26                           | 0.11                           | 0                              | 0.38                           | 0.15                           | 0                              |\n",
       "| 22                             | L AL temporal horn             | left                           | 0.48                           | 0.25                           | 0                              | 0.41                           | 0.18                           | 0                              | 0.45                           | ...                            | 0                              | 0.68                           | 0.39                           | 0                              | 0.47                           | 0.14                           | 0                              | 0.38                           | 0.21                           | 0                              |\n",
       "| 23                             | R superior AM temporal horn    | right                          | 0.40                           | 0.27                           | 0                              | 0.59                           | 0.34                           | 0                              | 0.45                           | ...                            | 0                              | 0.25                           | 0.11                           | 0                              | 0.26                           | 0.11                           | 0                              | 0.45                           | 0.25                           | 0                              |\n",
       "| 24                             | L superior AM temporal horn    | left                           | 0.37                           | 0.23                           | 0                              | 0.54                           | 0.38                           | 0                              | 0.28                           | ...                            | 0                              | 0.40                           | 0.15                           | 0                              | 0.25                           | 0.07                           | 0                              | 0.35                           | 0.20                           | 0                              |\n",
       "| 25                             | R inferior AM temporal horn    | right                          | 0.45                           | 0.27                           | 0                              | 0.28                           | 0.17                           | 0                              | 0.53                           | ...                            | 0                              | 0.46                           | 0.37                           | 0                              | 0.36                           | 0.15                           | 0                              | 0.62                           | 0.27                           | 0                              |\n",
       "| 26                             | L inferior AM temporal horn    | left                           | 0.38                           | 0.27                           | 1                              | 0.27                           | 0.18                           | 0                              | 0.28                           | ...                            | 0                              | 0.33                           | 0.14                           | 0                              | 0.32                           | 0.16                           | 0                              | 0.72                           | 0.38                           | 1                              |\n",
       "| 27                             | R indusium griseum origin      | right                          | 0.88                           | 0.58                           | 4                              | 1.07                           | 0.59                           | 1                              | 1.20                           | ...                            | 2                              | 0.67                           | 0.46                           | 0                              | 0.67                           | 0.36                           | 0                              | 0.79                           | 0.43                           | 1                              |\n",
       "| 28                             | L indusium griseum origin      | left                           | 0.88                           | 0.58                           | 7                              | 0.98                           | 0.53                           | 1                              | 1.12                           | ...                            | 2                              | 0.63                           | 0.45                           | 0                              | 0.76                           | 0.51                           | 2                              | 0.92                           | 0.55                           | 2                              |\n",
       "| 29                             | R ventral occipital horn       | right                          | 0.42                           | 0.22                           | 0                              | 0.31                           | 0.14                           | 0                              | 0.44                           | ...                            | 0                              | 0.54                           | 0.22                           | 0                              | 0.32                           | 0.14                           | 0                              | 0.51                           | 0.28                           | 0                              |\n",
       "| 30                             | L ventral occipital horn       | left                           | 0.43                           | 0.43                           | 1                              | 0.37                           | 0.14                           | 0                              | 0.72                           | ...                            | 1                              | 0.35                           | 0.22                           | 0                              | 0.31                           | 0.09                           | 0                              | 0.42                           | 0.24                           | 0                              |\n",
       "| 31                             | R olfactory sulcal fundus      | right                          | 0.42                           | 0.22                           | 0                              | 0.44                           | 0.24                           | 0                              | 0.46                           | ...                            | 0                              | 0.38                           | 0.18                           | 0                              | 0.41                           | 0.15                           | 0                              | 0.41                           | 0.21                           | 0                              |\n",
       "| 32                             | L olfactory sulcal fundus      | left                           | 0.46                           | 0.25                           | 0                              | 0.50                           | 0.28                           | 0                              | 0.51                           | ...                            | 0                              | 0.37                           | 0.24                           | 0                              | 0.44                           | 0.17                           | 0                              | 0.46                           | 0.24                           | 0                              |\n",
       "\n"
      ],
      "text/plain": [
       "   name description                    side    mean_total sd_total\n",
       "1   1   AC                             midline 0.15       0.09    \n",
       "2   2   PC                             midline 0.16       0.09    \n",
       "3   3   infracollicular sulcus         midline 0.33       0.19    \n",
       "4   4   PMJ                            midline 0.24       0.11    \n",
       "5   5   superior interpeduncular fossa midline 0.24       0.14    \n",
       "6   6   R superior LMS                 right   0.37       0.24    \n",
       "7   7   L superior LMS                 left    0.40       0.24    \n",
       "8   8   R inferior LMS                 right   0.44       0.22    \n",
       "9   9   L inferior LMS                 left    0.43       0.21    \n",
       "10 10   culmen                         midline 0.43       0.35    \n",
       "11 11   intermammillary sulcus         midline 0.43       0.19    \n",
       "12 12   R MB                           right   0.46       0.23    \n",
       "13 13   L MB                           left    0.45       0.24    \n",
       "14 14   pineal gland                   midline 0.51       0.51    \n",
       "15 15   R LV at AC                     right   0.39       0.24    \n",
       "16 16   L LV at AC                     left    0.40       0.23    \n",
       "17 17   R LV at PC                     right   0.42       0.20    \n",
       "18 18   L LV at PC                     left    0.49       0.26    \n",
       "19 19   genu of CC                     midline 0.26       0.19    \n",
       "20 20   splenium of CC                 midline 0.19       0.11    \n",
       "21 21   R AL temporal horn             right   0.38       0.19    \n",
       "22 22   L AL temporal horn             left    0.48       0.25    \n",
       "23 23   R superior AM temporal horn    right   0.40       0.27    \n",
       "24 24   L superior AM temporal horn    left    0.37       0.23    \n",
       "25 25   R inferior AM temporal horn    right   0.45       0.27    \n",
       "26 26   L inferior AM temporal horn    left    0.38       0.27    \n",
       "27 27   R indusium griseum origin      right   0.88       0.58    \n",
       "28 28   L indusium griseum origin      left    0.88       0.58    \n",
       "29 29   R ventral occipital horn       right   0.42       0.22    \n",
       "30 30   L ventral occipital horn       left    0.43       0.43    \n",
       "31 31   R olfactory sulcal fundus      right   0.42       0.22    \n",
       "32 32   L olfactory sulcal fundus      left    0.46       0.25    \n",
       "   sum_outliers_total mean_d99 sd_d99 sum_outliers_d99 mean_inia19 ...\n",
       "1  0                  0.15     0.09   0                0.15        ...\n",
       "2  0                  0.22     0.11   0                0.14        ...\n",
       "3  0                  0.37     0.22   0                0.42        ...\n",
       "4  0                  0.22     0.13   0                0.28        ...\n",
       "5  0                  0.19     0.11   0                0.24        ...\n",
       "6  0                  0.33     0.25   0                0.52        ...\n",
       "7  0                  0.33     0.22   0                0.58        ...\n",
       "8  0                  0.36     0.18   0                0.47        ...\n",
       "9  0                  0.40     0.18   0                0.48        ...\n",
       "10 2                  0.81     0.55   2                0.48        ...\n",
       "11 0                  0.55     0.17   0                0.46        ...\n",
       "12 0                  0.60     0.32   0                0.56        ...\n",
       "13 0                  0.58     0.30   0                0.54        ...\n",
       "14 1                  0.62     0.32   0                0.43        ...\n",
       "15 0                  0.31     0.27   0                0.29        ...\n",
       "16 0                  0.34     0.25   0                0.34        ...\n",
       "17 0                  0.46     0.25   0                0.40        ...\n",
       "18 0                  0.46     0.21   0                0.62        ...\n",
       "19 0                  0.36     0.33   0                0.21        ...\n",
       "20 0                  0.22     0.13   0                0.14        ...\n",
       "21 0                  0.40     0.20   0                0.35        ...\n",
       "22 0                  0.41     0.18   0                0.45        ...\n",
       "23 0                  0.59     0.34   0                0.45        ...\n",
       "24 0                  0.54     0.38   0                0.28        ...\n",
       "25 0                  0.28     0.17   0                0.53        ...\n",
       "26 1                  0.27     0.18   0                0.28        ...\n",
       "27 4                  1.07     0.59   1                1.20        ...\n",
       "28 7                  0.98     0.53   1                1.12        ...\n",
       "29 0                  0.31     0.14   0                0.44        ...\n",
       "30 1                  0.37     0.14   0                0.72        ...\n",
       "31 0                  0.44     0.24   0                0.46        ...\n",
       "32 0                  0.50     0.28   0                0.51        ...\n",
       "   sum_outliers_inia19 mean_macaqueMNI sd_macaqueMNI sum_outliers_macaqueMNI\n",
       "1  0                   0.13            0.04          0                      \n",
       "2  0                   0.12            0.04          0                      \n",
       "3  0                   0.24            0.09          0                      \n",
       "4  0                   0.22            0.11          0                      \n",
       "5  0                   0.27            0.14          0                      \n",
       "6  0                   0.45            0.23          0                      \n",
       "7  0                   0.50            0.21          0                      \n",
       "8  0                   0.37            0.18          0                      \n",
       "9  0                   0.41            0.20          0                      \n",
       "10 0                   0.29            0.14          0                      \n",
       "11 0                   0.35            0.08          0                      \n",
       "12 0                   0.35            0.15          0                      \n",
       "13 0                   0.32            0.11          0                      \n",
       "14 0                   0.20            0.10          0                      \n",
       "15 0                   0.43            0.22          0                      \n",
       "16 0                   0.41            0.25          0                      \n",
       "17 0                   0.40            0.20          0                      \n",
       "18 0                   0.46            0.14          0                      \n",
       "19 0                   0.25            0.12          0                      \n",
       "20 0                   0.24            0.14          0                      \n",
       "21 0                   0.49            0.25          0                      \n",
       "22 0                   0.68            0.39          0                      \n",
       "23 0                   0.25            0.11          0                      \n",
       "24 0                   0.40            0.15          0                      \n",
       "25 0                   0.46            0.37          0                      \n",
       "26 0                   0.33            0.14          0                      \n",
       "27 2                   0.67            0.46          0                      \n",
       "28 2                   0.63            0.45          0                      \n",
       "29 0                   0.54            0.22          0                      \n",
       "30 1                   0.35            0.22          0                      \n",
       "31 0                   0.38            0.18          0                      \n",
       "32 0                   0.37            0.24          0                      \n",
       "   mean_nmtv1.3 sd_nmtv1.3 sum_outliers_nmtv1.3 mean_yerkes19 sd_yerkes19\n",
       "1  0.12         0.09       0                    0.19          0.11       \n",
       "2  0.19         0.09       0                    0.15          0.07       \n",
       "3  0.22         0.14       0                    0.42          0.18       \n",
       "4  0.24         0.13       0                    0.25          0.08       \n",
       "5  0.14         0.06       0                    0.33          0.15       \n",
       "6  0.27         0.14       0                    0.28          0.16       \n",
       "7  0.31         0.12       0                    0.29          0.16       \n",
       "8  0.58         0.28       0                    0.41          0.19       \n",
       "9  0.53         0.23       0                    0.34          0.21       \n",
       "10 0.22         0.15       0                    0.34          0.16       \n",
       "11 0.39         0.19       0                    0.42          0.21       \n",
       "12 0.37         0.08       0                    0.42          0.12       \n",
       "13 0.37         0.11       0                    0.42          0.13       \n",
       "14 0.34         0.15       0                    0.93          0.95       \n",
       "15 0.36         0.24       0                    0.58          0.22       \n",
       "16 0.44         0.26       0                    0.49          0.21       \n",
       "17 0.47         0.14       0                    0.37          0.16       \n",
       "18 0.53         0.22       0                    0.40          0.25       \n",
       "19 0.17         0.11       0                    0.28          0.14       \n",
       "20 0.14         0.10       0                    0.22          0.11       \n",
       "21 0.26         0.11       0                    0.38          0.15       \n",
       "22 0.47         0.14       0                    0.38          0.21       \n",
       "23 0.26         0.11       0                    0.45          0.25       \n",
       "24 0.25         0.07       0                    0.35          0.20       \n",
       "25 0.36         0.15       0                    0.62          0.27       \n",
       "26 0.32         0.16       0                    0.72          0.38       \n",
       "27 0.67         0.36       0                    0.79          0.43       \n",
       "28 0.76         0.51       2                    0.92          0.55       \n",
       "29 0.32         0.14       0                    0.51          0.28       \n",
       "30 0.31         0.09       0                    0.42          0.24       \n",
       "31 0.41         0.15       0                    0.41          0.21       \n",
       "32 0.44         0.17       0                    0.46          0.24       \n",
       "   sum_outliers_yerkes19\n",
       "1  0                    \n",
       "2  0                    \n",
       "3  0                    \n",
       "4  0                    \n",
       "5  0                    \n",
       "6  0                    \n",
       "7  0                    \n",
       "8  0                    \n",
       "9  0                    \n",
       "10 0                    \n",
       "11 0                    \n",
       "12 0                    \n",
       "13 0                    \n",
       "14 1                    \n",
       "15 0                    \n",
       "16 0                    \n",
       "17 0                    \n",
       "18 0                    \n",
       "19 0                    \n",
       "20 0                    \n",
       "21 0                    \n",
       "22 0                    \n",
       "23 0                    \n",
       "24 0                    \n",
       "25 0                    \n",
       "26 1                    \n",
       "27 1                    \n",
       "28 2                    \n",
       "29 0                    \n",
       "30 0                    \n",
       "31 0                    \n",
       "32 0                    "
      ]
     },
     "metadata": {},
     "output_type": "display_data"
    }
   ],
   "source": [
    "# summarize results for each fid and template\n",
    "summary_all_df <- ddply(df_raters, .(fid), summarize, mean_total=mean(mean_AFLE), sd_total=sd(mean_AFLE), sum_outliers_total=sum(outlier))\n",
    "\n",
    "summary_temp_df <- ddply(df_raters, .(fid,template), summarize, mean=mean(mean_AFLE), sd=sd(mean_AFLE), sum_outliers=sum(outlier))\n",
    "\n",
    "# d99\n",
    "summary_all_df$mean_d99 <- subset(summary_temp_df, template == \"d99\")$mean\n",
    "summary_all_df$sd_d99 <- subset(summary_temp_df, template == \"d99\")$sd\n",
    "summary_all_df$sum_outliers_d99 <- subset(summary_temp_df, template == \"d99\")$sum_outliers\n",
    "\n",
    "# inia19\n",
    "summary_all_df$mean_inia19 <- subset(summary_temp_df, template == \"inia19\")$mean\n",
    "summary_all_df$sd_inia19 <- subset(summary_temp_df, template == \"inia19\")$sd\n",
    "summary_all_df$sum_outliers_inia19 <- subset(summary_temp_df, template == \"inia19\")$sum_outliers\n",
    "\n",
    "# macaqueMNI\n",
    "summary_all_df$mean_macaqueMNI <- subset(summary_temp_df, template == \"macaqueMNI\")$mean\n",
    "summary_all_df$sd_macaqueMNI <- subset(summary_temp_df, template == \"macaqueMNI\")$sd\n",
    "summary_all_df$sum_outliers_macaqueMNI <- subset(summary_temp_df, template == \"macaqueMNI\")$sum_outliers\n",
    "\n",
    "# nmtv1.3\n",
    "summary_all_df$mean_nmtv1.3 <- subset(summary_temp_df, template == \"nmtv1.3\")$mean\n",
    "summary_all_df$sd_nmtv1.3 <- subset(summary_temp_df, template == \"nmtv1.3\")$sd\n",
    "summary_all_df$sum_outliers_nmtv1.3 <- subset(summary_temp_df, template == \"nmtv1.3\")$sum_outliers\n",
    "\n",
    "# yerkes19\n",
    "summary_all_df$mean_yerkes19 <- subset(summary_temp_df, template == \"yerkes19\")$mean\n",
    "summary_all_df$sd_yerkes19 <- subset(summary_temp_df, template == \"yerkes19\")$sd\n",
    "summary_all_df$sum_outliers_yerkes19 <- subset(summary_temp_df, template == \"yerkes19\")$sum_outliers\n",
    "\n",
    "summary_all_df[,c(-1,-4,-7,-10,-13)] <- round(summary_all_df[,c(-1,-4,-7,-10,-13)],2)\n",
    "cbind(df_afids,summary_all_df)[-4] # include description so more self-explanatory\n",
    "\n",
    "write.table(summary_all_df, file = \"~/Documents/GitHub/afids-macaca/data/PHASE1_output_afid/PHASE1_template_validation_afid_AFLE.csv\", row.names = FALSE, quote = FALSE, sep = \",\")"
   ]
  },
  {
   "cell_type": "code",
   "execution_count": 9,
   "metadata": {},
   "outputs": [
    {
     "data": {
      "text/html": [
       "<table>\n",
       "<thead><tr><th scope=col>rater</th><th scope=col>mean</th><th scope=col>sd</th><th scope=col>sum_outliers</th></tr></thead>\n",
       "<tbody>\n",
       "\t<tr><td>1        </td><td>0.4110143</td><td>0.1899111</td><td>0        </td></tr>\n",
       "\t<tr><td>2        </td><td>0.3209823</td><td>0.2271999</td><td>1        </td></tr>\n",
       "\t<tr><td>3        </td><td>0.3406045</td><td>0.2723814</td><td>2        </td></tr>\n",
       "\t<tr><td>4        </td><td>0.4441768</td><td>0.2520691</td><td>0        </td></tr>\n",
       "\t<tr><td>5        </td><td>0.5453407</td><td>0.5039952</td><td>8        </td></tr>\n",
       "\t<tr><td>6        </td><td>0.5294000</td><td>0.4052402</td><td>5        </td></tr>\n",
       "</tbody>\n",
       "</table>\n"
      ],
      "text/latex": [
       "\\begin{tabular}{r|llll}\n",
       " rater & mean & sd & sum\\_outliers\\\\\n",
       "\\hline\n",
       "\t 1         & 0.4110143 & 0.1899111 & 0        \\\\\n",
       "\t 2         & 0.3209823 & 0.2271999 & 1        \\\\\n",
       "\t 3         & 0.3406045 & 0.2723814 & 2        \\\\\n",
       "\t 4         & 0.4441768 & 0.2520691 & 0        \\\\\n",
       "\t 5         & 0.5453407 & 0.5039952 & 8        \\\\\n",
       "\t 6         & 0.5294000 & 0.4052402 & 5        \\\\\n",
       "\\end{tabular}\n"
      ],
      "text/markdown": [
       "\n",
       "| rater | mean | sd | sum_outliers |\n",
       "|---|---|---|---|\n",
       "| 1         | 0.4110143 | 0.1899111 | 0         |\n",
       "| 2         | 0.3209823 | 0.2271999 | 1         |\n",
       "| 3         | 0.3406045 | 0.2723814 | 2         |\n",
       "| 4         | 0.4441768 | 0.2520691 | 0         |\n",
       "| 5         | 0.5453407 | 0.5039952 | 8         |\n",
       "| 6         | 0.5294000 | 0.4052402 | 5         |\n",
       "\n"
      ],
      "text/plain": [
       "  rater mean      sd        sum_outliers\n",
       "1 1     0.4110143 0.1899111 0           \n",
       "2 2     0.3209823 0.2271999 1           \n",
       "3 3     0.3406045 0.2723814 2           \n",
       "4 4     0.4441768 0.2520691 0           \n",
       "5 5     0.5453407 0.5039952 8           \n",
       "6 6     0.5294000 0.4052402 5           "
      ]
     },
     "metadata": {},
     "output_type": "display_data"
    }
   ],
   "source": [
    "ddply(df_raters, .(rater), summarize, mean=mean(mean_AFLE), sd=sd(mean_AFLE), sum_outliers=sum(outlier))"
   ]
  },
  {
   "cell_type": "markdown",
   "metadata": {},
   "source": [
    "# Post-QC analysis TODO"
   ]
  },
  {
   "cell_type": "code",
   "execution_count": 10,
   "metadata": {},
   "outputs": [
    {
     "data": {
      "text/plain": [
       "R version 3.6.1 (2019-07-05)\n",
       "Platform: x86_64-apple-darwin13.4.0 (64-bit)\n",
       "Running under: macOS Catalina 10.15.2\n",
       "\n",
       "Matrix products: default\n",
       "BLAS/LAPACK: /Users/jclau/anaconda3/envs/r-tutorial/lib/R/lib/libRblas.dylib\n",
       "\n",
       "locale:\n",
       "[1] en_CA.UTF-8/en_CA.UTF-8/en_CA.UTF-8/C/en_CA.UTF-8/en_CA.UTF-8\n",
       "\n",
       "attached base packages:\n",
       "[1] stats     graphics  grDevices utils     datasets  methods   base     \n",
       "\n",
       "other attached packages:\n",
       "[1] ggplot2_3.1.1  reshape2_1.4.3 digest_0.6.18  plyr_1.8.4    \n",
       "\n",
       "loaded via a namespace (and not attached):\n",
       " [1] Rcpp_1.0.1       magrittr_1.5     tidyselect_0.2.5 munsell_0.5.0   \n",
       " [5] uuid_0.1-2       colorspace_1.4-1 R6_2.4.0         rlang_0.3.4     \n",
       " [9] dplyr_0.8.0.1    stringr_1.4.0    tools_3.6.1      grid_3.6.1      \n",
       "[13] gtable_0.3.0     withr_2.1.2      htmltools_0.3.6  assertthat_0.2.1\n",
       "[17] lazyeval_0.2.2   tibble_2.1.1     crayon_1.3.4     IRdisplay_0.7.0 \n",
       "[21] purrr_0.3.2      repr_0.19.2      base64enc_0.1-3  IRkernel_0.8.15 \n",
       "[25] glue_1.3.1       evaluate_0.13    pbdZMQ_0.3-3     stringi_1.4.3   \n",
       "[29] compiler_3.6.1   pillar_1.3.1     scales_1.0.0     jsonlite_1.6    \n",
       "[33] pkgconfig_2.0.2 "
      ]
     },
     "metadata": {},
     "output_type": "display_data"
    }
   ],
   "source": [
    "# versioning info\n",
    "sessionInfo()"
   ]
  }
 ],
 "metadata": {
  "colab": {
   "name": "PHASE1_template_validation.ipynb",
   "provenance": []
  },
  "kernelspec": {
   "display_name": "R",
   "language": "R",
   "name": "ir"
  },
  "language_info": {
   "codemirror_mode": "r",
   "file_extension": ".r",
   "mimetype": "text/x-r-source",
   "name": "R",
   "pygments_lexer": "r",
   "version": "3.6.1"
  }
 },
 "nbformat": 4,
 "nbformat_minor": 1
}
