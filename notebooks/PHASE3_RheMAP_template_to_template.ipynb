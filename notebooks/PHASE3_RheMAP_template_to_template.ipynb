{
 "cells": [
  {
   "cell_type": "markdown",
   "metadata": {},
   "source": [
    "# Phase 3: Template-to-Template Evaluation\n",
    "\n",
    "This notebook contains results evaluating the correspondence between RheMAP templates (D99, INIA19, macaqueMNI, NMTv1.3, Yerkes19)."
   ]
  },
  {
   "cell_type": "code",
   "execution_count": 1,
   "metadata": {},
   "outputs": [
    {
     "name": "stderr",
     "output_type": "stream",
     "text": [
      "Registered S3 methods overwritten by 'ggplot2':\n",
      "  method         from \n",
      "  [.quosures     rlang\n",
      "  c.quosures     rlang\n",
      "  print.quosures rlang\n"
     ]
    }
   ],
   "source": [
    "# initialize libraries\n",
    "library(plyr)\n",
    "library(digest)\n",
    "library(reshape2)\n",
    "library(ggplot2)"
   ]
  },
  {
   "cell_type": "code",
   "execution_count": 2,
   "metadata": {},
   "outputs": [],
   "source": [
    "# useful functions\n",
    "\n",
    "# calculate the distance between two sets of coordinates\n",
    "dist3D <- function(coord1, coord2) { # vector X,Y,Z\n",
    "        xdist <- coord1[1] - coord2[1] # could also write as coord1$X, etc.\n",
    "        ydist <- coord1[2] - coord2[2]\n",
    "        zdist <- coord1[3] - coord2[3]\n",
    "        euclidean_dist <- sqrt(xdist^2+ydist^2+zdist^2)\n",
    "        return(as.numeric(unlist(euclidean_dist)))\n",
    "}\n",
    "\n",
    "# calculate the pairwise distance between an array of 3D coordinates\n",
    "pairwise_dist3D <- function(temp_coords) { # labeled X,Y,Z\n",
    "        N <- length(temp_coords$X)\n",
    "        dist_vec <- rep(0,N) # create vector\n",
    "        sum_dist <- 0 # initialize to zero\n",
    "        count <- 0\n",
    "        for (i in 1:(N-1)) {\n",
    "                for (j in (i+1):N) {\n",
    "                        if (i != j) {\n",
    "                                count <- count + 1\n",
    "                                first_coord <- temp_coords[i,]\n",
    "                                second_coord <- temp_coords[j,]\n",
    "                                curr_dist <- dist3D(first_coord, second_coord)\n",
    "                                sum_dist <- sum_dist + curr_dist\n",
    "                                dist_vec[count] <- curr_dist\n",
    "                        }\n",
    "                }\n",
    "        }\n",
    "        return(c(as.numeric(unlist(mean(dist_vec))),as.numeric(unlist(sd(dist_vec)))))\n",
    "}"
   ]
  },
  {
   "cell_type": "code",
   "execution_count": 3,
   "metadata": {},
   "outputs": [
    {
     "data": {
      "text/html": [
       "<table>\n",
       "<thead><tr><th scope=col>fid</th><th scope=col>X</th><th scope=col>Y</th><th scope=col>Z</th><th scope=col>moving_template</th><th scope=col>fixed_template</th><th scope=col>xfm</th><th scope=col>name</th><th scope=col>description</th></tr></thead>\n",
       "<tbody>\n",
       "\t<tr><td>1                             </td><td>-0.269                        </td><td>  0.416                       </td><td>  0.187                       </td><td>d99                           </td><td>inia19                        </td><td>nlin                          </td><td>1                             </td><td>AC                            </td></tr>\n",
       "\t<tr><td>2                             </td><td>-0.160                        </td><td>-12.484                       </td><td> -1.242                       </td><td>d99                           </td><td>inia19                        </td><td>nlin                          </td><td>2                             </td><td>PC                            </td></tr>\n",
       "\t<tr><td>3                             </td><td>-0.238                        </td><td>-19.890                       </td><td> -3.171                       </td><td>d99                           </td><td>inia19                        </td><td>nlin                          </td><td>3                             </td><td>infracollicular sulcus        </td></tr>\n",
       "\t<tr><td>4                             </td><td>-0.478                        </td><td>-10.446                       </td><td>-10.850                       </td><td>d99                           </td><td>inia19                        </td><td>nlin                          </td><td>4                             </td><td>PMJ                           </td></tr>\n",
       "\t<tr><td>5                             </td><td>-0.359                        </td><td> -8.024                       </td><td> -6.561                       </td><td>d99                           </td><td>inia19                        </td><td>nlin                          </td><td>5                             </td><td>superior interpeduncular fossa</td></tr>\n",
       "\t<tr><td>6                             </td><td> 6.844                        </td><td>-13.664                       </td><td> -5.708                       </td><td>d99                           </td><td>inia19                        </td><td>nlin                          </td><td>6                             </td><td>R superior LMS                </td></tr>\n",
       "</tbody>\n",
       "</table>\n"
      ],
      "text/latex": [
       "\\begin{tabular}{r|lllllllll}\n",
       " fid & X & Y & Z & moving\\_template & fixed\\_template & xfm & name & description\\\\\n",
       "\\hline\n",
       "\t 1                              & -0.269                         &   0.416                        &   0.187                        & d99                            & inia19                         & nlin                           & 1                              & AC                            \\\\\n",
       "\t 2                              & -0.160                         & -12.484                        &  -1.242                        & d99                            & inia19                         & nlin                           & 2                              & PC                            \\\\\n",
       "\t 3                              & -0.238                         & -19.890                        &  -3.171                        & d99                            & inia19                         & nlin                           & 3                              & infracollicular sulcus        \\\\\n",
       "\t 4                              & -0.478                         & -10.446                        & -10.850                        & d99                            & inia19                         & nlin                           & 4                              & PMJ                           \\\\\n",
       "\t 5                              & -0.359                         &  -8.024                        &  -6.561                        & d99                            & inia19                         & nlin                           & 5                              & superior interpeduncular fossa\\\\\n",
       "\t 6                              &  6.844                         & -13.664                        &  -5.708                        & d99                            & inia19                         & nlin                           & 6                              & R superior LMS                \\\\\n",
       "\\end{tabular}\n"
      ],
      "text/markdown": [
       "\n",
       "| fid | X | Y | Z | moving_template | fixed_template | xfm | name | description |\n",
       "|---|---|---|---|---|---|---|---|---|\n",
       "| 1                              | -0.269                         |   0.416                        |   0.187                        | d99                            | inia19                         | nlin                           | 1                              | AC                             |\n",
       "| 2                              | -0.160                         | -12.484                        |  -1.242                        | d99                            | inia19                         | nlin                           | 2                              | PC                             |\n",
       "| 3                              | -0.238                         | -19.890                        |  -3.171                        | d99                            | inia19                         | nlin                           | 3                              | infracollicular sulcus         |\n",
       "| 4                              | -0.478                         | -10.446                        | -10.850                        | d99                            | inia19                         | nlin                           | 4                              | PMJ                            |\n",
       "| 5                              | -0.359                         |  -8.024                        |  -6.561                        | d99                            | inia19                         | nlin                           | 5                              | superior interpeduncular fossa |\n",
       "| 6                              |  6.844                         | -13.664                        |  -5.708                        | d99                            | inia19                         | nlin                           | 6                              | R superior LMS                 |\n",
       "\n"
      ],
      "text/plain": [
       "  fid X      Y       Z       moving_template fixed_template xfm  name\n",
       "1 1   -0.269   0.416   0.187 d99             inia19         nlin 1   \n",
       "2 2   -0.160 -12.484  -1.242 d99             inia19         nlin 2   \n",
       "3 3   -0.238 -19.890  -3.171 d99             inia19         nlin 3   \n",
       "4 4   -0.478 -10.446 -10.850 d99             inia19         nlin 4   \n",
       "5 5   -0.359  -8.024  -6.561 d99             inia19         nlin 5   \n",
       "6 6    6.844 -13.664  -5.708 d99             inia19         nlin 6   \n",
       "  description                   \n",
       "1 AC                            \n",
       "2 PC                            \n",
       "3 infracollicular sulcus        \n",
       "4 PMJ                           \n",
       "5 superior interpeduncular fossa\n",
       "6 R superior LMS                "
      ]
     },
     "metadata": {},
     "output_type": "display_data"
    }
   ],
   "source": [
    "# initialize variables and load in raw fcsv data into df_raters\n",
    "setwd('~/Documents/GitHub/afids-macaca/data/PHASE3_RheMAP_transformed/')\n",
    "\n",
    "df_afid <- read.table('~/Documents/GitHub/afids-macaca/etc/afids.csv', sep=\",\", header=TRUE)\n",
    "\n",
    "df_regs <- data.frame(fid=integer(),X=double(),Y=double(),Z=double(),\n",
    "                        moving_template=factor(),fixed_template=factor(),xfm=factor(),\n",
    "                        name=character(),description=character(),stringsAsFactors = FALSE)\n",
    "csv_files <- list.files(\".\", \"*.fcsv\")\n",
    "\n",
    "for (i in 1:length(csv_files)) {\n",
    "    curr_split <- unlist(strsplit(csv_files[i],\"_\"))\n",
    "    if (length(curr_split)>1) { # extract name and session data\n",
    "        moving_template <- curr_split[1]\n",
    "        fixed_template <- curr_split[5]\n",
    "        xfm <- as.character(unlist(strsplit(curr_split[6],\"[.]\"))[1])\n",
    "    }\n",
    "    curr_reg <- read.table(csv_files[i], header=FALSE, sep=\",\")\n",
    "    df_reg <- data.frame(fid = 1:length(curr_reg$V1))\n",
    "\n",
    "    df_reg <- cbind(df_reg,X=curr_reg[2],Y=curr_reg[3],Z=curr_reg[4],moving_template=moving_template,\n",
    "                    fixed_template=fixed_template,\n",
    "                    xfm=xfm,name=curr_reg[12],\n",
    "                    description=curr_reg[13])\n",
    "  \n",
    "    df_reg <- rename(df_reg, c(\"V2\"=\"X\",\"V3\"=\"Y\",\"V4\"=\"Z\",\"V12\"=\"name\",\"V13\"=\"description\"))\n",
    "    df_regs <- rbind(df_regs,df_reg)\n",
    "}\n",
    "\n",
    "levels(df_regs$xfm) <- c('nlin','lin') # rename levels\n",
    "head(df_regs)\n"
   ]
  },
  {
   "cell_type": "code",
   "execution_count": 4,
   "metadata": {},
   "outputs": [
    {
     "data": {
      "text/html": [
       "<table>\n",
       "<thead><tr><th scope=col>moving_template</th><th scope=col>xfm</th><th scope=col>mean_dist</th><th scope=col>sd_dist</th></tr></thead>\n",
       "<tbody>\n",
       "\t<tr><td>inia19    </td><td>nlin      </td><td>0.8389328 </td><td>0.4942276 </td></tr>\n",
       "\t<tr><td>inia19    </td><td>lin       </td><td>1.0687900 </td><td>0.5656165 </td></tr>\n",
       "\t<tr><td>macaqueMNI</td><td>nlin      </td><td>0.6123858 </td><td>0.2871578 </td></tr>\n",
       "\t<tr><td>macaqueMNI</td><td>lin       </td><td>0.8659222 </td><td>0.4908373 </td></tr>\n",
       "\t<tr><td>nmtv1.3   </td><td>nlin      </td><td>0.5388126 </td><td>0.4815783 </td></tr>\n",
       "\t<tr><td>nmtv1.3   </td><td>lin       </td><td>0.9604349 </td><td>0.4719488 </td></tr>\n",
       "\t<tr><td>yerkes19  </td><td>nlin      </td><td>0.7265688 </td><td>0.4242849 </td></tr>\n",
       "\t<tr><td>yerkes19  </td><td>lin       </td><td>1.4381401 </td><td>0.5926002 </td></tr>\n",
       "</tbody>\n",
       "</table>\n"
      ],
      "text/latex": [
       "\\begin{tabular}{r|llll}\n",
       " moving\\_template & xfm & mean\\_dist & sd\\_dist\\\\\n",
       "\\hline\n",
       "\t inia19     & nlin       & 0.8389328  & 0.4942276 \\\\\n",
       "\t inia19     & lin        & 1.0687900  & 0.5656165 \\\\\n",
       "\t macaqueMNI & nlin       & 0.6123858  & 0.2871578 \\\\\n",
       "\t macaqueMNI & lin        & 0.8659222  & 0.4908373 \\\\\n",
       "\t nmtv1.3    & nlin       & 0.5388126  & 0.4815783 \\\\\n",
       "\t nmtv1.3    & lin        & 0.9604349  & 0.4719488 \\\\\n",
       "\t yerkes19   & nlin       & 0.7265688  & 0.4242849 \\\\\n",
       "\t yerkes19   & lin        & 1.4381401  & 0.5926002 \\\\\n",
       "\\end{tabular}\n"
      ],
      "text/markdown": [
       "\n",
       "| moving_template | xfm | mean_dist | sd_dist |\n",
       "|---|---|---|---|\n",
       "| inia19     | nlin       | 0.8389328  | 0.4942276  |\n",
       "| inia19     | lin        | 1.0687900  | 0.5656165  |\n",
       "| macaqueMNI | nlin       | 0.6123858  | 0.2871578  |\n",
       "| macaqueMNI | lin        | 0.8659222  | 0.4908373  |\n",
       "| nmtv1.3    | nlin       | 0.5388126  | 0.4815783  |\n",
       "| nmtv1.3    | lin        | 0.9604349  | 0.4719488  |\n",
       "| yerkes19   | nlin       | 0.7265688  | 0.4242849  |\n",
       "| yerkes19   | lin        | 1.4381401  | 0.5926002  |\n",
       "\n"
      ],
      "text/plain": [
       "  moving_template xfm  mean_dist sd_dist  \n",
       "1 inia19          nlin 0.8389328 0.4942276\n",
       "2 inia19          lin  1.0687900 0.5656165\n",
       "3 macaqueMNI      nlin 0.6123858 0.2871578\n",
       "4 macaqueMNI      lin  0.8659222 0.4908373\n",
       "5 nmtv1.3         nlin 0.5388126 0.4815783\n",
       "6 nmtv1.3         lin  0.9604349 0.4719488\n",
       "7 yerkes19        nlin 0.7265688 0.4242849\n",
       "8 yerkes19        lin  1.4381401 0.5926002"
      ]
     },
     "metadata": {},
     "output_type": "display_data"
    }
   ],
   "source": [
    "# Start with templates --> D99\n",
    "\n",
    "# load D99\n",
    "df_D99_mean <- data.frame(fid=integer(),X=double(),Y=double(),Z=double(),stringsAsFactors = FALSE)\n",
    "D99_file <- \"~/Documents/GitHub/afids-macaca/data/PHASE1_output_afid/d99_MEAN.fcsv\"\n",
    "\n",
    "curr_template <- read.table(D99_file, header=FALSE, sep=\",\")\n",
    "df_template <- data.frame(fid = 1:length(curr_template$V1))\n",
    "df_template <- cbind(df_template,X=curr_template[2],Y=curr_template[3],Z=curr_template[4])\n",
    "df_template <- rename(df_template, c(\"V2\"=\"X\",\"V3\"=\"Y\",\"V4\"=\"Z\"))\n",
    "df_D99_mean <- df_template\n",
    "\n",
    "df_D99_results <- subset(df_regs, fixed_template == \"d99\")\n",
    "length_df <- length(df_D99_results$fid)\n",
    "df_D99_results$dist <- rep(0, length_df)\n",
    "\n",
    "for (val in 1:(length_df-1))\n",
    "{\n",
    "    curr_coord <- df_D99_results[val, 2:4]\n",
    "    curr_fid <- df_D99_results[val,]$fid\n",
    "    truth_coord <- df_D99_mean[as.numeric(curr_fid),2:4]\n",
    "    df_D99_results[val,]$dist <- dist3D(curr_coord, truth_coord)\n",
    "}\n",
    "#df_D99_results\n",
    "#subset(df_D99_results, moving_template == 'yerkes19' & xfm == 'nlin')\n",
    "\n",
    "ddply(df_D99_results, .(moving_template,xfm), summarize, mean_dist = mean(dist), sd_dist = sd(dist))"
   ]
  },
  {
   "cell_type": "code",
   "execution_count": 5,
   "metadata": {},
   "outputs": [
    {
     "data": {
      "text/plain": [
       "R version 3.6.1 (2019-07-05)\n",
       "Platform: x86_64-apple-darwin13.4.0 (64-bit)\n",
       "Running under: macOS Catalina 10.15.4\n",
       "\n",
       "Matrix products: default\n",
       "BLAS/LAPACK: /Users/jclau/anaconda3/envs/r-tutorial/lib/R/lib/libRblas.dylib\n",
       "\n",
       "locale:\n",
       "[1] en_CA.UTF-8/UTF-8/en_CA.UTF-8/C/en_CA.UTF-8/en_CA.UTF-8\n",
       "\n",
       "attached base packages:\n",
       "[1] stats     graphics  grDevices utils     datasets  methods   base     \n",
       "\n",
       "other attached packages:\n",
       "[1] ggplot2_3.1.1  reshape2_1.4.3 digest_0.6.18  plyr_1.8.4    \n",
       "\n",
       "loaded via a namespace (and not attached):\n",
       " [1] Rcpp_1.0.1       magrittr_1.5     tidyselect_0.2.5 munsell_0.5.0   \n",
       " [5] uuid_0.1-2       colorspace_1.4-1 R6_2.4.0         rlang_0.3.4     \n",
       " [9] dplyr_0.8.0.1    stringr_1.4.0    tools_3.6.1      grid_3.6.1      \n",
       "[13] gtable_0.3.0     withr_2.1.2      htmltools_0.3.6  assertthat_0.2.1\n",
       "[17] lazyeval_0.2.2   tibble_2.1.1     crayon_1.3.4     IRdisplay_0.7.0 \n",
       "[21] purrr_0.3.2      repr_0.19.2      base64enc_0.1-3  IRkernel_0.8.15 \n",
       "[25] glue_1.3.1       evaluate_0.13    pbdZMQ_0.3-3     stringi_1.4.3   \n",
       "[29] compiler_3.6.1   pillar_1.3.1     scales_1.0.0     jsonlite_1.6    \n",
       "[33] pkgconfig_2.0.2 "
      ]
     },
     "metadata": {},
     "output_type": "display_data"
    }
   ],
   "source": [
    "sessionInfo()"
   ]
  }
 ],
 "metadata": {
  "kernelspec": {
   "display_name": "R",
   "language": "R",
   "name": "ir"
  },
  "language_info": {
   "codemirror_mode": "r",
   "file_extension": ".r",
   "mimetype": "text/x-r-source",
   "name": "R",
   "pygments_lexer": "r",
   "version": "3.6.1"
  }
 },
 "nbformat": 4,
 "nbformat_minor": 2
}
