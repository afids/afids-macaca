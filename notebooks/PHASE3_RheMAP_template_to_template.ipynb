{
 "cells": [
  {
   "cell_type": "markdown",
   "metadata": {},
   "source": [
    "# Phase 3: Template-to-Template Evaluation\n",
    "\n",
    "This notebook contains results evaluating the correspondence between RheMAP templates (D99, INIA19, macaqueMNI, NMTv1.3, Yerkes19)."
   ]
  },
  {
   "cell_type": "code",
   "execution_count": 1,
   "metadata": {},
   "outputs": [
    {
     "name": "stderr",
     "output_type": "stream",
     "text": [
      "Registered S3 methods overwritten by 'ggplot2':\n",
      "  method         from \n",
      "  [.quosures     rlang\n",
      "  c.quosures     rlang\n",
      "  print.quosures rlang\n"
     ]
    }
   ],
   "source": [
    "# initialize libraries\n",
    "library(plyr)\n",
    "library(digest)\n",
    "library(reshape2)\n",
    "library(ggplot2)"
   ]
  },
  {
   "cell_type": "code",
   "execution_count": 2,
   "metadata": {},
   "outputs": [],
   "source": [
    "# useful functions\n",
    "\n",
    "# calculate the distance between two sets of coordinates\n",
    "dist3D <- function(coord1, coord2) { # vector X,Y,Z\n",
    "        xdist <- coord1[1] - coord2[1] # could also write as coord1$X, etc.\n",
    "        ydist <- coord1[2] - coord2[2]\n",
    "        zdist <- coord1[3] - coord2[3]\n",
    "        euclidean_dist <- sqrt(xdist^2+ydist^2+zdist^2)\n",
    "        return(as.numeric(unlist(euclidean_dist)))\n",
    "}\n",
    "\n",
    "# calculate the pairwise distance between an array of 3D coordinates\n",
    "pairwise_dist3D <- function(temp_coords) { # labeled X,Y,Z\n",
    "        N <- length(temp_coords$X)\n",
    "        dist_vec <- rep(0,N) # create vector\n",
    "        sum_dist <- 0 # initialize to zero\n",
    "        count <- 0\n",
    "        for (i in 1:(N-1)) {\n",
    "                for (j in (i+1):N) {\n",
    "                        if (i != j) {\n",
    "                                count <- count + 1\n",
    "                                first_coord <- temp_coords[i,]\n",
    "                                second_coord <- temp_coords[j,]\n",
    "                                curr_dist <- dist3D(first_coord, second_coord)\n",
    "                                sum_dist <- sum_dist + curr_dist\n",
    "                                dist_vec[count] <- curr_dist\n",
    "                        }\n",
    "                }\n",
    "        }\n",
    "        return(c(as.numeric(unlist(mean(dist_vec))),as.numeric(unlist(sd(dist_vec)))))\n",
    "}"
   ]
  },
  {
   "cell_type": "code",
   "execution_count": 3,
   "metadata": {},
   "outputs": [
    {
     "data": {
      "text/html": [
       "<table>\n",
       "<thead><tr><th scope=col>fid</th><th scope=col>X</th><th scope=col>Y</th><th scope=col>Z</th><th scope=col>moving_template</th><th scope=col>fixed_template</th><th scope=col>xfm</th><th scope=col>name</th><th scope=col>description</th></tr></thead>\n",
       "<tbody>\n",
       "\t<tr><td>1                             </td><td>-0.269                        </td><td>  0.416                       </td><td>  0.187                       </td><td>d99                           </td><td>inia19                        </td><td>nlin                          </td><td>1                             </td><td>AC                            </td></tr>\n",
       "\t<tr><td>2                             </td><td>-0.160                        </td><td>-12.484                       </td><td> -1.242                       </td><td>d99                           </td><td>inia19                        </td><td>nlin                          </td><td>2                             </td><td>PC                            </td></tr>\n",
       "\t<tr><td>3                             </td><td>-0.238                        </td><td>-19.890                       </td><td> -3.171                       </td><td>d99                           </td><td>inia19                        </td><td>nlin                          </td><td>3                             </td><td>infracollicular sulcus        </td></tr>\n",
       "\t<tr><td>4                             </td><td>-0.478                        </td><td>-10.446                       </td><td>-10.850                       </td><td>d99                           </td><td>inia19                        </td><td>nlin                          </td><td>4                             </td><td>PMJ                           </td></tr>\n",
       "\t<tr><td>5                             </td><td>-0.359                        </td><td> -8.024                       </td><td> -6.561                       </td><td>d99                           </td><td>inia19                        </td><td>nlin                          </td><td>5                             </td><td>superior interpeduncular fossa</td></tr>\n",
       "\t<tr><td>6                             </td><td> 6.844                        </td><td>-13.664                       </td><td> -5.708                       </td><td>d99                           </td><td>inia19                        </td><td>nlin                          </td><td>6                             </td><td>R superior LMS                </td></tr>\n",
       "</tbody>\n",
       "</table>\n"
      ],
      "text/latex": [
       "\\begin{tabular}{r|lllllllll}\n",
       " fid & X & Y & Z & moving\\_template & fixed\\_template & xfm & name & description\\\\\n",
       "\\hline\n",
       "\t 1                              & -0.269                         &   0.416                        &   0.187                        & d99                            & inia19                         & nlin                           & 1                              & AC                            \\\\\n",
       "\t 2                              & -0.160                         & -12.484                        &  -1.242                        & d99                            & inia19                         & nlin                           & 2                              & PC                            \\\\\n",
       "\t 3                              & -0.238                         & -19.890                        &  -3.171                        & d99                            & inia19                         & nlin                           & 3                              & infracollicular sulcus        \\\\\n",
       "\t 4                              & -0.478                         & -10.446                        & -10.850                        & d99                            & inia19                         & nlin                           & 4                              & PMJ                           \\\\\n",
       "\t 5                              & -0.359                         &  -8.024                        &  -6.561                        & d99                            & inia19                         & nlin                           & 5                              & superior interpeduncular fossa\\\\\n",
       "\t 6                              &  6.844                         & -13.664                        &  -5.708                        & d99                            & inia19                         & nlin                           & 6                              & R superior LMS                \\\\\n",
       "\\end{tabular}\n"
      ],
      "text/markdown": [
       "\n",
       "| fid | X | Y | Z | moving_template | fixed_template | xfm | name | description |\n",
       "|---|---|---|---|---|---|---|---|---|\n",
       "| 1                              | -0.269                         |   0.416                        |   0.187                        | d99                            | inia19                         | nlin                           | 1                              | AC                             |\n",
       "| 2                              | -0.160                         | -12.484                        |  -1.242                        | d99                            | inia19                         | nlin                           | 2                              | PC                             |\n",
       "| 3                              | -0.238                         | -19.890                        |  -3.171                        | d99                            | inia19                         | nlin                           | 3                              | infracollicular sulcus         |\n",
       "| 4                              | -0.478                         | -10.446                        | -10.850                        | d99                            | inia19                         | nlin                           | 4                              | PMJ                            |\n",
       "| 5                              | -0.359                         |  -8.024                        |  -6.561                        | d99                            | inia19                         | nlin                           | 5                              | superior interpeduncular fossa |\n",
       "| 6                              |  6.844                         | -13.664                        |  -5.708                        | d99                            | inia19                         | nlin                           | 6                              | R superior LMS                 |\n",
       "\n"
      ],
      "text/plain": [
       "  fid X      Y       Z       moving_template fixed_template xfm  name\n",
       "1 1   -0.269   0.416   0.187 d99             inia19         nlin 1   \n",
       "2 2   -0.160 -12.484  -1.242 d99             inia19         nlin 2   \n",
       "3 3   -0.238 -19.890  -3.171 d99             inia19         nlin 3   \n",
       "4 4   -0.478 -10.446 -10.850 d99             inia19         nlin 4   \n",
       "5 5   -0.359  -8.024  -6.561 d99             inia19         nlin 5   \n",
       "6 6    6.844 -13.664  -5.708 d99             inia19         nlin 6   \n",
       "  description                   \n",
       "1 AC                            \n",
       "2 PC                            \n",
       "3 infracollicular sulcus        \n",
       "4 PMJ                           \n",
       "5 superior interpeduncular fossa\n",
       "6 R superior LMS                "
      ]
     },
     "metadata": {},
     "output_type": "display_data"
    }
   ],
   "source": [
    "# initialize variables and load in raw fcsv data into df_raters\n",
    "setwd('~/Documents/GitHub/afids-macaca/data/PHASE3_RheMAP_transformed/')\n",
    "\n",
    "df_afid <- read.table('~/Documents/GitHub/afids-macaca/etc/afids.csv', sep=\",\", header=TRUE)\n",
    "\n",
    "df_regs <- data.frame(fid=integer(),X=double(),Y=double(),Z=double(),\n",
    "                        moving_template=factor(),fixed_template=factor(),xfm=factor(),\n",
    "                        name=character(),description=character(),stringsAsFactors = FALSE)\n",
    "csv_files <- list.files(\".\", \"*.fcsv\")\n",
    "\n",
    "for (i in 1:length(csv_files)) {\n",
    "    curr_split <- unlist(strsplit(csv_files[i],\"_\"))\n",
    "    if (length(curr_split)>1) { # extract name and session data\n",
    "        moving_template <- curr_split[1]\n",
    "        fixed_template <- curr_split[5]\n",
    "        xfm <- as.character(unlist(strsplit(curr_split[6],\"[.]\"))[1])\n",
    "    }\n",
    "    curr_reg <- read.table(csv_files[i], header=FALSE, sep=\",\")\n",
    "    df_reg <- data.frame(fid = 1:length(curr_reg$V1))\n",
    "\n",
    "    df_reg <- cbind(df_reg,X=curr_reg[2],Y=curr_reg[3],Z=curr_reg[4],moving_template=moving_template,\n",
    "                    fixed_template=fixed_template,\n",
    "                    xfm=xfm,name=curr_reg[12],\n",
    "                    description=curr_reg[13])\n",
    "  \n",
    "    df_reg <- rename(df_reg, c(\"V2\"=\"X\",\"V3\"=\"Y\",\"V4\"=\"Z\",\"V12\"=\"name\",\"V13\"=\"description\"))\n",
    "    df_regs <- rbind(df_regs,df_reg)\n",
    "}\n",
    "\n",
    "levels(df_regs$xfm) <- c('nlin','lin') # rename levels\n",
    "head(df_regs)\n"
   ]
  },
  {
   "cell_type": "markdown",
   "metadata": {},
   "source": [
    "## Templates to D99"
   ]
  },
  {
   "cell_type": "code",
   "execution_count": 4,
   "metadata": {},
   "outputs": [],
   "source": [
    "# Start with other templates --> D99\n",
    "\n",
    "# load D99\n",
    "df_D99_mean <- data.frame(fid=integer(),X=double(),Y=double(),Z=double(),stringsAsFactors = FALSE)\n",
    "D99_file <- \"~/Documents/GitHub/afids-macaca/data/PHASE1_output_afid/d99_MEAN.fcsv\"\n",
    "\n",
    "curr_template <- read.table(D99_file, header=FALSE, sep=\",\")\n",
    "df_template <- data.frame(fid = 1:length(curr_template$V1))\n",
    "df_template <- cbind(df_template,X=curr_template[2],Y=curr_template[3],Z=curr_template[4])\n",
    "df_template <- rename(df_template, c(\"V2\"=\"X\",\"V3\"=\"Y\",\"V4\"=\"Z\"))\n",
    "df_D99_mean <- df_template\n",
    "\n",
    "df_D99_results <- subset(df_regs, fixed_template == \"d99\")\n",
    "length_df <- length(df_D99_results$fid)\n",
    "df_D99_results$dist <- rep(0, length_df)\n",
    "\n",
    "for (val in 1:(length_df-1))\n",
    "{\n",
    "    curr_coord <- df_D99_results[val, 2:4]\n",
    "    curr_fid <- df_D99_results[val,]$fid\n",
    "    truth_coord <- df_D99_mean[as.numeric(curr_fid),2:4]\n",
    "    df_D99_results[val,]$dist <- dist3D(curr_coord, truth_coord)\n",
    "}\n",
    "#ddply(df_D99_results, .(moving_template,xfm), summarize, mean_dist = mean(dist), sd_dist = sd(dist))\n"
   ]
  },
  {
   "cell_type": "markdown",
   "metadata": {},
   "source": [
    "## Templates to inia19"
   ]
  },
  {
   "cell_type": "code",
   "execution_count": 5,
   "metadata": {},
   "outputs": [],
   "source": [
    "# other templates --> inia19\n",
    "\n",
    "# load inia19\n",
    "df_inia19_mean <- data.frame(fid=integer(),X=double(),Y=double(),Z=double(),stringsAsFactors = FALSE)\n",
    "inia19_file <- \"~/Documents/GitHub/afids-macaca/data/PHASE1_output_afid/inia19_MEAN.fcsv\"\n",
    "\n",
    "curr_template <- read.table(inia19_file, header=FALSE, sep=\",\")\n",
    "df_template <- data.frame(fid = 1:length(curr_template$V1))\n",
    "df_template <- cbind(df_template,X=curr_template[2],Y=curr_template[3],Z=curr_template[4])\n",
    "df_template <- rename(df_template, c(\"V2\"=\"X\",\"V3\"=\"Y\",\"V4\"=\"Z\"))\n",
    "df_inia19_mean <- df_template\n",
    "\n",
    "df_inia19_results <- subset(df_regs, fixed_template == \"inia19\")\n",
    "length_df <- length(df_inia19_results$fid)\n",
    "df_inia19_results$dist <- rep(0, length_df)\n",
    "\n",
    "for (val in 1:(length_df-1))\n",
    "{\n",
    "  curr_coord <- df_inia19_results[val, 2:4]\n",
    "  curr_fid <- df_inia19_results[val,]$fid\n",
    "  truth_coord <- df_inia19_mean[as.numeric(curr_fid),2:4]\n",
    "  df_inia19_results[val,]$dist <- dist3D(curr_coord, truth_coord)\n",
    "}\n",
    "#ddply(df_inia19_results, .(moving_template,xfm), summarize, mean_dist = mean(dist), sd_dist = sd(dist))"
   ]
  },
  {
   "cell_type": "markdown",
   "metadata": {},
   "source": [
    "## Templates to macaqueMNI"
   ]
  },
  {
   "cell_type": "code",
   "execution_count": 6,
   "metadata": {},
   "outputs": [],
   "source": [
    "# Start with other templates --> macaqueMNI\n",
    "\n",
    "# load macaqueMNI\n",
    "df_macaqueMNI_mean <- data.frame(fid=integer(),X=double(),Y=double(),Z=double(),stringsAsFactors = FALSE)\n",
    "macaqueMNI_file <- \"~/Documents/GitHub/afids-macaca/data/PHASE1_output_afid/macaqueMNI_MEAN.fcsv\"\n",
    "\n",
    "curr_template <- read.table(macaqueMNI_file, header=FALSE, sep=\",\")\n",
    "df_template <- data.frame(fid = 1:length(curr_template$V1))\n",
    "df_template <- cbind(df_template,X=curr_template[2],Y=curr_template[3],Z=curr_template[4])\n",
    "df_template <- rename(df_template, c(\"V2\"=\"X\",\"V3\"=\"Y\",\"V4\"=\"Z\"))\n",
    "df_macaqueMNI_mean <- df_template\n",
    "\n",
    "df_macaqueMNI_results <- subset(df_regs, fixed_template == \"macaqueMNI\")\n",
    "length_df <- length(df_macaqueMNI_results$fid)\n",
    "df_macaqueMNI_results$dist <- rep(0, length_df)\n",
    "\n",
    "for (val in 1:(length_df-1))\n",
    "{\n",
    "  curr_coord <- df_macaqueMNI_results[val, 2:4]\n",
    "  curr_fid <- df_macaqueMNI_results[val,]$fid\n",
    "  truth_coord <- df_macaqueMNI_mean[as.numeric(curr_fid),2:4]\n",
    "  df_macaqueMNI_results[val,]$dist <- dist3D(curr_coord, truth_coord)\n",
    "}\n",
    "#ddply(df_macaqueMNI_results, .(moving_template,xfm), summarize, mean_dist = mean(dist), sd_dist = sd(dist))"
   ]
  },
  {
   "cell_type": "markdown",
   "metadata": {},
   "source": [
    "## Templates to NMTv1.3"
   ]
  },
  {
   "cell_type": "code",
   "execution_count": 7,
   "metadata": {},
   "outputs": [],
   "source": [
    "# Start with other templates --> nmtv1.3\n",
    "\n",
    "# load nmtv1.3\n",
    "df_nmtv1.3_mean <- data.frame(fid=integer(),X=double(),Y=double(),Z=double(),stringsAsFactors = FALSE)\n",
    "nmtv1.3_file <- \"~/Documents/GitHub/afids-macaca/data/PHASE1_output_afid/nmtv1.3_MEAN.fcsv\"\n",
    "\n",
    "curr_template <- read.table(nmtv1.3_file, header=FALSE, sep=\",\")\n",
    "df_template <- data.frame(fid = 1:length(curr_template$V1))\n",
    "df_template <- cbind(df_template,X=curr_template[2],Y=curr_template[3],Z=curr_template[4])\n",
    "df_template <- rename(df_template, c(\"V2\"=\"X\",\"V3\"=\"Y\",\"V4\"=\"Z\"))\n",
    "df_nmtv1.3_mean <- df_template\n",
    "\n",
    "df_nmtv1.3_results <- subset(df_regs, fixed_template == \"nmtv1.3\")\n",
    "length_df <- length(df_nmtv1.3_results$fid)\n",
    "df_nmtv1.3_results$dist <- rep(0, length_df)\n",
    "\n",
    "for (val in 1:(length_df-1))\n",
    "{\n",
    "  curr_coord <- df_nmtv1.3_results[val, 2:4]\n",
    "  curr_fid <- df_nmtv1.3_results[val,]$fid\n",
    "  truth_coord <- df_nmtv1.3_mean[as.numeric(curr_fid),2:4]\n",
    "  df_nmtv1.3_results[val,]$dist <- dist3D(curr_coord, truth_coord)\n",
    "}\n",
    "#ddply(df_nmtv1.3_results, .(moving_template,xfm), summarize, mean_dist = mean(dist), sd_dist = sd(dist))"
   ]
  },
  {
   "cell_type": "markdown",
   "metadata": {},
   "source": [
    "## Templates to Yerkes19"
   ]
  },
  {
   "cell_type": "code",
   "execution_count": 8,
   "metadata": {},
   "outputs": [],
   "source": [
    "# Start with other templates --> yerkes19\n",
    "\n",
    "# load yerkes19\n",
    "df_yerkes19_mean <- data.frame(fid=integer(),X=double(),Y=double(),Z=double(),stringsAsFactors = FALSE)\n",
    "yerkes19_file <- \"~/Documents/GitHub/afids-macaca/data/PHASE1_output_afid/yerkes19_MEAN.fcsv\"\n",
    "\n",
    "curr_template <- read.table(yerkes19_file, header=FALSE, sep=\",\")\n",
    "df_template <- data.frame(fid = 1:length(curr_template$V1))\n",
    "df_template <- cbind(df_template,X=curr_template[2],Y=curr_template[3],Z=curr_template[4])\n",
    "df_template <- rename(df_template, c(\"V2\"=\"X\",\"V3\"=\"Y\",\"V4\"=\"Z\"))\n",
    "df_yerkes19_mean <- df_template\n",
    "\n",
    "df_yerkes19_results <- subset(df_regs, fixed_template == \"yerkes19\")\n",
    "length_df <- length(df_yerkes19_results$fid)\n",
    "df_yerkes19_results$dist <- rep(0, length_df)\n",
    "\n",
    "for (val in 1:(length_df-1))\n",
    "{\n",
    "  curr_coord <- df_yerkes19_results[val, 2:4]\n",
    "  curr_fid <- df_yerkes19_results[val,]$fid\n",
    "  truth_coord <- df_yerkes19_mean[as.numeric(curr_fid),2:4]\n",
    "  df_yerkes19_results[val,]$dist <- dist3D(curr_coord, truth_coord)\n",
    "}\n",
    "#ddply(df_yerkes19_results, .(moving_template,xfm), summarize, mean_dist = mean(dist), sd_dist = sd(dist))"
   ]
  },
  {
   "cell_type": "code",
   "execution_count": 9,
   "metadata": {},
   "outputs": [],
   "source": [
    "# Merge them all back together\n",
    "df_all <- rbind(df_D99_results, df_inia19_results)\n",
    "df_all <- rbind(df_all, df_macaqueMNI_results)\n",
    "df_all <- rbind(df_all, df_nmtv1.3_results)\n",
    "df_all <- rbind(df_all, df_yerkes19_results)"
   ]
  },
  {
   "cell_type": "code",
   "execution_count": 10,
   "metadata": {},
   "outputs": [
    {
     "data": {
      "text/html": [
       "<table>\n",
       "<thead><tr><th scope=col>moving_template</th><th scope=col>xfm</th><th scope=col>mean_dist</th><th scope=col>sd_dist</th></tr></thead>\n",
       "<tbody>\n",
       "\t<tr><td>d99       </td><td>nlin      </td><td>0.6701923 </td><td>0.4727266 </td></tr>\n",
       "\t<tr><td>d99       </td><td>lin       </td><td>1.0734210 </td><td>0.5721741 </td></tr>\n",
       "\t<tr><td>inia19    </td><td>nlin      </td><td>0.7206973 </td><td>0.5626851 </td></tr>\n",
       "\t<tr><td>inia19    </td><td>lin       </td><td>0.9380699 </td><td>0.6053298 </td></tr>\n",
       "\t<tr><td>macaqueMNI</td><td>nlin      </td><td>0.5177407 </td><td>0.3605860 </td></tr>\n",
       "\t<tr><td>macaqueMNI</td><td>lin       </td><td>0.8667511 </td><td>0.5135491 </td></tr>\n",
       "\t<tr><td>nmtv1.3   </td><td>nlin      </td><td>0.8415324 </td><td>0.9151837 </td></tr>\n",
       "\t<tr><td>nmtv1.3   </td><td>lin       </td><td>0.9708099 </td><td>0.6926570 </td></tr>\n",
       "\t<tr><td>yerkes19  </td><td>nlin      </td><td>0.7146474 </td><td>0.5276831 </td></tr>\n",
       "\t<tr><td>yerkes19  </td><td>lin       </td><td>1.2838677 </td><td>0.5281260 </td></tr>\n",
       "</tbody>\n",
       "</table>\n"
      ],
      "text/latex": [
       "\\begin{tabular}{r|llll}\n",
       " moving\\_template & xfm & mean\\_dist & sd\\_dist\\\\\n",
       "\\hline\n",
       "\t d99        & nlin       & 0.6701923  & 0.4727266 \\\\\n",
       "\t d99        & lin        & 1.0734210  & 0.5721741 \\\\\n",
       "\t inia19     & nlin       & 0.7206973  & 0.5626851 \\\\\n",
       "\t inia19     & lin        & 0.9380699  & 0.6053298 \\\\\n",
       "\t macaqueMNI & nlin       & 0.5177407  & 0.3605860 \\\\\n",
       "\t macaqueMNI & lin        & 0.8667511  & 0.5135491 \\\\\n",
       "\t nmtv1.3    & nlin       & 0.8415324  & 0.9151837 \\\\\n",
       "\t nmtv1.3    & lin        & 0.9708099  & 0.6926570 \\\\\n",
       "\t yerkes19   & nlin       & 0.7146474  & 0.5276831 \\\\\n",
       "\t yerkes19   & lin        & 1.2838677  & 0.5281260 \\\\\n",
       "\\end{tabular}\n"
      ],
      "text/markdown": [
       "\n",
       "| moving_template | xfm | mean_dist | sd_dist |\n",
       "|---|---|---|---|\n",
       "| d99        | nlin       | 0.6701923  | 0.4727266  |\n",
       "| d99        | lin        | 1.0734210  | 0.5721741  |\n",
       "| inia19     | nlin       | 0.7206973  | 0.5626851  |\n",
       "| inia19     | lin        | 0.9380699  | 0.6053298  |\n",
       "| macaqueMNI | nlin       | 0.5177407  | 0.3605860  |\n",
       "| macaqueMNI | lin        | 0.8667511  | 0.5135491  |\n",
       "| nmtv1.3    | nlin       | 0.8415324  | 0.9151837  |\n",
       "| nmtv1.3    | lin        | 0.9708099  | 0.6926570  |\n",
       "| yerkes19   | nlin       | 0.7146474  | 0.5276831  |\n",
       "| yerkes19   | lin        | 1.2838677  | 0.5281260  |\n",
       "\n"
      ],
      "text/plain": [
       "   moving_template xfm  mean_dist sd_dist  \n",
       "1  d99             nlin 0.6701923 0.4727266\n",
       "2  d99             lin  1.0734210 0.5721741\n",
       "3  inia19          nlin 0.7206973 0.5626851\n",
       "4  inia19          lin  0.9380699 0.6053298\n",
       "5  macaqueMNI      nlin 0.5177407 0.3605860\n",
       "6  macaqueMNI      lin  0.8667511 0.5135491\n",
       "7  nmtv1.3         nlin 0.8415324 0.9151837\n",
       "8  nmtv1.3         lin  0.9708099 0.6926570\n",
       "9  yerkes19        nlin 0.7146474 0.5276831\n",
       "10 yerkes19        lin  1.2838677 0.5281260"
      ]
     },
     "metadata": {},
     "output_type": "display_data"
    }
   ],
   "source": [
    "# assessment of accuracy for moving template\n",
    "ddply(df_all, .(moving_template,xfm), summarize, mean_dist = mean(dist), sd_dist = sd(dist))"
   ]
  },
  {
   "cell_type": "code",
   "execution_count": 11,
   "metadata": {},
   "outputs": [
    {
     "data": {
      "text/html": [
       "<table>\n",
       "<thead><tr><th scope=col>fixed_template</th><th scope=col>xfm</th><th scope=col>mean_dist</th><th scope=col>sd_dist</th></tr></thead>\n",
       "<tbody>\n",
       "\t<tr><td>inia19    </td><td>nlin      </td><td>0.7538142 </td><td>0.6028571 </td></tr>\n",
       "\t<tr><td>inia19    </td><td>lin       </td><td>0.9286076 </td><td>0.6049572 </td></tr>\n",
       "\t<tr><td>macaqueMNI</td><td>nlin      </td><td>0.4904819 </td><td>0.3421030 </td></tr>\n",
       "\t<tr><td>macaqueMNI</td><td>lin       </td><td>0.7835461 </td><td>0.4637025 </td></tr>\n",
       "\t<tr><td>nmtv1.3   </td><td>nlin      </td><td>0.7109190 </td><td>0.6738451 </td></tr>\n",
       "\t<tr><td>nmtv1.3   </td><td>lin       </td><td>0.9323473 </td><td>0.6556214 </td></tr>\n",
       "\t<tr><td>yerkes19  </td><td>nlin      </td><td>0.8304200 </td><td>0.8053213 </td></tr>\n",
       "\t<tr><td>yerkes19  </td><td>lin       </td><td>1.4079595 </td><td>0.5092159 </td></tr>\n",
       "\t<tr><td>d99       </td><td>nlin      </td><td>0.6791750 </td><td>0.4397577 </td></tr>\n",
       "\t<tr><td>d99       </td><td>lin       </td><td>1.0804591 </td><td>0.5693225 </td></tr>\n",
       "</tbody>\n",
       "</table>\n"
      ],
      "text/latex": [
       "\\begin{tabular}{r|llll}\n",
       " fixed\\_template & xfm & mean\\_dist & sd\\_dist\\\\\n",
       "\\hline\n",
       "\t inia19     & nlin       & 0.7538142  & 0.6028571 \\\\\n",
       "\t inia19     & lin        & 0.9286076  & 0.6049572 \\\\\n",
       "\t macaqueMNI & nlin       & 0.4904819  & 0.3421030 \\\\\n",
       "\t macaqueMNI & lin        & 0.7835461  & 0.4637025 \\\\\n",
       "\t nmtv1.3    & nlin       & 0.7109190  & 0.6738451 \\\\\n",
       "\t nmtv1.3    & lin        & 0.9323473  & 0.6556214 \\\\\n",
       "\t yerkes19   & nlin       & 0.8304200  & 0.8053213 \\\\\n",
       "\t yerkes19   & lin        & 1.4079595  & 0.5092159 \\\\\n",
       "\t d99        & nlin       & 0.6791750  & 0.4397577 \\\\\n",
       "\t d99        & lin        & 1.0804591  & 0.5693225 \\\\\n",
       "\\end{tabular}\n"
      ],
      "text/markdown": [
       "\n",
       "| fixed_template | xfm | mean_dist | sd_dist |\n",
       "|---|---|---|---|\n",
       "| inia19     | nlin       | 0.7538142  | 0.6028571  |\n",
       "| inia19     | lin        | 0.9286076  | 0.6049572  |\n",
       "| macaqueMNI | nlin       | 0.4904819  | 0.3421030  |\n",
       "| macaqueMNI | lin        | 0.7835461  | 0.4637025  |\n",
       "| nmtv1.3    | nlin       | 0.7109190  | 0.6738451  |\n",
       "| nmtv1.3    | lin        | 0.9323473  | 0.6556214  |\n",
       "| yerkes19   | nlin       | 0.8304200  | 0.8053213  |\n",
       "| yerkes19   | lin        | 1.4079595  | 0.5092159  |\n",
       "| d99        | nlin       | 0.6791750  | 0.4397577  |\n",
       "| d99        | lin        | 1.0804591  | 0.5693225  |\n",
       "\n"
      ],
      "text/plain": [
       "   fixed_template xfm  mean_dist sd_dist  \n",
       "1  inia19         nlin 0.7538142 0.6028571\n",
       "2  inia19         lin  0.9286076 0.6049572\n",
       "3  macaqueMNI     nlin 0.4904819 0.3421030\n",
       "4  macaqueMNI     lin  0.7835461 0.4637025\n",
       "5  nmtv1.3        nlin 0.7109190 0.6738451\n",
       "6  nmtv1.3        lin  0.9323473 0.6556214\n",
       "7  yerkes19       nlin 0.8304200 0.8053213\n",
       "8  yerkes19       lin  1.4079595 0.5092159\n",
       "9  d99            nlin 0.6791750 0.4397577\n",
       "10 d99            lin  1.0804591 0.5693225"
      ]
     },
     "metadata": {},
     "output_type": "display_data"
    }
   ],
   "source": [
    "# assessment of accuracy for fixed template\n",
    "ddply(df_all, .(fixed_template,xfm), summarize, mean_dist = mean(dist), sd_dist = sd(dist))"
   ]
  },
  {
   "cell_type": "code",
   "execution_count": 12,
   "metadata": {},
   "outputs": [
    {
     "data": {
      "text/html": [
       "<table>\n",
       "<thead><tr><th></th><th scope=col>fid</th><th scope=col>description</th><th scope=col>mean_dist</th><th scope=col>sd_dist</th></tr></thead>\n",
       "<tbody>\n",
       "\t<tr><th scope=row>10</th><td>10                         </td><td>culmen                     </td><td>1.157730                   </td><td>0.8131759                  </td></tr>\n",
       "\t<tr><th scope=row>25</th><td>25                         </td><td>R inferior AM temporal horn</td><td>1.332857                   </td><td>0.9094108                  </td></tr>\n",
       "\t<tr><th scope=row>26</th><td>26                         </td><td>L inferior AM temporal horn</td><td>1.207916                   </td><td>0.8075759                  </td></tr>\n",
       "\t<tr><th scope=row>29</th><td>29                         </td><td>R ventral occipital horn   </td><td>1.462895                   </td><td>1.0851031                  </td></tr>\n",
       "\t<tr><th scope=row>30</th><td>30                         </td><td>L ventral occipital horn   </td><td>1.292283                   </td><td>0.8382223                  </td></tr>\n",
       "</tbody>\n",
       "</table>\n"
      ],
      "text/latex": [
       "\\begin{tabular}{r|llll}\n",
       "  & fid & description & mean\\_dist & sd\\_dist\\\\\n",
       "\\hline\n",
       "\t10 & 10                          & culmen                      & 1.157730                    & 0.8131759                  \\\\\n",
       "\t25 & 25                          & R inferior AM temporal horn & 1.332857                    & 0.9094108                  \\\\\n",
       "\t26 & 26                          & L inferior AM temporal horn & 1.207916                    & 0.8075759                  \\\\\n",
       "\t29 & 29                          & R ventral occipital horn    & 1.462895                    & 1.0851031                  \\\\\n",
       "\t30 & 30                          & L ventral occipital horn    & 1.292283                    & 0.8382223                  \\\\\n",
       "\\end{tabular}\n"
      ],
      "text/markdown": [
       "\n",
       "| <!--/--> | fid | description | mean_dist | sd_dist |\n",
       "|---|---|---|---|---|\n",
       "| 10 | 10                          | culmen                      | 1.157730                    | 0.8131759                   |\n",
       "| 25 | 25                          | R inferior AM temporal horn | 1.332857                    | 0.9094108                   |\n",
       "| 26 | 26                          | L inferior AM temporal horn | 1.207916                    | 0.8075759                   |\n",
       "| 29 | 29                          | R ventral occipital horn    | 1.462895                    | 1.0851031                   |\n",
       "| 30 | 30                          | L ventral occipital horn    | 1.292283                    | 0.8382223                   |\n",
       "\n"
      ],
      "text/plain": [
       "   fid description                 mean_dist sd_dist  \n",
       "10 10  culmen                      1.157730  0.8131759\n",
       "25 25  R inferior AM temporal horn 1.332857  0.9094108\n",
       "26 26  L inferior AM temporal horn 1.207916  0.8075759\n",
       "29 29  R ventral occipital horn    1.462895  1.0851031\n",
       "30 30  L ventral occipital horn    1.292283  0.8382223"
      ]
     },
     "metadata": {},
     "output_type": "display_data"
    }
   ],
   "source": [
    "# assessment of afids after nonlinear registration\n",
    "subset(ddply(subset(df_all, xfm == 'nlin'), .(fid,description), summarize, mean_dist = mean(dist), sd_dist = sd(dist)), mean_dist > 1)"
   ]
  },
  {
   "cell_type": "code",
   "execution_count": 13,
   "metadata": {},
   "outputs": [
    {
     "data": {
      "text/plain": [
       "R version 3.6.1 (2019-07-05)\n",
       "Platform: x86_64-apple-darwin13.4.0 (64-bit)\n",
       "Running under: macOS Catalina 10.15.4\n",
       "\n",
       "Matrix products: default\n",
       "BLAS/LAPACK: /Users/jclau/anaconda3/envs/r-tutorial/lib/R/lib/libRblas.dylib\n",
       "\n",
       "locale:\n",
       "[1] en_CA.UTF-8/UTF-8/en_CA.UTF-8/C/en_CA.UTF-8/en_CA.UTF-8\n",
       "\n",
       "attached base packages:\n",
       "[1] stats     graphics  grDevices utils     datasets  methods   base     \n",
       "\n",
       "other attached packages:\n",
       "[1] ggplot2_3.1.1  reshape2_1.4.3 digest_0.6.18  plyr_1.8.4    \n",
       "\n",
       "loaded via a namespace (and not attached):\n",
       " [1] Rcpp_1.0.1       magrittr_1.5     tidyselect_0.2.5 munsell_0.5.0   \n",
       " [5] uuid_0.1-2       colorspace_1.4-1 R6_2.4.0         rlang_0.3.4     \n",
       " [9] dplyr_0.8.0.1    stringr_1.4.0    tools_3.6.1      grid_3.6.1      \n",
       "[13] gtable_0.3.0     withr_2.1.2      htmltools_0.3.6  assertthat_0.2.1\n",
       "[17] lazyeval_0.2.2   tibble_2.1.1     crayon_1.3.4     IRdisplay_0.7.0 \n",
       "[21] purrr_0.3.2      repr_0.19.2      base64enc_0.1-3  IRkernel_0.8.15 \n",
       "[25] glue_1.3.1       evaluate_0.13    pbdZMQ_0.3-3     stringi_1.4.3   \n",
       "[29] compiler_3.6.1   pillar_1.3.1     scales_1.0.0     jsonlite_1.6    \n",
       "[33] pkgconfig_2.0.2 "
      ]
     },
     "metadata": {},
     "output_type": "display_data"
    }
   ],
   "source": [
    "sessionInfo()"
   ]
  }
 ],
 "metadata": {
  "kernelspec": {
   "display_name": "R",
   "language": "R",
   "name": "ir"
  },
  "language_info": {
   "codemirror_mode": "r",
   "file_extension": ".r",
   "mimetype": "text/x-r-source",
   "name": "R",
   "pygments_lexer": "r",
   "version": "3.6.1"
  }
 },
 "nbformat": 4,
 "nbformat_minor": 2
}
